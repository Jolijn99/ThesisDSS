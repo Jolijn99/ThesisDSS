{
 "cells": [
  {
   "cell_type": "markdown",
   "id": "7b1e8302",
   "metadata": {},
   "source": [
    "<font size=\"5\">Thesis file</font>\n",
    "<br>\n",
    "\n",
    "</font>"
   ]
  },
  {
   "cell_type": "markdown",
   "id": "dc014d8c",
   "metadata": {},
   "source": [
    "<font size=\"4\">1. Install necessities</font>\n",
    "<br>\n",
    "\n"
   ]
  },
  {
   "cell_type": "code",
   "execution_count": 1,
   "id": "54453049",
   "metadata": {
    "scrolled": true
   },
   "outputs": [
    {
     "name": "stdout",
     "output_type": "stream",
     "text": [
      "Requirement already satisfied: pandas in /Users/jolijneikelboom/opt/anaconda3/lib/python3.8/site-packages (1.5.0)\n",
      "Requirement already satisfied: plotnine in /Users/jolijneikelboom/opt/anaconda3/lib/python3.8/site-packages (0.10.1)\n",
      "Requirement already satisfied: python-dateutil>=2.8.1 in /Users/jolijneikelboom/opt/anaconda3/lib/python3.8/site-packages (from pandas) (2.8.1)\n",
      "Requirement already satisfied: numpy>=1.20.3 in /Users/jolijneikelboom/opt/anaconda3/lib/python3.8/site-packages (from pandas) (1.22.4)\n",
      "Requirement already satisfied: pytz>=2020.1 in /Users/jolijneikelboom/opt/anaconda3/lib/python3.8/site-packages (from pandas) (2021.1)\n",
      "Requirement already satisfied: patsy>=0.5.1 in /Users/jolijneikelboom/opt/anaconda3/lib/python3.8/site-packages (from plotnine) (0.5.3)\n",
      "Requirement already satisfied: scipy>=1.5.0 in /Users/jolijneikelboom/opt/anaconda3/lib/python3.8/site-packages (from plotnine) (1.9.3)\n",
      "Requirement already satisfied: matplotlib>=3.5.0 in /Users/jolijneikelboom/opt/anaconda3/lib/python3.8/site-packages (from plotnine) (3.6.1)\n",
      "Requirement already satisfied: mizani>=0.8.1 in /Users/jolijneikelboom/opt/anaconda3/lib/python3.8/site-packages (from plotnine) (0.8.1)\n",
      "Requirement already satisfied: statsmodels>=0.13.2 in /Users/jolijneikelboom/opt/anaconda3/lib/python3.8/site-packages (from plotnine) (0.13.2)\n",
      "Requirement already satisfied: pyparsing>=2.2.1 in /Users/jolijneikelboom/opt/anaconda3/lib/python3.8/site-packages (from matplotlib>=3.5.0->plotnine) (2.4.7)\n",
      "Requirement already satisfied: kiwisolver>=1.0.1 in /Users/jolijneikelboom/opt/anaconda3/lib/python3.8/site-packages (from matplotlib>=3.5.0->plotnine) (1.3.1)\n",
      "Requirement already satisfied: packaging>=20.0 in /Users/jolijneikelboom/opt/anaconda3/lib/python3.8/site-packages (from matplotlib>=3.5.0->plotnine) (21.3)\n",
      "Requirement already satisfied: fonttools>=4.22.0 in /Users/jolijneikelboom/opt/anaconda3/lib/python3.8/site-packages (from matplotlib>=3.5.0->plotnine) (4.37.4)\n",
      "Requirement already satisfied: pillow>=6.2.0 in /Users/jolijneikelboom/opt/anaconda3/lib/python3.8/site-packages (from matplotlib>=3.5.0->plotnine) (8.2.0)\n",
      "Requirement already satisfied: contourpy>=1.0.1 in /Users/jolijneikelboom/opt/anaconda3/lib/python3.8/site-packages (from matplotlib>=3.5.0->plotnine) (1.0.5)\n",
      "Requirement already satisfied: cycler>=0.10 in /Users/jolijneikelboom/opt/anaconda3/lib/python3.8/site-packages (from matplotlib>=3.5.0->plotnine) (0.10.0)\n",
      "Requirement already satisfied: palettable in /Users/jolijneikelboom/opt/anaconda3/lib/python3.8/site-packages (from mizani>=0.8.1->plotnine) (3.3.0)\n",
      "Requirement already satisfied: backports.zoneinfo in /Users/jolijneikelboom/opt/anaconda3/lib/python3.8/site-packages (from mizani>=0.8.1->plotnine) (0.2.1)\n",
      "Requirement already satisfied: six in /Users/jolijneikelboom/opt/anaconda3/lib/python3.8/site-packages (from patsy>=0.5.1->plotnine) (1.15.0)\n",
      "\n",
      "\u001b[1m[\u001b[0m\u001b[34;49mnotice\u001b[0m\u001b[1;39;49m]\u001b[0m\u001b[39;49m A new release of pip available: \u001b[0m\u001b[31;49m22.2.2\u001b[0m\u001b[39;49m -> \u001b[0m\u001b[32;49m22.3.1\u001b[0m\n",
      "\u001b[1m[\u001b[0m\u001b[34;49mnotice\u001b[0m\u001b[1;39;49m]\u001b[0m\u001b[39;49m To update, run: \u001b[0m\u001b[32;49mpip install --upgrade pip\u001b[0m\n"
     ]
    }
   ],
   "source": [
    "%matplotlib inline\n",
    "import pandas as pd\n",
    "import matplotlib.pyplot as plt\n",
    "import sklearn\n",
    "import csv\n",
    "import imblearn\n",
    "import numpy as np\n",
    "\n",
    "import os\n",
    "import seaborn as sns\n",
    "from sklearn import metrics\n",
    "from collections import Counter\n",
    "from matplotlib import pyplot\n",
    "from numpy import where\n",
    "from sklearn import datasets\n",
    "from sklearn.datasets import make_classification\n",
    "from sklearn.svm import SVC\n",
    "from sklearn.multiclass import OneVsOneClassifier\n",
    "#from sklearn.preprocessing import LabelEncoder\n",
    "from sklearn.model_selection import KFold, cross_val_score\n",
    "from sklearn.model_selection import train_test_split\n",
    "from sklearn.model_selection import GridSearchCV\n",
    "#from sklearn.preprocessing import StandardScaler\n",
    "from sklearn.metrics import mean_absolute_error\n",
    "from sklearn.metrics import zero_one_loss\n",
    "from sklearn.metrics import accuracy_score\n",
    "from sklearn.metrics import confusion_matrix\n",
    "#from sklearn.preprocessing import OrdinalEncoder\n",
    "from sklearn.feature_selection import SelectKBest\n",
    "from sklearn.feature_selection import chi2\n",
    "from sklearn.feature_selection import mutual_info_classif\n",
    "import gc\n",
    "from imblearn.over_sampling import RandomOverSampler\n",
    "!pip install pandas plotnine\n",
    "import warnings\n",
    "warnings.filterwarnings('ignore')\n",
    "#from plotnine import ggplot, geom_point, aes, stat_smooth, facet_wrap, geom_histogram\n",
    "from sklearn.model_selection import cross_val_predict\n",
    "from scipy import stats\n",
    "from scipy.stats import wilcoxon\n",
    "from sys import path\n",
    "\n"
   ]
  },
  {
   "cell_type": "markdown",
   "id": "c47597ad",
   "metadata": {},
   "source": [
    "<font size=\"4\">2. Load and prepare data </font>\n",
    "<br>\n",
    "\n"
   ]
  },
  {
   "cell_type": "code",
   "execution_count": 2,
   "id": "5bdc07a8",
   "metadata": {},
   "outputs": [],
   "source": [
    "df = pd.read_csv(\"ESS10.csv\", low_memory = False)"
   ]
  },
  {
   "cell_type": "code",
   "execution_count": 3,
   "id": "0fba76c3",
   "metadata": {},
   "outputs": [
    {
     "data": {
      "text/plain": [
       "18060"
      ]
     },
     "execution_count": 3,
     "metadata": {},
     "output_type": "execute_result"
    }
   ],
   "source": [
    "##Only include relevant variables\n",
    "df_relevant_vars = df[['teamfeel', 'mansupp', 'hincfel', 'trdawrk', \n",
    "                       'manhlp', 'mcwrkhom', 'stfmjob']].copy()\n",
    "df_relevant_vars.stfmjob.count()"
   ]
  },
  {
   "cell_type": "markdown",
   "id": "447afa0a",
   "metadata": {},
   "source": [
    "df_relevant_vars includes only the vars that I use in this study, it leaves out all other variables assesed in the ESS. "
   ]
  },
  {
   "cell_type": "markdown",
   "id": "dbbe2f4b",
   "metadata": {},
   "source": [
    "<font size=\"4\">\n",
    "    2a. Missing values"
   ]
  },
  {
   "cell_type": "code",
   "execution_count": 4,
   "id": "5461c268",
   "metadata": {},
   "outputs": [
    {
     "name": "stdout",
     "output_type": "stream",
     "text": [
      "Individuals missing satisfaction score: 8149 \n",
      "Remaining =  9911\n"
     ]
    }
   ],
   "source": [
    "##Delete missing values from satisfied with job\n",
    "values = [55, 66, 77, 88, 99]\n",
    "df_SF_complete = df_relevant_vars[df_relevant_vars.stfmjob.isin(values) == False]\n",
    "print('Individuals missing satisfaction score:', df_relevant_vars.stfmjob.count() - df_SF_complete.stfmjob.count(), \n",
    "     '\\nRemaining = ', df_SF_complete.stfmjob.count()) "
   ]
  },
  {
   "cell_type": "code",
   "execution_count": 5,
   "id": "327206d8",
   "metadata": {},
   "outputs": [],
   "source": [
    "##General missing values 33, 55, 66, 77, 88, 99 set to NaN\n",
    "for col in['mansupp', 'teamfeel','mcwrkhom']:\n",
    "    df_SF_complete.loc[df_SF_complete[col] >= 33, col] = np.nan"
   ]
  },
  {
   "cell_type": "markdown",
   "id": "292bb4e6",
   "metadata": {},
   "source": [
    "df_SF_complete only includes the vars that have data for job satisfaction"
   ]
  },
  {
   "cell_type": "code",
   "execution_count": 6,
   "id": "a0a164a2",
   "metadata": {},
   "outputs": [],
   "source": [
    "##General missing values 55, 66, 77, 88, 99 set to NaN\n",
    "for col in['hincfel', 'trdawrk', 'manhlp']:\n",
    "    df_SF_complete.loc[df_SF_complete[col] >= 6, col] = np.nan\n"
   ]
  },
  {
   "cell_type": "code",
   "execution_count": 7,
   "id": "c3079e3b",
   "metadata": {},
   "outputs": [
    {
     "data": {
      "text/plain": [
       "5946.599999999999"
      ]
     },
     "execution_count": 7,
     "metadata": {},
     "output_type": "execute_result"
    }
   ],
   "source": [
    "0.6 * df_SF_complete.stfmjob.count()"
   ]
  },
  {
   "cell_type": "code",
   "execution_count": 8,
   "id": "6f9fa0a0",
   "metadata": {},
   "outputs": [
    {
     "name": "stdout",
     "output_type": "stream",
     "text": [
      "[]\n",
      "   teamfeel  mansupp  hincfel  trdawrk  manhlp  mcwrkhom  stfmjob\n",
      "1      10.0      NaN      1.0      4.0     NaN      10.0        9\n",
      "2       6.0      NaN      2.0      4.0     NaN       5.0        5\n",
      "3      10.0     10.0      3.0      3.0     2.0       NaN        7\n",
      "4       7.0      4.0      3.0      5.0     2.0       0.0        4\n",
      "7      10.0      8.0      3.0      3.0     1.0       NaN        6\n"
     ]
    }
   ],
   "source": [
    "##Drop columns if more than 60% of data is missing. This is not the case for the vars\n",
    "drop_cols = []\n",
    "for col in ['mansupp', 'teamfeel','mcwrkhom','hincfel', 'trdawrk', 'manhlp']:\n",
    "    if df_SF_complete[col].isna().sum() >= 0.6 * df_SF_complete.stfmjob.count():\n",
    "        print(col)\n",
    "        drop_cols.append(col)\n",
    "        \n",
    "print(drop_cols)\n",
    "print(df_SF_complete.head())\n",
    "\n"
   ]
  },
  {
   "cell_type": "code",
   "execution_count": 9,
   "id": "992085ac",
   "metadata": {},
   "outputs": [
    {
     "data": {
      "text/html": [
       "<div>\n",
       "<style scoped>\n",
       "    .dataframe tbody tr th:only-of-type {\n",
       "        vertical-align: middle;\n",
       "    }\n",
       "\n",
       "    .dataframe tbody tr th {\n",
       "        vertical-align: top;\n",
       "    }\n",
       "\n",
       "    .dataframe thead th {\n",
       "        text-align: right;\n",
       "    }\n",
       "</style>\n",
       "<table border=\"1\" class=\"dataframe\">\n",
       "  <thead>\n",
       "    <tr style=\"text-align: right;\">\n",
       "      <th></th>\n",
       "      <th>teamfeel</th>\n",
       "      <th>mansupp</th>\n",
       "      <th>hincfel</th>\n",
       "      <th>trdawrk</th>\n",
       "      <th>manhlp</th>\n",
       "      <th>mcwrkhom</th>\n",
       "      <th>stfmjob</th>\n",
       "      <th>missing</th>\n",
       "    </tr>\n",
       "  </thead>\n",
       "  <tbody>\n",
       "    <tr>\n",
       "      <th>1</th>\n",
       "      <td>10.0</td>\n",
       "      <td>NaN</td>\n",
       "      <td>1.0</td>\n",
       "      <td>4.0</td>\n",
       "      <td>NaN</td>\n",
       "      <td>10.0</td>\n",
       "      <td>9</td>\n",
       "      <td>2</td>\n",
       "    </tr>\n",
       "    <tr>\n",
       "      <th>2</th>\n",
       "      <td>6.0</td>\n",
       "      <td>NaN</td>\n",
       "      <td>2.0</td>\n",
       "      <td>4.0</td>\n",
       "      <td>NaN</td>\n",
       "      <td>5.0</td>\n",
       "      <td>5</td>\n",
       "      <td>2</td>\n",
       "    </tr>\n",
       "    <tr>\n",
       "      <th>3</th>\n",
       "      <td>10.0</td>\n",
       "      <td>10.0</td>\n",
       "      <td>3.0</td>\n",
       "      <td>3.0</td>\n",
       "      <td>2.0</td>\n",
       "      <td>NaN</td>\n",
       "      <td>7</td>\n",
       "      <td>1</td>\n",
       "    </tr>\n",
       "    <tr>\n",
       "      <th>4</th>\n",
       "      <td>7.0</td>\n",
       "      <td>4.0</td>\n",
       "      <td>3.0</td>\n",
       "      <td>5.0</td>\n",
       "      <td>2.0</td>\n",
       "      <td>0.0</td>\n",
       "      <td>4</td>\n",
       "      <td>0</td>\n",
       "    </tr>\n",
       "    <tr>\n",
       "      <th>7</th>\n",
       "      <td>10.0</td>\n",
       "      <td>8.0</td>\n",
       "      <td>3.0</td>\n",
       "      <td>3.0</td>\n",
       "      <td>1.0</td>\n",
       "      <td>NaN</td>\n",
       "      <td>6</td>\n",
       "      <td>1</td>\n",
       "    </tr>\n",
       "  </tbody>\n",
       "</table>\n",
       "</div>"
      ],
      "text/plain": [
       "   teamfeel  mansupp  hincfel  trdawrk  manhlp  mcwrkhom  stfmjob  missing\n",
       "1      10.0      NaN      1.0      4.0     NaN      10.0        9        2\n",
       "2       6.0      NaN      2.0      4.0     NaN       5.0        5        2\n",
       "3      10.0     10.0      3.0      3.0     2.0       NaN        7        1\n",
       "4       7.0      4.0      3.0      5.0     2.0       0.0        4        0\n",
       "7      10.0      8.0      3.0      3.0     1.0       NaN        6        1"
      ]
     },
     "execution_count": 9,
     "metadata": {},
     "output_type": "execute_result"
    }
   ],
   "source": [
    "##count NaN per row\n",
    "missing = []\n",
    "for i in range(len(df_SF_complete.index)):\n",
    "    value = (df_SF_complete.iloc[i].isnull().sum())\n",
    "    missing.append(value)\n",
    "df_SF_complete['missing'] = missing\n",
    "df_SF_complete.head()"
   ]
  },
  {
   "cell_type": "code",
   "execution_count": 10,
   "id": "3473e5bd",
   "metadata": {},
   "outputs": [
    {
     "name": "stdout",
     "output_type": "stream",
     "text": [
      "There were: 9911 individuals \n",
      "Individuals missing too many values: 832 \n",
      "Remaing individuals: 9079\n"
     ]
    }
   ],
   "source": [
    "##Delete individuals with XX amount of missing values\n",
    "df_missing_deleted = df_SF_complete[df_SF_complete.missing <= 3].copy()\n",
    "df_missing_deleted.missing.count()\n",
    "print('There were:', 9911, 'individuals',\n",
    "    '\\nIndividuals missing too many values:', 9911 - df_missing_deleted.missing.count(),\n",
    "     '\\nRemaing individuals:', df_missing_deleted.missing.count())"
   ]
  },
  {
   "cell_type": "code",
   "execution_count": 11,
   "id": "e5206a81",
   "metadata": {},
   "outputs": [
    {
     "data": {
      "text/html": [
       "<div>\n",
       "<style scoped>\n",
       "    .dataframe tbody tr th:only-of-type {\n",
       "        vertical-align: middle;\n",
       "    }\n",
       "\n",
       "    .dataframe tbody tr th {\n",
       "        vertical-align: top;\n",
       "    }\n",
       "\n",
       "    .dataframe thead th {\n",
       "        text-align: right;\n",
       "    }\n",
       "</style>\n",
       "<table border=\"1\" class=\"dataframe\">\n",
       "  <thead>\n",
       "    <tr style=\"text-align: right;\">\n",
       "      <th></th>\n",
       "      <th>teamfeel</th>\n",
       "      <th>mansupp</th>\n",
       "      <th>hincfel</th>\n",
       "      <th>trdawrk</th>\n",
       "      <th>manhlp</th>\n",
       "      <th>mcwrkhom</th>\n",
       "      <th>stfmjob</th>\n",
       "      <th>missing</th>\n",
       "    </tr>\n",
       "  </thead>\n",
       "  <tbody>\n",
       "    <tr>\n",
       "      <th>1</th>\n",
       "      <td>10.0</td>\n",
       "      <td>NaN</td>\n",
       "      <td>1.0</td>\n",
       "      <td>4.0</td>\n",
       "      <td>NaN</td>\n",
       "      <td>10.0</td>\n",
       "      <td>9</td>\n",
       "      <td>2</td>\n",
       "    </tr>\n",
       "    <tr>\n",
       "      <th>2</th>\n",
       "      <td>6.0</td>\n",
       "      <td>NaN</td>\n",
       "      <td>2.0</td>\n",
       "      <td>4.0</td>\n",
       "      <td>NaN</td>\n",
       "      <td>5.0</td>\n",
       "      <td>5</td>\n",
       "      <td>2</td>\n",
       "    </tr>\n",
       "    <tr>\n",
       "      <th>3</th>\n",
       "      <td>10.0</td>\n",
       "      <td>10.0</td>\n",
       "      <td>3.0</td>\n",
       "      <td>3.0</td>\n",
       "      <td>2.0</td>\n",
       "      <td>NaN</td>\n",
       "      <td>7</td>\n",
       "      <td>1</td>\n",
       "    </tr>\n",
       "    <tr>\n",
       "      <th>4</th>\n",
       "      <td>7.0</td>\n",
       "      <td>4.0</td>\n",
       "      <td>3.0</td>\n",
       "      <td>5.0</td>\n",
       "      <td>2.0</td>\n",
       "      <td>0.0</td>\n",
       "      <td>4</td>\n",
       "      <td>0</td>\n",
       "    </tr>\n",
       "    <tr>\n",
       "      <th>7</th>\n",
       "      <td>10.0</td>\n",
       "      <td>8.0</td>\n",
       "      <td>3.0</td>\n",
       "      <td>3.0</td>\n",
       "      <td>1.0</td>\n",
       "      <td>NaN</td>\n",
       "      <td>6</td>\n",
       "      <td>1</td>\n",
       "    </tr>\n",
       "  </tbody>\n",
       "</table>\n",
       "</div>"
      ],
      "text/plain": [
       "   teamfeel  mansupp  hincfel  trdawrk  manhlp  mcwrkhom  stfmjob  missing\n",
       "1      10.0      NaN      1.0      4.0     NaN      10.0        9        2\n",
       "2       6.0      NaN      2.0      4.0     NaN       5.0        5        2\n",
       "3      10.0     10.0      3.0      3.0     2.0       NaN        7        1\n",
       "4       7.0      4.0      3.0      5.0     2.0       0.0        4        0\n",
       "7      10.0      8.0      3.0      3.0     1.0       NaN        6        1"
      ]
     },
     "execution_count": 11,
     "metadata": {},
     "output_type": "execute_result"
    }
   ],
   "source": [
    "df_missing_deleted.head()"
   ]
  },
  {
   "cell_type": "markdown",
   "id": "a65b5b75",
   "metadata": {},
   "source": [
    "df_missing_deleted only includes individuals that have enough data on all vars. \n",
    "the columns containing too few participants are already deleted here. "
   ]
  },
  {
   "cell_type": "markdown",
   "id": "f86580d6",
   "metadata": {},
   "source": [
    "Elke missing value wordt vervangen door mode (Quintero et al., compared the missing values)\n"
   ]
  },
  {
   "cell_type": "code",
   "execution_count": 12,
   "id": "b588b9ec",
   "metadata": {},
   "outputs": [
    {
     "name": "stdout",
     "output_type": "stream",
     "text": [
      "   teamfeel  mansupp  hincfel  trdawrk  manhlp  mcwrkhom  stfmjob  missing\n",
      "1      10.0      8.0      1.0      4.0     1.0      10.0        9        2\n",
      "2       6.0      8.0      2.0      4.0     1.0       5.0        5        2\n",
      "3      10.0     10.0      3.0      3.0     2.0       0.0        7        1\n",
      "4       7.0      4.0      3.0      5.0     2.0       0.0        4        0\n",
      "7      10.0      8.0      3.0      3.0     1.0       0.0        6        1\n"
     ]
    }
   ],
   "source": [
    "#Missing values vervangen met MODE\n",
    "for col in ['mansupp', 'teamfeel','mcwrkhom','hincfel', 'trdawrk', 'manhlp']:\n",
    "    df_missing_deleted[col].fillna(df_missing_deleted[col].value_counts().idxmax(), inplace=True)\n",
    "\n",
    "print(df_missing_deleted.head())\n",
    "df_final = df_missing_deleted.copy()\n",
    "\n",
    "##This is also appropriate for income, since income is also made ordinal. "
   ]
  },
  {
   "cell_type": "markdown",
   "id": "713d7265",
   "metadata": {},
   "source": [
    "<font size=\"4\"> 2b Prepare job satisfaction</font>\n",
    "<br>"
   ]
  },
  {
   "cell_type": "code",
   "execution_count": 13,
   "id": "97ee97fd",
   "metadata": {
    "scrolled": true
   },
   "outputs": [
    {
     "data": {
      "text/html": [
       "<div>\n",
       "<style scoped>\n",
       "    .dataframe tbody tr th:only-of-type {\n",
       "        vertical-align: middle;\n",
       "    }\n",
       "\n",
       "    .dataframe tbody tr th {\n",
       "        vertical-align: top;\n",
       "    }\n",
       "\n",
       "    .dataframe thead th {\n",
       "        text-align: right;\n",
       "    }\n",
       "</style>\n",
       "<table border=\"1\" class=\"dataframe\">\n",
       "  <thead>\n",
       "    <tr style=\"text-align: right;\">\n",
       "      <th></th>\n",
       "      <th>teamfeel</th>\n",
       "      <th>mansupp</th>\n",
       "      <th>hincfel</th>\n",
       "      <th>trdawrk</th>\n",
       "      <th>manhlp</th>\n",
       "      <th>mcwrkhom</th>\n",
       "      <th>stfmjob</th>\n",
       "      <th>missing</th>\n",
       "      <th>satisfaction</th>\n",
       "    </tr>\n",
       "  </thead>\n",
       "  <tbody>\n",
       "    <tr>\n",
       "      <th>1</th>\n",
       "      <td>10.0</td>\n",
       "      <td>8.0</td>\n",
       "      <td>1.0</td>\n",
       "      <td>4.0</td>\n",
       "      <td>1.0</td>\n",
       "      <td>10.0</td>\n",
       "      <td>9</td>\n",
       "      <td>2</td>\n",
       "      <td>4</td>\n",
       "    </tr>\n",
       "    <tr>\n",
       "      <th>2</th>\n",
       "      <td>6.0</td>\n",
       "      <td>8.0</td>\n",
       "      <td>2.0</td>\n",
       "      <td>4.0</td>\n",
       "      <td>1.0</td>\n",
       "      <td>5.0</td>\n",
       "      <td>5</td>\n",
       "      <td>2</td>\n",
       "      <td>2</td>\n",
       "    </tr>\n",
       "    <tr>\n",
       "      <th>3</th>\n",
       "      <td>10.0</td>\n",
       "      <td>10.0</td>\n",
       "      <td>3.0</td>\n",
       "      <td>3.0</td>\n",
       "      <td>2.0</td>\n",
       "      <td>0.0</td>\n",
       "      <td>7</td>\n",
       "      <td>1</td>\n",
       "      <td>3</td>\n",
       "    </tr>\n",
       "    <tr>\n",
       "      <th>4</th>\n",
       "      <td>7.0</td>\n",
       "      <td>4.0</td>\n",
       "      <td>3.0</td>\n",
       "      <td>5.0</td>\n",
       "      <td>2.0</td>\n",
       "      <td>0.0</td>\n",
       "      <td>4</td>\n",
       "      <td>0</td>\n",
       "      <td>1</td>\n",
       "    </tr>\n",
       "    <tr>\n",
       "      <th>7</th>\n",
       "      <td>10.0</td>\n",
       "      <td>8.0</td>\n",
       "      <td>3.0</td>\n",
       "      <td>3.0</td>\n",
       "      <td>1.0</td>\n",
       "      <td>0.0</td>\n",
       "      <td>6</td>\n",
       "      <td>1</td>\n",
       "      <td>3</td>\n",
       "    </tr>\n",
       "  </tbody>\n",
       "</table>\n",
       "</div>"
      ],
      "text/plain": [
       "   teamfeel  mansupp  hincfel  trdawrk  manhlp  mcwrkhom  stfmjob  missing  \\\n",
       "1      10.0      8.0      1.0      4.0     1.0      10.0        9        2   \n",
       "2       6.0      8.0      2.0      4.0     1.0       5.0        5        2   \n",
       "3      10.0     10.0      3.0      3.0     2.0       0.0        7        1   \n",
       "4       7.0      4.0      3.0      5.0     2.0       0.0        4        0   \n",
       "7      10.0      8.0      3.0      3.0     1.0       0.0        6        1   \n",
       "\n",
       "   satisfaction  \n",
       "1             4  \n",
       "2             2  \n",
       "3             3  \n",
       "4             1  \n",
       "7             3  "
      ]
     },
     "execution_count": 13,
     "metadata": {},
     "output_type": "execute_result"
    }
   ],
   "source": [
    "##Divide job satisfaction into 4 categories. \n",
    "satisfaction = []\n",
    "for i in df_final.stfmjob:\n",
    "    if i <=4:\n",
    "        satisfaction.append(1)\n",
    "    if i == 5:\n",
    "        satisfaction.append(2)\n",
    "    if i == 6 or i == 7:\n",
    "        satisfaction.append(3)\n",
    "    if i >= 8 and i <= 10:\n",
    "        satisfaction.append(4)\n",
    "df_final['satisfaction'] = satisfaction\n",
    "df_final.head()"
   ]
  },
  {
   "cell_type": "markdown",
   "id": "339b8de1",
   "metadata": {},
   "source": [
    "df_final is final dataframe"
   ]
  },
  {
   "cell_type": "code",
   "execution_count": 14,
   "id": "22cf00fd",
   "metadata": {},
   "outputs": [
    {
     "data": {
      "text/html": [
       "<div>\n",
       "<style scoped>\n",
       "    .dataframe tbody tr th:only-of-type {\n",
       "        vertical-align: middle;\n",
       "    }\n",
       "\n",
       "    .dataframe tbody tr th {\n",
       "        vertical-align: top;\n",
       "    }\n",
       "\n",
       "    .dataframe thead th {\n",
       "        text-align: right;\n",
       "    }\n",
       "</style>\n",
       "<table border=\"1\" class=\"dataframe\">\n",
       "  <thead>\n",
       "    <tr style=\"text-align: right;\">\n",
       "      <th></th>\n",
       "      <th>teamfeel</th>\n",
       "      <th>mansupp</th>\n",
       "      <th>hincfel</th>\n",
       "      <th>trdawrk</th>\n",
       "      <th>manhlp</th>\n",
       "      <th>mcwrkhom</th>\n",
       "      <th>stfmjob</th>\n",
       "      <th>missing</th>\n",
       "      <th>satisfaction</th>\n",
       "    </tr>\n",
       "  </thead>\n",
       "  <tbody>\n",
       "    <tr>\n",
       "      <th>1</th>\n",
       "      <td>10.0</td>\n",
       "      <td>8.0</td>\n",
       "      <td>1.0</td>\n",
       "      <td>4.0</td>\n",
       "      <td>1.0</td>\n",
       "      <td>10.0</td>\n",
       "      <td>9</td>\n",
       "      <td>2</td>\n",
       "      <td>4</td>\n",
       "    </tr>\n",
       "    <tr>\n",
       "      <th>2</th>\n",
       "      <td>6.0</td>\n",
       "      <td>8.0</td>\n",
       "      <td>2.0</td>\n",
       "      <td>4.0</td>\n",
       "      <td>1.0</td>\n",
       "      <td>5.0</td>\n",
       "      <td>5</td>\n",
       "      <td>2</td>\n",
       "      <td>2</td>\n",
       "    </tr>\n",
       "    <tr>\n",
       "      <th>3</th>\n",
       "      <td>10.0</td>\n",
       "      <td>10.0</td>\n",
       "      <td>3.0</td>\n",
       "      <td>3.0</td>\n",
       "      <td>2.0</td>\n",
       "      <td>0.0</td>\n",
       "      <td>7</td>\n",
       "      <td>1</td>\n",
       "      <td>3</td>\n",
       "    </tr>\n",
       "    <tr>\n",
       "      <th>4</th>\n",
       "      <td>7.0</td>\n",
       "      <td>4.0</td>\n",
       "      <td>3.0</td>\n",
       "      <td>5.0</td>\n",
       "      <td>2.0</td>\n",
       "      <td>0.0</td>\n",
       "      <td>4</td>\n",
       "      <td>0</td>\n",
       "      <td>1</td>\n",
       "    </tr>\n",
       "    <tr>\n",
       "      <th>7</th>\n",
       "      <td>10.0</td>\n",
       "      <td>8.0</td>\n",
       "      <td>3.0</td>\n",
       "      <td>3.0</td>\n",
       "      <td>1.0</td>\n",
       "      <td>0.0</td>\n",
       "      <td>6</td>\n",
       "      <td>1</td>\n",
       "      <td>3</td>\n",
       "    </tr>\n",
       "  </tbody>\n",
       "</table>\n",
       "</div>"
      ],
      "text/plain": [
       "   teamfeel  mansupp  hincfel  trdawrk  manhlp  mcwrkhom  stfmjob  missing  \\\n",
       "1      10.0      8.0      1.0      4.0     1.0      10.0        9        2   \n",
       "2       6.0      8.0      2.0      4.0     1.0       5.0        5        2   \n",
       "3      10.0     10.0      3.0      3.0     2.0       0.0        7        1   \n",
       "4       7.0      4.0      3.0      5.0     2.0       0.0        4        0   \n",
       "7      10.0      8.0      3.0      3.0     1.0       0.0        6        1   \n",
       "\n",
       "   satisfaction  \n",
       "1             4  \n",
       "2             2  \n",
       "3             3  \n",
       "4             1  \n",
       "7             3  "
      ]
     },
     "execution_count": 14,
     "metadata": {},
     "output_type": "execute_result"
    }
   ],
   "source": [
    "data = df_final\n",
    "data.head()"
   ]
  },
  {
   "cell_type": "markdown",
   "id": "7ae35eff",
   "metadata": {},
   "source": [
    "<font size=\"4\">\n",
    "    3. Split train and test"
   ]
  },
  {
   "cell_type": "code",
   "execution_count": 15,
   "id": "9ec50a4d",
   "metadata": {},
   "outputs": [
    {
     "data": {
      "text/html": [
       "<div>\n",
       "<style scoped>\n",
       "    .dataframe tbody tr th:only-of-type {\n",
       "        vertical-align: middle;\n",
       "    }\n",
       "\n",
       "    .dataframe tbody tr th {\n",
       "        vertical-align: top;\n",
       "    }\n",
       "\n",
       "    .dataframe thead th {\n",
       "        text-align: right;\n",
       "    }\n",
       "</style>\n",
       "<table border=\"1\" class=\"dataframe\">\n",
       "  <thead>\n",
       "    <tr style=\"text-align: right;\">\n",
       "      <th></th>\n",
       "      <th>teamfeel</th>\n",
       "      <th>mansupp</th>\n",
       "      <th>hincfel</th>\n",
       "      <th>trdawrk</th>\n",
       "      <th>manhlp</th>\n",
       "      <th>mcwrkhom</th>\n",
       "      <th>stfmjob</th>\n",
       "      <th>missing</th>\n",
       "      <th>satisfaction</th>\n",
       "    </tr>\n",
       "  </thead>\n",
       "  <tbody>\n",
       "    <tr>\n",
       "      <th>1</th>\n",
       "      <td>10.0</td>\n",
       "      <td>8.0</td>\n",
       "      <td>1.0</td>\n",
       "      <td>4.0</td>\n",
       "      <td>1.0</td>\n",
       "      <td>10.0</td>\n",
       "      <td>9</td>\n",
       "      <td>2</td>\n",
       "      <td>4</td>\n",
       "    </tr>\n",
       "    <tr>\n",
       "      <th>2</th>\n",
       "      <td>6.0</td>\n",
       "      <td>8.0</td>\n",
       "      <td>2.0</td>\n",
       "      <td>4.0</td>\n",
       "      <td>1.0</td>\n",
       "      <td>5.0</td>\n",
       "      <td>5</td>\n",
       "      <td>2</td>\n",
       "      <td>2</td>\n",
       "    </tr>\n",
       "    <tr>\n",
       "      <th>3</th>\n",
       "      <td>10.0</td>\n",
       "      <td>10.0</td>\n",
       "      <td>3.0</td>\n",
       "      <td>3.0</td>\n",
       "      <td>2.0</td>\n",
       "      <td>0.0</td>\n",
       "      <td>7</td>\n",
       "      <td>1</td>\n",
       "      <td>3</td>\n",
       "    </tr>\n",
       "    <tr>\n",
       "      <th>4</th>\n",
       "      <td>7.0</td>\n",
       "      <td>4.0</td>\n",
       "      <td>3.0</td>\n",
       "      <td>5.0</td>\n",
       "      <td>2.0</td>\n",
       "      <td>0.0</td>\n",
       "      <td>4</td>\n",
       "      <td>0</td>\n",
       "      <td>1</td>\n",
       "    </tr>\n",
       "    <tr>\n",
       "      <th>7</th>\n",
       "      <td>10.0</td>\n",
       "      <td>8.0</td>\n",
       "      <td>3.0</td>\n",
       "      <td>3.0</td>\n",
       "      <td>1.0</td>\n",
       "      <td>0.0</td>\n",
       "      <td>6</td>\n",
       "      <td>1</td>\n",
       "      <td>3</td>\n",
       "    </tr>\n",
       "  </tbody>\n",
       "</table>\n",
       "</div>"
      ],
      "text/plain": [
       "   teamfeel  mansupp  hincfel  trdawrk  manhlp  mcwrkhom  stfmjob  missing  \\\n",
       "1      10.0      8.0      1.0      4.0     1.0      10.0        9        2   \n",
       "2       6.0      8.0      2.0      4.0     1.0       5.0        5        2   \n",
       "3      10.0     10.0      3.0      3.0     2.0       0.0        7        1   \n",
       "4       7.0      4.0      3.0      5.0     2.0       0.0        4        0   \n",
       "7      10.0      8.0      3.0      3.0     1.0       0.0        6        1   \n",
       "\n",
       "   satisfaction  \n",
       "1             4  \n",
       "2             2  \n",
       "3             3  \n",
       "4             1  \n",
       "7             3  "
      ]
     },
     "execution_count": 15,
     "metadata": {},
     "output_type": "execute_result"
    }
   ],
   "source": [
    "##Split data into train and test\n",
    "features = ['mansupp', 'teamfeel','mcwrkhom','hincfel', 'trdawrk', 'manhlp']\n",
    "target = ['satisfaction']\n",
    "X = data[features]\n",
    "y = data[target]\n",
    "test_size = 0.2\n",
    "X_train, X_test_final, y_train, y_test_final = train_test_split(X, y, test_size = test_size, random_state =0)\n",
    "#sc = StandardScaler()\n",
    "data.head()"
   ]
  },
  {
   "cell_type": "code",
   "execution_count": 16,
   "id": "1eb16a38",
   "metadata": {},
   "outputs": [
    {
     "name": "stdout",
     "output_type": "stream",
     "text": [
      "(1816, 6)\n",
      "(1816, 1)\n",
      "(7263, 6)\n",
      "(7263, 1)\n"
     ]
    }
   ],
   "source": [
    "print(np.shape(X_test_final))\n",
    "print(np.shape(y_test_final))\n",
    "print(np.shape(X_train))\n",
    "print(np.shape(y_train))"
   ]
  },
  {
   "cell_type": "markdown",
   "id": "ab565bbd",
   "metadata": {},
   "source": [
    "<font size=\"4\">\n",
    "   4.  Oversampling"
   ]
  },
  {
   "cell_type": "code",
   "execution_count": 17,
   "id": "545ae5d7",
   "metadata": {},
   "outputs": [
    {
     "name": "stdout",
     "output_type": "stream",
     "text": [
      "Before oversampling and setting seed Counter({4: 5147, 3: 2450, 2: 830, 1: 652})\n",
      "Before oversampling, after train test split Counter({4: 4077, 3: 2002, 2: 668, 1: 516})\n",
      "testdata Counter({4: 1070, 3: 448, 2: 162, 1: 136})\n",
      "After Counter({3: 4077, 1: 4077, 4: 4077, 2: 4077})\n"
     ]
    }
   ],
   "source": [
    "##Oversampling:\n",
    "#probeer het ook een keer met undersampling\n",
    "#kijk of je aan het overfitten bent. (= overal majority voorspellen)\n",
    "print(\"Before oversampling and setting seed\", Counter(data.satisfaction))\n",
    "print('Before oversampling, after train test split', Counter(y_train.satisfaction))\n",
    "print('testdata', Counter(y_test_final.satisfaction))\n",
    "oversample = RandomOverSampler(sampling_strategy = 'all')\n",
    "X_train_oversampled, y_train_oversampled = oversample.fit_resample(X_train, y_train)\n",
    "data_oversampled = X_train_oversampled.copy()\n",
    "data_oversampled['y_train_oversampled'] = y_train_oversampled.copy()\n",
    "print(\"After\", Counter(data_oversampled.y_train_oversampled))"
   ]
  },
  {
   "cell_type": "markdown",
   "id": "75ef7374",
   "metadata": {},
   "source": [
    "#Use these when you only want 10% of all oversampled train data\n",
    "X_10p_train_oversampled = X_train_oversampled.sample(frac = 0.1, random_state = 2)\n",
    "y_10p_train_oversampled = y_train_oversampled.sample(frac = 0.1, random_state = 2)\n",
    "traindata_10p_oversample = X_10p_train_oversampled.copy()\n",
    "traindata_10p_oversample['y_10p_train_oversampled'] = y_10p_train_oversampled.copy()\n",
    "\n",
    "df = traindata_10p_oversample.copy()"
   ]
  },
  {
   "cell_type": "markdown",
   "id": "08275b8a",
   "metadata": {},
   "source": [
    "Using the randomstate in the above cell ensures I get the same sample everytime"
   ]
  },
  {
   "cell_type": "code",
   "execution_count": 18,
   "id": "abdc1674",
   "metadata": {},
   "outputs": [],
   "source": [
    "#use this if you want all oversampled traindata\n",
    "df = data_oversampled"
   ]
  },
  {
   "cell_type": "markdown",
   "id": "7ef6f713",
   "metadata": {},
   "source": [
    "<font size=\"4.\"> 5. Functions ordinal classification</font>\n",
    "<br>\n",
    "\n"
   ]
  },
  {
   "cell_type": "markdown",
   "id": "a245cd2e",
   "metadata": {},
   "source": [
    "<font size=\"4\"> 5a. Download functions</font>\n",
    "<br>\n",
    "\n"
   ]
  },
  {
   "cell_type": "code",
   "execution_count": 19,
   "id": "520814ab",
   "metadata": {
    "scrolled": true
   },
   "outputs": [
    {
     "name": "stdout",
     "output_type": "stream",
     "text": [
      "make -e -C classifiers/libsvmRank/python\n",
      "make[1]: Entering directory '/Users/jolijneikelboom/Library/CloudStorage/OneDrive-Persoonlijk/Tilburg/Thesis/classifiers/libsvmRank/python'\n",
      "python setup.py build_ext --inplace && rm -f redsvm.cpp && rm -Rf build\n",
      "running build_ext\n",
      "make[1]: Leaving directory '/Users/jolijneikelboom/Library/CloudStorage/OneDrive-Persoonlijk/Tilburg/Thesis/classifiers/libsvmRank/python'\n",
      "make -e -C classifiers/svorex\n",
      "make[1]: Entering directory '/Users/jolijneikelboom/Library/CloudStorage/OneDrive-Persoonlijk/Tilburg/Thesis/classifiers/svorex'\n",
      "python setup.py build_ext --inplace && rm -f svorex.cpp && rm -Rf build\n",
      "running build_ext\n",
      "make[1]: Leaving directory '/Users/jolijneikelboom/Library/CloudStorage/OneDrive-Persoonlijk/Tilburg/Thesis/classifiers/svorex'\n"
     ]
    }
   ],
   "source": [
    "!make"
   ]
  },
  {
   "cell_type": "code",
   "execution_count": 20,
   "id": "99c9de7a",
   "metadata": {},
   "outputs": [
    {
     "name": "stdout",
     "output_type": "stream",
     "text": [
      "\n",
      "###############################\n",
      "\tRunning Experiment\n",
      "###############################\n",
      "\n",
      "Running tae dataset\n",
      "--------------------------\n",
      "Running SVMOP ...\n",
      "  Running Partition 0\n",
      "  Running Partition 1\n",
      "/Users/jolijneikelboom/Library/CloudStorage/OneDrive-Persoonlijk/Tilburg/Thesis/results.py:141: FutureWarning: The frame.append method is deprecated and will be removed from pandas in a future version. Use pandas.concat instead.\n",
      "  df = previous_df.append(df)\n",
      "  Running Partition 2\n",
      "/Users/jolijneikelboom/Library/CloudStorage/OneDrive-Persoonlijk/Tilburg/Thesis/results.py:141: FutureWarning: The frame.append method is deprecated and will be removed from pandas in a future version. Use pandas.concat instead.\n",
      "  df = previous_df.append(df)\n",
      "  Running Partition 3\n",
      "/Users/jolijneikelboom/Library/CloudStorage/OneDrive-Persoonlijk/Tilburg/Thesis/results.py:141: FutureWarning: The frame.append method is deprecated and will be removed from pandas in a future version. Use pandas.concat instead.\n",
      "  df = previous_df.append(df)\n",
      "  Running Partition 4\n",
      "/Users/jolijneikelboom/Library/CloudStorage/OneDrive-Persoonlijk/Tilburg/Thesis/results.py:141: FutureWarning: The frame.append method is deprecated and will be removed from pandas in a future version. Use pandas.concat instead.\n",
      "  df = previous_df.append(df)\n",
      "  Running Partition 5\n",
      "/Users/jolijneikelboom/Library/CloudStorage/OneDrive-Persoonlijk/Tilburg/Thesis/results.py:141: FutureWarning: The frame.append method is deprecated and will be removed from pandas in a future version. Use pandas.concat instead.\n",
      "  df = previous_df.append(df)\n",
      "  Running Partition 6\n",
      "/Users/jolijneikelboom/Library/CloudStorage/OneDrive-Persoonlijk/Tilburg/Thesis/results.py:141: FutureWarning: The frame.append method is deprecated and will be removed from pandas in a future version. Use pandas.concat instead.\n",
      "  df = previous_df.append(df)\n",
      "  Running Partition 7\n",
      "/Users/jolijneikelboom/Library/CloudStorage/OneDrive-Persoonlijk/Tilburg/Thesis/results.py:141: FutureWarning: The frame.append method is deprecated and will be removed from pandas in a future version. Use pandas.concat instead.\n",
      "  df = previous_df.append(df)\n",
      "  Running Partition 8\n",
      "/Users/jolijneikelboom/Library/CloudStorage/OneDrive-Persoonlijk/Tilburg/Thesis/results.py:141: FutureWarning: The frame.append method is deprecated and will be removed from pandas in a future version. Use pandas.concat instead.\n",
      "  df = previous_df.append(df)\n",
      "  Running Partition 9\n",
      "/Users/jolijneikelboom/Library/CloudStorage/OneDrive-Persoonlijk/Tilburg/Thesis/results.py:141: FutureWarning: The frame.append method is deprecated and will be removed from pandas in a future version. Use pandas.concat instead.\n",
      "  df = previous_df.append(df)\n",
      "  Running Partition 10\n",
      "/Users/jolijneikelboom/Library/CloudStorage/OneDrive-Persoonlijk/Tilburg/Thesis/results.py:141: FutureWarning: The frame.append method is deprecated and will be removed from pandas in a future version. Use pandas.concat instead.\n",
      "  df = previous_df.append(df)\n",
      "  Running Partition 11\n",
      "/Users/jolijneikelboom/Library/CloudStorage/OneDrive-Persoonlijk/Tilburg/Thesis/results.py:141: FutureWarning: The frame.append method is deprecated and will be removed from pandas in a future version. Use pandas.concat instead.\n",
      "  df = previous_df.append(df)\n",
      "  Running Partition 12\n",
      "/Users/jolijneikelboom/Library/CloudStorage/OneDrive-Persoonlijk/Tilburg/Thesis/results.py:141: FutureWarning: The frame.append method is deprecated and will be removed from pandas in a future version. Use pandas.concat instead.\n",
      "  df = previous_df.append(df)\n",
      "  Running Partition 13\n",
      "/Users/jolijneikelboom/Library/CloudStorage/OneDrive-Persoonlijk/Tilburg/Thesis/results.py:141: FutureWarning: The frame.append method is deprecated and will be removed from pandas in a future version. Use pandas.concat instead.\n",
      "  df = previous_df.append(df)\n",
      "  Running Partition 14\n",
      "/Users/jolijneikelboom/Library/CloudStorage/OneDrive-Persoonlijk/Tilburg/Thesis/results.py:141: FutureWarning: The frame.append method is deprecated and will be removed from pandas in a future version. Use pandas.concat instead.\n",
      "  df = previous_df.append(df)\n",
      "  Running Partition 15\n",
      "/Users/jolijneikelboom/Library/CloudStorage/OneDrive-Persoonlijk/Tilburg/Thesis/results.py:141: FutureWarning: The frame.append method is deprecated and will be removed from pandas in a future version. Use pandas.concat instead.\n",
      "  df = previous_df.append(df)\n",
      "  Running Partition 16\n",
      "/Users/jolijneikelboom/Library/CloudStorage/OneDrive-Persoonlijk/Tilburg/Thesis/results.py:141: FutureWarning: The frame.append method is deprecated and will be removed from pandas in a future version. Use pandas.concat instead.\n",
      "  df = previous_df.append(df)\n",
      "  Running Partition 17\n",
      "/Users/jolijneikelboom/Library/CloudStorage/OneDrive-Persoonlijk/Tilburg/Thesis/results.py:141: FutureWarning: The frame.append method is deprecated and will be removed from pandas in a future version. Use pandas.concat instead.\n",
      "  df = previous_df.append(df)\n",
      "  Running Partition 18\n",
      "/Users/jolijneikelboom/Library/CloudStorage/OneDrive-Persoonlijk/Tilburg/Thesis/results.py:141: FutureWarning: The frame.append method is deprecated and will be removed from pandas in a future version. Use pandas.concat instead.\n",
      "  df = previous_df.append(df)\n",
      "  Running Partition 19\n",
      "/Users/jolijneikelboom/Library/CloudStorage/OneDrive-Persoonlijk/Tilburg/Thesis/results.py:141: FutureWarning: The frame.append method is deprecated and will be removed from pandas in a future version. Use pandas.concat instead.\n",
      "  df = previous_df.append(df)\n",
      "  Running Partition 20\n",
      "/Users/jolijneikelboom/Library/CloudStorage/OneDrive-Persoonlijk/Tilburg/Thesis/results.py:141: FutureWarning: The frame.append method is deprecated and will be removed from pandas in a future version. Use pandas.concat instead.\n",
      "  df = previous_df.append(df)\n",
      "  Running Partition 21\n",
      "/Users/jolijneikelboom/Library/CloudStorage/OneDrive-Persoonlijk/Tilburg/Thesis/results.py:141: FutureWarning: The frame.append method is deprecated and will be removed from pandas in a future version. Use pandas.concat instead.\n",
      "  df = previous_df.append(df)\n",
      "  Running Partition 22\n",
      "/Users/jolijneikelboom/Library/CloudStorage/OneDrive-Persoonlijk/Tilburg/Thesis/results.py:141: FutureWarning: The frame.append method is deprecated and will be removed from pandas in a future version. Use pandas.concat instead.\n",
      "  df = previous_df.append(df)\n",
      "  Running Partition 23\n",
      "/Users/jolijneikelboom/Library/CloudStorage/OneDrive-Persoonlijk/Tilburg/Thesis/results.py:141: FutureWarning: The frame.append method is deprecated and will be removed from pandas in a future version. Use pandas.concat instead.\n",
      "  df = previous_df.append(df)\n",
      "  Running Partition 24\n",
      "/Users/jolijneikelboom/Library/CloudStorage/OneDrive-Persoonlijk/Tilburg/Thesis/results.py:141: FutureWarning: The frame.append method is deprecated and will be removed from pandas in a future version. Use pandas.concat instead.\n",
      "  df = previous_df.append(df)\n",
      "  Running Partition 25\n",
      "/Users/jolijneikelboom/Library/CloudStorage/OneDrive-Persoonlijk/Tilburg/Thesis/results.py:141: FutureWarning: The frame.append method is deprecated and will be removed from pandas in a future version. Use pandas.concat instead.\n",
      "  df = previous_df.append(df)\n",
      "  Running Partition 26\n",
      "/Users/jolijneikelboom/Library/CloudStorage/OneDrive-Persoonlijk/Tilburg/Thesis/results.py:141: FutureWarning: The frame.append method is deprecated and will be removed from pandas in a future version. Use pandas.concat instead.\n",
      "  df = previous_df.append(df)\n",
      "  Running Partition 27\n",
      "/Users/jolijneikelboom/Library/CloudStorage/OneDrive-Persoonlijk/Tilburg/Thesis/results.py:141: FutureWarning: The frame.append method is deprecated and will be removed from pandas in a future version. Use pandas.concat instead.\n",
      "  df = previous_df.append(df)\n",
      "  Running Partition 28\n",
      "/Users/jolijneikelboom/Library/CloudStorage/OneDrive-Persoonlijk/Tilburg/Thesis/results.py:141: FutureWarning: The frame.append method is deprecated and will be removed from pandas in a future version. Use pandas.concat instead.\n",
      "  df = previous_df.append(df)\n",
      "  Running Partition 29\n",
      "/Users/jolijneikelboom/Library/CloudStorage/OneDrive-Persoonlijk/Tilburg/Thesis/results.py:141: FutureWarning: The frame.append method is deprecated and will be removed from pandas in a future version. Use pandas.concat instead.\n",
      "  df = previous_df.append(df)\n"
     ]
    },
    {
     "name": "stdout",
     "output_type": "stream",
     "text": [
      "\n",
      "Running balance-scale dataset\n",
      "--------------------------\n",
      "Running SVMOP ...\n",
      "  Running Partition 0\n",
      "  Running Partition 1\n",
      "/Users/jolijneikelboom/Library/CloudStorage/OneDrive-Persoonlijk/Tilburg/Thesis/results.py:141: FutureWarning: The frame.append method is deprecated and will be removed from pandas in a future version. Use pandas.concat instead.\n",
      "  df = previous_df.append(df)\n",
      "  Running Partition 2\n",
      "/Users/jolijneikelboom/Library/CloudStorage/OneDrive-Persoonlijk/Tilburg/Thesis/results.py:141: FutureWarning: The frame.append method is deprecated and will be removed from pandas in a future version. Use pandas.concat instead.\n",
      "  df = previous_df.append(df)\n",
      "  Running Partition 3\n",
      "/Users/jolijneikelboom/Library/CloudStorage/OneDrive-Persoonlijk/Tilburg/Thesis/results.py:141: FutureWarning: The frame.append method is deprecated and will be removed from pandas in a future version. Use pandas.concat instead.\n",
      "  df = previous_df.append(df)\n",
      "  Running Partition 4\n",
      "/Users/jolijneikelboom/Library/CloudStorage/OneDrive-Persoonlijk/Tilburg/Thesis/results.py:141: FutureWarning: The frame.append method is deprecated and will be removed from pandas in a future version. Use pandas.concat instead.\n",
      "  df = previous_df.append(df)\n",
      "  Running Partition 5\n",
      "/Users/jolijneikelboom/Library/CloudStorage/OneDrive-Persoonlijk/Tilburg/Thesis/results.py:141: FutureWarning: The frame.append method is deprecated and will be removed from pandas in a future version. Use pandas.concat instead.\n",
      "  df = previous_df.append(df)\n",
      "  Running Partition 6\n",
      "/Users/jolijneikelboom/Library/CloudStorage/OneDrive-Persoonlijk/Tilburg/Thesis/results.py:141: FutureWarning: The frame.append method is deprecated and will be removed from pandas in a future version. Use pandas.concat instead.\n",
      "  df = previous_df.append(df)\n",
      "  Running Partition 7\n",
      "/Users/jolijneikelboom/Library/CloudStorage/OneDrive-Persoonlijk/Tilburg/Thesis/results.py:141: FutureWarning: The frame.append method is deprecated and will be removed from pandas in a future version. Use pandas.concat instead.\n",
      "  df = previous_df.append(df)\n",
      "  Running Partition 8\n",
      "/Users/jolijneikelboom/Library/CloudStorage/OneDrive-Persoonlijk/Tilburg/Thesis/results.py:141: FutureWarning: The frame.append method is deprecated and will be removed from pandas in a future version. Use pandas.concat instead.\n",
      "  df = previous_df.append(df)\n",
      "  Running Partition 9\n",
      "/Users/jolijneikelboom/Library/CloudStorage/OneDrive-Persoonlijk/Tilburg/Thesis/results.py:141: FutureWarning: The frame.append method is deprecated and will be removed from pandas in a future version. Use pandas.concat instead.\n",
      "  df = previous_df.append(df)\n",
      "  Running Partition 10\n",
      "/Users/jolijneikelboom/Library/CloudStorage/OneDrive-Persoonlijk/Tilburg/Thesis/results.py:141: FutureWarning: The frame.append method is deprecated and will be removed from pandas in a future version. Use pandas.concat instead.\n",
      "  df = previous_df.append(df)\n",
      "  Running Partition 11\n",
      "/Users/jolijneikelboom/Library/CloudStorage/OneDrive-Persoonlijk/Tilburg/Thesis/results.py:141: FutureWarning: The frame.append method is deprecated and will be removed from pandas in a future version. Use pandas.concat instead.\n",
      "  df = previous_df.append(df)\n",
      "  Running Partition 12\n",
      "/Users/jolijneikelboom/Library/CloudStorage/OneDrive-Persoonlijk/Tilburg/Thesis/results.py:141: FutureWarning: The frame.append method is deprecated and will be removed from pandas in a future version. Use pandas.concat instead.\n",
      "  df = previous_df.append(df)\n",
      "  Running Partition 13\n",
      "/Users/jolijneikelboom/Library/CloudStorage/OneDrive-Persoonlijk/Tilburg/Thesis/results.py:141: FutureWarning: The frame.append method is deprecated and will be removed from pandas in a future version. Use pandas.concat instead.\n",
      "  df = previous_df.append(df)\n",
      "  Running Partition 14\n",
      "/Users/jolijneikelboom/Library/CloudStorage/OneDrive-Persoonlijk/Tilburg/Thesis/results.py:141: FutureWarning: The frame.append method is deprecated and will be removed from pandas in a future version. Use pandas.concat instead.\n",
      "  df = previous_df.append(df)\n",
      "  Running Partition 15\n",
      "/Users/jolijneikelboom/Library/CloudStorage/OneDrive-Persoonlijk/Tilburg/Thesis/results.py:141: FutureWarning: The frame.append method is deprecated and will be removed from pandas in a future version. Use pandas.concat instead.\n",
      "  df = previous_df.append(df)\n",
      "  Running Partition 16\n",
      "/Users/jolijneikelboom/Library/CloudStorage/OneDrive-Persoonlijk/Tilburg/Thesis/results.py:141: FutureWarning: The frame.append method is deprecated and will be removed from pandas in a future version. Use pandas.concat instead.\n",
      "  df = previous_df.append(df)\n",
      "  Running Partition 17\n",
      "/Users/jolijneikelboom/Library/CloudStorage/OneDrive-Persoonlijk/Tilburg/Thesis/results.py:141: FutureWarning: The frame.append method is deprecated and will be removed from pandas in a future version. Use pandas.concat instead.\n",
      "  df = previous_df.append(df)\n",
      "  Running Partition 18\n",
      "/Users/jolijneikelboom/Library/CloudStorage/OneDrive-Persoonlijk/Tilburg/Thesis/results.py:141: FutureWarning: The frame.append method is deprecated and will be removed from pandas in a future version. Use pandas.concat instead.\n",
      "  df = previous_df.append(df)\n",
      "  Running Partition 19\n",
      "/Users/jolijneikelboom/Library/CloudStorage/OneDrive-Persoonlijk/Tilburg/Thesis/results.py:141: FutureWarning: The frame.append method is deprecated and will be removed from pandas in a future version. Use pandas.concat instead.\n",
      "  df = previous_df.append(df)\n",
      "  Running Partition 20\n",
      "/Users/jolijneikelboom/Library/CloudStorage/OneDrive-Persoonlijk/Tilburg/Thesis/results.py:141: FutureWarning: The frame.append method is deprecated and will be removed from pandas in a future version. Use pandas.concat instead.\n",
      "  df = previous_df.append(df)\n",
      "  Running Partition 21\n",
      "/Users/jolijneikelboom/Library/CloudStorage/OneDrive-Persoonlijk/Tilburg/Thesis/results.py:141: FutureWarning: The frame.append method is deprecated and will be removed from pandas in a future version. Use pandas.concat instead.\n",
      "  df = previous_df.append(df)\n",
      "  Running Partition 22\n",
      "/Users/jolijneikelboom/Library/CloudStorage/OneDrive-Persoonlijk/Tilburg/Thesis/results.py:141: FutureWarning: The frame.append method is deprecated and will be removed from pandas in a future version. Use pandas.concat instead.\n",
      "  df = previous_df.append(df)\n",
      "  Running Partition 23\n",
      "/Users/jolijneikelboom/Library/CloudStorage/OneDrive-Persoonlijk/Tilburg/Thesis/results.py:141: FutureWarning: The frame.append method is deprecated and will be removed from pandas in a future version. Use pandas.concat instead.\n",
      "  df = previous_df.append(df)\n",
      "  Running Partition 24\n",
      "/Users/jolijneikelboom/Library/CloudStorage/OneDrive-Persoonlijk/Tilburg/Thesis/results.py:141: FutureWarning: The frame.append method is deprecated and will be removed from pandas in a future version. Use pandas.concat instead.\n",
      "  df = previous_df.append(df)\n",
      "  Running Partition 25\n",
      "/Users/jolijneikelboom/Library/CloudStorage/OneDrive-Persoonlijk/Tilburg/Thesis/results.py:141: FutureWarning: The frame.append method is deprecated and will be removed from pandas in a future version. Use pandas.concat instead.\n",
      "  df = previous_df.append(df)\n",
      "  Running Partition 26\n",
      "/Users/jolijneikelboom/Library/CloudStorage/OneDrive-Persoonlijk/Tilburg/Thesis/results.py:141: FutureWarning: The frame.append method is deprecated and will be removed from pandas in a future version. Use pandas.concat instead.\n",
      "  df = previous_df.append(df)\n",
      "  Running Partition 27\n",
      "/Users/jolijneikelboom/Library/CloudStorage/OneDrive-Persoonlijk/Tilburg/Thesis/results.py:141: FutureWarning: The frame.append method is deprecated and will be removed from pandas in a future version. Use pandas.concat instead.\n",
      "  df = previous_df.append(df)\n",
      "  Running Partition 28\n",
      "/Users/jolijneikelboom/Library/CloudStorage/OneDrive-Persoonlijk/Tilburg/Thesis/results.py:141: FutureWarning: The frame.append method is deprecated and will be removed from pandas in a future version. Use pandas.concat instead.\n",
      "  df = previous_df.append(df)\n",
      "  Running Partition 29\n",
      "/Users/jolijneikelboom/Library/CloudStorage/OneDrive-Persoonlijk/Tilburg/Thesis/results.py:141: FutureWarning: The frame.append method is deprecated and will be removed from pandas in a future version. Use pandas.concat instead.\n",
      "  df = previous_df.append(df)\n"
     ]
    },
    {
     "name": "stdout",
     "output_type": "stream",
     "text": [
      "\n",
      "Running contact-lenses dataset\n",
      "--------------------------\n",
      "Running SVMOP ...\n",
      "  Running Partition 0\n",
      "  Running Partition 1\n",
      "/Users/jolijneikelboom/Library/CloudStorage/OneDrive-Persoonlijk/Tilburg/Thesis/results.py:141: FutureWarning: The frame.append method is deprecated and will be removed from pandas in a future version. Use pandas.concat instead.\n",
      "  df = previous_df.append(df)\n",
      "  Running Partition 2\n",
      "/Users/jolijneikelboom/Library/CloudStorage/OneDrive-Persoonlijk/Tilburg/Thesis/results.py:141: FutureWarning: The frame.append method is deprecated and will be removed from pandas in a future version. Use pandas.concat instead.\n",
      "  df = previous_df.append(df)\n",
      "  Running Partition 3\n",
      "/Users/jolijneikelboom/Library/CloudStorage/OneDrive-Persoonlijk/Tilburg/Thesis/results.py:141: FutureWarning: The frame.append method is deprecated and will be removed from pandas in a future version. Use pandas.concat instead.\n",
      "  df = previous_df.append(df)\n",
      "  Running Partition 4\n",
      "/Users/jolijneikelboom/Library/CloudStorage/OneDrive-Persoonlijk/Tilburg/Thesis/results.py:141: FutureWarning: The frame.append method is deprecated and will be removed from pandas in a future version. Use pandas.concat instead.\n",
      "  df = previous_df.append(df)\n",
      "  Running Partition 5\n",
      "/Users/jolijneikelboom/Library/CloudStorage/OneDrive-Persoonlijk/Tilburg/Thesis/results.py:141: FutureWarning: The frame.append method is deprecated and will be removed from pandas in a future version. Use pandas.concat instead.\n",
      "  df = previous_df.append(df)\n",
      "  Running Partition 6\n",
      "/Users/jolijneikelboom/Library/CloudStorage/OneDrive-Persoonlijk/Tilburg/Thesis/results.py:141: FutureWarning: The frame.append method is deprecated and will be removed from pandas in a future version. Use pandas.concat instead.\n",
      "  df = previous_df.append(df)\n",
      "  Running Partition 7\n",
      "/Users/jolijneikelboom/Library/CloudStorage/OneDrive-Persoonlijk/Tilburg/Thesis/results.py:141: FutureWarning: The frame.append method is deprecated and will be removed from pandas in a future version. Use pandas.concat instead.\n",
      "  df = previous_df.append(df)\n",
      "  Running Partition 8\n",
      "/Users/jolijneikelboom/Library/CloudStorage/OneDrive-Persoonlijk/Tilburg/Thesis/results.py:141: FutureWarning: The frame.append method is deprecated and will be removed from pandas in a future version. Use pandas.concat instead.\n",
      "  df = previous_df.append(df)\n",
      "  Running Partition 9\n",
      "/Users/jolijneikelboom/Library/CloudStorage/OneDrive-Persoonlijk/Tilburg/Thesis/results.py:141: FutureWarning: The frame.append method is deprecated and will be removed from pandas in a future version. Use pandas.concat instead.\n",
      "  df = previous_df.append(df)\n",
      "  Running Partition 10\n",
      "/Users/jolijneikelboom/Library/CloudStorage/OneDrive-Persoonlijk/Tilburg/Thesis/results.py:141: FutureWarning: The frame.append method is deprecated and will be removed from pandas in a future version. Use pandas.concat instead.\n",
      "  df = previous_df.append(df)\n",
      "  Running Partition 11\n",
      "/Users/jolijneikelboom/Library/CloudStorage/OneDrive-Persoonlijk/Tilburg/Thesis/results.py:141: FutureWarning: The frame.append method is deprecated and will be removed from pandas in a future version. Use pandas.concat instead.\n",
      "  df = previous_df.append(df)\n",
      "  Running Partition 12\n",
      "/Users/jolijneikelboom/Library/CloudStorage/OneDrive-Persoonlijk/Tilburg/Thesis/results.py:141: FutureWarning: The frame.append method is deprecated and will be removed from pandas in a future version. Use pandas.concat instead.\n",
      "  df = previous_df.append(df)\n",
      "  Running Partition 13\n",
      "/Users/jolijneikelboom/Library/CloudStorage/OneDrive-Persoonlijk/Tilburg/Thesis/results.py:141: FutureWarning: The frame.append method is deprecated and will be removed from pandas in a future version. Use pandas.concat instead.\n",
      "  df = previous_df.append(df)\n",
      "  Running Partition 14\n",
      "/Users/jolijneikelboom/Library/CloudStorage/OneDrive-Persoonlijk/Tilburg/Thesis/results.py:141: FutureWarning: The frame.append method is deprecated and will be removed from pandas in a future version. Use pandas.concat instead.\n",
      "  df = previous_df.append(df)\n",
      "  Running Partition 15\n",
      "/Users/jolijneikelboom/Library/CloudStorage/OneDrive-Persoonlijk/Tilburg/Thesis/results.py:141: FutureWarning: The frame.append method is deprecated and will be removed from pandas in a future version. Use pandas.concat instead.\n",
      "  df = previous_df.append(df)\n",
      "  Running Partition 16\n",
      "/Users/jolijneikelboom/Library/CloudStorage/OneDrive-Persoonlijk/Tilburg/Thesis/results.py:141: FutureWarning: The frame.append method is deprecated and will be removed from pandas in a future version. Use pandas.concat instead.\n",
      "  df = previous_df.append(df)\n",
      "  Running Partition 17\n",
      "/Users/jolijneikelboom/Library/CloudStorage/OneDrive-Persoonlijk/Tilburg/Thesis/results.py:141: FutureWarning: The frame.append method is deprecated and will be removed from pandas in a future version. Use pandas.concat instead.\n",
      "  df = previous_df.append(df)\n",
      "  Running Partition 18\n",
      "/Users/jolijneikelboom/Library/CloudStorage/OneDrive-Persoonlijk/Tilburg/Thesis/results.py:141: FutureWarning: The frame.append method is deprecated and will be removed from pandas in a future version. Use pandas.concat instead.\n",
      "  df = previous_df.append(df)\n",
      "  Running Partition 19\n",
      "/Users/jolijneikelboom/Library/CloudStorage/OneDrive-Persoonlijk/Tilburg/Thesis/results.py:141: FutureWarning: The frame.append method is deprecated and will be removed from pandas in a future version. Use pandas.concat instead.\n",
      "  df = previous_df.append(df)\n",
      "  Running Partition 20\n",
      "/Users/jolijneikelboom/Library/CloudStorage/OneDrive-Persoonlijk/Tilburg/Thesis/results.py:141: FutureWarning: The frame.append method is deprecated and will be removed from pandas in a future version. Use pandas.concat instead.\n",
      "  df = previous_df.append(df)\n",
      "  Running Partition 21\n",
      "/Users/jolijneikelboom/Library/CloudStorage/OneDrive-Persoonlijk/Tilburg/Thesis/results.py:141: FutureWarning: The frame.append method is deprecated and will be removed from pandas in a future version. Use pandas.concat instead.\n",
      "  df = previous_df.append(df)\n",
      "  Running Partition 22\n",
      "/Users/jolijneikelboom/Library/CloudStorage/OneDrive-Persoonlijk/Tilburg/Thesis/results.py:141: FutureWarning: The frame.append method is deprecated and will be removed from pandas in a future version. Use pandas.concat instead.\n",
      "  df = previous_df.append(df)\n",
      "  Running Partition 23\n",
      "/Users/jolijneikelboom/Library/CloudStorage/OneDrive-Persoonlijk/Tilburg/Thesis/results.py:141: FutureWarning: The frame.append method is deprecated and will be removed from pandas in a future version. Use pandas.concat instead.\n",
      "  df = previous_df.append(df)\n",
      "  Running Partition 24\n",
      "/Users/jolijneikelboom/Library/CloudStorage/OneDrive-Persoonlijk/Tilburg/Thesis/results.py:141: FutureWarning: The frame.append method is deprecated and will be removed from pandas in a future version. Use pandas.concat instead.\n",
      "  df = previous_df.append(df)\n",
      "  Running Partition 25\n",
      "/Users/jolijneikelboom/Library/CloudStorage/OneDrive-Persoonlijk/Tilburg/Thesis/results.py:141: FutureWarning: The frame.append method is deprecated and will be removed from pandas in a future version. Use pandas.concat instead.\n",
      "  df = previous_df.append(df)\n",
      "  Running Partition 26\n",
      "/Users/jolijneikelboom/Library/CloudStorage/OneDrive-Persoonlijk/Tilburg/Thesis/results.py:141: FutureWarning: The frame.append method is deprecated and will be removed from pandas in a future version. Use pandas.concat instead.\n",
      "  df = previous_df.append(df)\n",
      "  Running Partition 27\n",
      "/Users/jolijneikelboom/Library/CloudStorage/OneDrive-Persoonlijk/Tilburg/Thesis/results.py:141: FutureWarning: The frame.append method is deprecated and will be removed from pandas in a future version. Use pandas.concat instead.\n",
      "  df = previous_df.append(df)\n",
      "  Running Partition 28\n",
      "/Users/jolijneikelboom/Library/CloudStorage/OneDrive-Persoonlijk/Tilburg/Thesis/results.py:141: FutureWarning: The frame.append method is deprecated and will be removed from pandas in a future version. Use pandas.concat instead.\n",
      "  df = previous_df.append(df)\n",
      "  Running Partition 29\n",
      "/Users/jolijneikelboom/Library/CloudStorage/OneDrive-Persoonlijk/Tilburg/Thesis/results.py:141: FutureWarning: The frame.append method is deprecated and will be removed from pandas in a future version. Use pandas.concat instead.\n",
      "  df = previous_df.append(df)\n",
      "\n",
      "Saving Results...\n"
     ]
    }
   ],
   "source": [
    "!python config.py with configurations/single_test.json seed=12345 -l ERROR"
   ]
  },
  {
   "cell_type": "code",
   "execution_count": 21,
   "id": "6e7e431f",
   "metadata": {},
   "outputs": [],
   "source": [
    "def mae(y_true, predictions):\n",
    "    y_true, predictions = np.array(y_true), np.array(predictions)\n",
    "    return np.mean(np.abs(y_true - predictions))"
   ]
  },
  {
   "cell_type": "code",
   "execution_count": 22,
   "id": "5cb322ef",
   "metadata": {},
   "outputs": [
    {
     "data": {
      "text/plain": [
       "False"
      ]
     },
     "execution_count": 22,
     "metadata": {},
     "output_type": "execute_result"
    }
   ],
   "source": [
    "X_train_oversampled.isnull().values.any()"
   ]
  },
  {
   "cell_type": "markdown",
   "id": "4c0af71c",
   "metadata": {},
   "source": [
    "<font size=\"4\">5b. Apply functions</font>\n",
    "<br>\n",
    "\n"
   ]
  },
  {
   "cell_type": "markdown",
   "id": "7f7ef982",
   "metadata": {},
   "source": [
    "<font size=\"4\">\n",
    "    5.b.1. CSV1V1 \n",
    "<font size=\"3\">    \n",
    "    Why use neg_mean_absolute_error: https://scikit-learn.org/stable/modules/model_evaluation.html#scoring-parameter"
   ]
  },
  {
   "cell_type": "markdown",
   "id": "12d37c5a",
   "metadata": {},
   "source": [
    "Add here new parameters for C to addd + make sure it is OVO instead of OVR\n",
    "https://www.vebuso.com/2020/03/svm-hyperparameter-tuning-using-gridsearchcv/"
   ]
  },
  {
   "cell_type": "code",
   "execution_count": 23,
   "id": "dc87d39f",
   "metadata": {},
   "outputs": [
    {
     "name": "stdout",
     "output_type": "stream",
     "text": [
      "Fitting 4 folds for each of 9 candidates, totalling 36 fits\n",
      "[CV 1/4] END ..........estimator__C=0.1, estimator__gamma=10; total time=  53.3s\n",
      "[CV 2/4] END ..........estimator__C=0.1, estimator__gamma=10; total time=  40.9s\n",
      "[CV 3/4] END ..........estimator__C=0.1, estimator__gamma=10; total time=  39.6s\n",
      "[CV 4/4] END ..........estimator__C=0.1, estimator__gamma=10; total time=  34.8s\n",
      "[CV 1/4] END ...........estimator__C=0.1, estimator__gamma=1; total time=  29.9s\n",
      "[CV 2/4] END ...........estimator__C=0.1, estimator__gamma=1; total time=  29.4s\n",
      "[CV 3/4] END ...........estimator__C=0.1, estimator__gamma=1; total time=  34.9s\n",
      "[CV 4/4] END ...........estimator__C=0.1, estimator__gamma=1; total time=  33.3s\n",
      "[CV 1/4] END .........estimator__C=0.1, estimator__gamma=0.1; total time=  26.3s\n",
      "[CV 2/4] END .........estimator__C=0.1, estimator__gamma=0.1; total time=  26.2s\n",
      "[CV 3/4] END .........estimator__C=0.1, estimator__gamma=0.1; total time=  27.3s\n",
      "[CV 4/4] END .........estimator__C=0.1, estimator__gamma=0.1; total time=  26.2s\n",
      "[CV 1/4] END ............estimator__C=1, estimator__gamma=10; total time=  21.2s\n",
      "[CV 2/4] END ............estimator__C=1, estimator__gamma=10; total time=  21.7s\n",
      "[CV 3/4] END ............estimator__C=1, estimator__gamma=10; total time=  19.8s\n",
      "[CV 4/4] END ............estimator__C=1, estimator__gamma=10; total time=  20.6s\n",
      "[CV 1/4] END .............estimator__C=1, estimator__gamma=1; total time=  17.6s\n",
      "[CV 2/4] END .............estimator__C=1, estimator__gamma=1; total time=  17.6s\n",
      "[CV 3/4] END .............estimator__C=1, estimator__gamma=1; total time=  17.9s\n",
      "[CV 4/4] END .............estimator__C=1, estimator__gamma=1; total time=  17.9s\n",
      "[CV 1/4] END ...........estimator__C=1, estimator__gamma=0.1; total time=  21.9s\n",
      "[CV 2/4] END ...........estimator__C=1, estimator__gamma=0.1; total time=  21.9s\n",
      "[CV 3/4] END ...........estimator__C=1, estimator__gamma=0.1; total time=  21.8s\n",
      "[CV 4/4] END ...........estimator__C=1, estimator__gamma=0.1; total time=  21.7s\n",
      "[CV 1/4] END ...........estimator__C=10, estimator__gamma=10; total time=  15.9s\n",
      "[CV 2/4] END ...........estimator__C=10, estimator__gamma=10; total time=  16.2s\n",
      "[CV 3/4] END ...........estimator__C=10, estimator__gamma=10; total time=  16.8s\n",
      "[CV 4/4] END ...........estimator__C=10, estimator__gamma=10; total time=  16.7s\n",
      "[CV 1/4] END ............estimator__C=10, estimator__gamma=1; total time=  14.2s\n",
      "[CV 2/4] END ............estimator__C=10, estimator__gamma=1; total time=  14.5s\n",
      "[CV 3/4] END ............estimator__C=10, estimator__gamma=1; total time=  14.9s\n",
      "[CV 4/4] END ............estimator__C=10, estimator__gamma=1; total time=  15.0s\n",
      "[CV 1/4] END ..........estimator__C=10, estimator__gamma=0.1; total time=  21.5s\n",
      "[CV 2/4] END ..........estimator__C=10, estimator__gamma=0.1; total time=  21.8s\n",
      "[CV 3/4] END ..........estimator__C=10, estimator__gamma=0.1; total time=  24.0s\n",
      "[CV 4/4] END ..........estimator__C=10, estimator__gamma=0.1; total time=  23.7s\n",
      "{'estimator__C': 1, 'estimator__gamma': 10}\n"
     ]
    }
   ],
   "source": [
    "param_grid = {'estimator__C': [0.1, 1, 10], 'estimator__gamma': [10, 1,0.1]}\n",
    "model = SVC(decision_function_shape = 'ovo')\n",
    "ovo = OneVsOneClassifier(model)\n",
    "ovo_gscv = GridSearchCV(ovo, param_grid, scoring = 'neg_mean_absolute_error', return_train_score = True, cv = 4, verbose = 3)\n",
    "ovo_gscv.fit(X_train_oversampled, y_train_oversampled) #je fit hem op de oversamplede data\n",
    "\n",
    "print(ovo_gscv.best_params_)"
   ]
  },
  {
   "cell_type": "code",
   "execution_count": 24,
   "id": "50fe77b1",
   "metadata": {},
   "outputs": [
    {
     "data": {
      "text/html": [
       "<div>\n",
       "<style scoped>\n",
       "    .dataframe tbody tr th:only-of-type {\n",
       "        vertical-align: middle;\n",
       "    }\n",
       "\n",
       "    .dataframe tbody tr th {\n",
       "        vertical-align: top;\n",
       "    }\n",
       "\n",
       "    .dataframe thead th {\n",
       "        text-align: right;\n",
       "    }\n",
       "</style>\n",
       "<table border=\"1\" class=\"dataframe\">\n",
       "  <thead>\n",
       "    <tr style=\"text-align: right;\">\n",
       "      <th></th>\n",
       "      <th>mansupp</th>\n",
       "      <th>teamfeel</th>\n",
       "      <th>mcwrkhom</th>\n",
       "      <th>hincfel</th>\n",
       "      <th>trdawrk</th>\n",
       "      <th>manhlp</th>\n",
       "      <th>Predicted</th>\n",
       "      <th>Actual</th>\n",
       "    </tr>\n",
       "  </thead>\n",
       "  <tbody>\n",
       "    <tr>\n",
       "      <th>4998</th>\n",
       "      <td>5.0</td>\n",
       "      <td>10.0</td>\n",
       "      <td>5.0</td>\n",
       "      <td>1.0</td>\n",
       "      <td>3.0</td>\n",
       "      <td>1.0</td>\n",
       "      <td>4</td>\n",
       "      <td>3</td>\n",
       "    </tr>\n",
       "    <tr>\n",
       "      <th>17232</th>\n",
       "      <td>5.0</td>\n",
       "      <td>10.0</td>\n",
       "      <td>5.0</td>\n",
       "      <td>2.0</td>\n",
       "      <td>1.0</td>\n",
       "      <td>2.0</td>\n",
       "      <td>4</td>\n",
       "      <td>4</td>\n",
       "    </tr>\n",
       "    <tr>\n",
       "      <th>4911</th>\n",
       "      <td>10.0</td>\n",
       "      <td>8.0</td>\n",
       "      <td>5.0</td>\n",
       "      <td>2.0</td>\n",
       "      <td>2.0</td>\n",
       "      <td>2.0</td>\n",
       "      <td>4</td>\n",
       "      <td>4</td>\n",
       "    </tr>\n",
       "    <tr>\n",
       "      <th>16185</th>\n",
       "      <td>8.0</td>\n",
       "      <td>10.0</td>\n",
       "      <td>0.0</td>\n",
       "      <td>1.0</td>\n",
       "      <td>4.0</td>\n",
       "      <td>1.0</td>\n",
       "      <td>4</td>\n",
       "      <td>4</td>\n",
       "    </tr>\n",
       "    <tr>\n",
       "      <th>17455</th>\n",
       "      <td>2.0</td>\n",
       "      <td>5.0</td>\n",
       "      <td>0.0</td>\n",
       "      <td>3.0</td>\n",
       "      <td>4.0</td>\n",
       "      <td>3.0</td>\n",
       "      <td>4</td>\n",
       "      <td>1</td>\n",
       "    </tr>\n",
       "  </tbody>\n",
       "</table>\n",
       "</div>"
      ],
      "text/plain": [
       "       mansupp  teamfeel  mcwrkhom  hincfel  trdawrk  manhlp  Predicted  \\\n",
       "4998       5.0      10.0       5.0      1.0      3.0     1.0          4   \n",
       "17232      5.0      10.0       5.0      2.0      1.0     2.0          4   \n",
       "4911      10.0       8.0       5.0      2.0      2.0     2.0          4   \n",
       "16185      8.0      10.0       0.0      1.0      4.0     1.0          4   \n",
       "17455      2.0       5.0       0.0      3.0      4.0     3.0          4   \n",
       "\n",
       "       Actual  \n",
       "4998        3  \n",
       "17232       4  \n",
       "4911        4  \n",
       "16185       4  \n",
       "17455       1  "
      ]
     },
     "execution_count": 24,
     "metadata": {},
     "output_type": "execute_result"
    }
   ],
   "source": [
    "#ovo_best = ovo(param_grid = {'estimator__C': 10, 'estimator__gamma': 0.01,'estimator__kernel': 'rbf'}\n",
    "ovo_gscv_predictions = ovo_gscv.predict(X_test_final) \n",
    "ovo_gscv_df = X_test_final.copy()\n",
    "ovo_gscv_df.insert(6, 'Actual', y_test_final, True)\n",
    "ovo_gscv_df.insert(6, 'Predicted', ovo_gscv_predictions, True)\n",
    "\n",
    "list_true_scores = list(ovo_gscv_df['Actual'])\n",
    "list_ovo_gscv_predicted = list(ovo_gscv_df['Predicted'])\n",
    "\n",
    "ovo_gscv_df.head()"
   ]
  },
  {
   "cell_type": "markdown",
   "id": "caf084d9",
   "metadata": {},
   "source": [
    "print(ovo_gscv_df.Actual)"
   ]
  },
  {
   "cell_type": "code",
   "execution_count": 25,
   "id": "99f24be2",
   "metadata": {},
   "outputs": [
    {
     "name": "stdout",
     "output_type": "stream",
     "text": [
      "satisfaction\n",
      "4               4077\n",
      "3               2002\n",
      "2                668\n",
      "1                516\n",
      "dtype: int64\n",
      "satisfaction\n",
      "1               4077\n",
      "2               4077\n",
      "3               4077\n",
      "4               4077\n",
      "dtype: int64\n",
      "satisfaction\n",
      "4               1070\n",
      "3                448\n",
      "2                162\n",
      "1                136\n",
      "dtype: int64\n"
     ]
    }
   ],
   "source": [
    "print(y_train.value_counts())\n",
    "print(y_train_oversampled.value_counts())\n",
    "print(y_test_final.value_counts())"
   ]
  },
  {
   "cell_type": "code",
   "execution_count": 26,
   "id": "9a281081",
   "metadata": {},
   "outputs": [
    {
     "name": "stdout",
     "output_type": "stream",
     "text": [
      "Mae SCV1V1 after gridsearch 0.7935022026431718\n",
      "The best estimators: OneVsOneClassifier(estimator=SVC(C=1, decision_function_shape='ovo', gamma=10))\n"
     ]
    }
   ],
   "source": [
    "ovo_gscv_true = ovo_gscv_df.Actual\n",
    "ovo_gscv_predicted = ovo_gscv_df.Predicted\n",
    "\n",
    "def mae(y_true, predictions):\n",
    "    y_true, predictions = np.array(y_true), np.array(predictions)\n",
    "    return np.mean(np.abs(y_true - predictions))\n",
    "\n",
    "print('Mae SCV1V1 after gridsearch', mae(ovo_gscv_true, ovo_gscv_predicted))\n",
    "print('The best estimators:', ovo_gscv.best_estimator_)\n",
    "mae_ovo_gscv = mae(ovo_gscv_true, ovo_gscv_predicted)"
   ]
  },
  {
   "cell_type": "code",
   "execution_count": 27,
   "id": "c0aa9018",
   "metadata": {},
   "outputs": [
    {
     "name": "stdout",
     "output_type": "stream",
     "text": [
      "[Text(0.5, 15.0, 'Predicted'), Text(33.0, 0.5, 'True')]\n"
     ]
    },
    {
     "data": {
      "image/png": "[encoded data removed]",
      "text/plain": [
       "<Figure size 432x288 with 2 Axes>"
      ]
     },
     "metadata": {
      "needs_background": "light"
     },
     "output_type": "display_data"
    }
   ],
   "source": [
    "##CM with percentages\n",
    "ovo_cf_matrix = confusion_matrix(ovo_gscv_true, ovo_gscv_predicted)\n",
    "##CM with Percentages\n",
    "ovo_ax = sns.heatmap(ovo_cf_matrix/np.sum(ovo_cf_matrix), annot=True, \n",
    "            fmt='.2%', cmap='Oranges')\n",
    "print(ovo_ax.set(xlabel='Predicted', ylabel='True'))"
   ]
  },
  {
   "cell_type": "code",
   "execution_count": 28,
   "id": "09fb6e04",
   "metadata": {},
   "outputs": [
    {
     "name": "stdout",
     "output_type": "stream",
     "text": [
      "mae is 0.7935022026431718\n",
      "mze is 0.49614537444933926\n"
     ]
    }
   ],
   "source": [
    "true_scores = ovo_gscv_df.Actual.copy()\n",
    "print('mae is', mae(true_scores, ovo_gscv_predictions))\n",
    "print('mze is', zero_one_loss(true_scores, ovo_gscv_predictions))"
   ]
  },
  {
   "cell_type": "code",
   "execution_count": null,
   "id": "ef465747",
   "metadata": {},
   "outputs": [],
   "source": []
  },
  {
   "cell_type": "code",
   "execution_count": 29,
   "id": "59787dda",
   "metadata": {},
   "outputs": [
    {
     "name": "stdout",
     "output_type": "stream",
     "text": [
      "1816\n"
     ]
    }
   ],
   "source": [
    "true_scores = ovo_gscv_df.Actual.copy()\n",
    "print(len(true_scores))"
   ]
  },
  {
   "cell_type": "markdown",
   "id": "52ba1646",
   "metadata": {},
   "source": [
    "Find Optimal C by grid search \n",
    "https://datascience.stackexchange.com/questions/41680/how-to-implement-gridsearchcv-for-onevsrestclassifier-of-logisticregression-clas"
   ]
  },
  {
   "cell_type": "markdown",
   "id": "3e5d65a0",
   "metadata": {},
   "source": [
    "<font size=\"4\">\n",
    "    5.b.2. SVMOP"
   ]
  },
  {
   "cell_type": "markdown",
   "id": "a938cc08",
   "metadata": {},
   "source": [
    "https://towardsdatascience.com/grid-search-in-python-from-scratch-hyperparameter-tuning-3cca8443727b"
   ]
  },
  {
   "cell_type": "code",
   "execution_count": 30,
   "id": "e6843acb",
   "metadata": {},
   "outputs": [],
   "source": [
    "path.append('classifiers')\n",
    "svmopModule = __import__(\"OrdinalDecomposition\")\n",
    "svmop= svmopModule.OrdinalDecomposition"
   ]
  },
  {
   "cell_type": "code",
   "execution_count": 31,
   "id": "b04cc24a",
   "metadata": {},
   "outputs": [],
   "source": [
    "parameter_list_C = [0.1, 1, 10]\n",
    "parameter_list_Gamma = [0.1, 1, 10]\n",
    "\n",
    "kf = KFold(n_splits=4, random_state=None, shuffle=False)\n",
    "\n",
    "#kf.split split en geeft indexes van X en y voor elke split.  \n",
    "#loc gebruikt namen, iloc gebruikt index\n",
    "\n"
   ]
  },
  {
   "cell_type": "markdown",
   "id": "b9120012",
   "metadata": {},
   "source": [
    "for C in parameter_list_C:\n",
    "    for G in parameter_list_Gamma: #Hier gaat die dus voor de value van C, over elk van G. \n",
    "        print(f'C is nu: {C}, G is nu {G}')\n",
    "        svmop_gscv = svmop(dtype = 'ordered_partitions', \n",
    "                              decision_method = 'frank_hall', \n",
    "                               base_classifier = 'sklearn.svm.SVC', \n",
    "                               parameters={'C': C,\n",
    "                                           'gamma':G, \n",
    "                                           'probability':True})\n",
    "        mae_fold = 0\n",
    "        for train_index, test_index in kf.split(X):\n",
    "            X_train, X_test = X.iloc[train_index, :], X.iloc[test_index,:]\n",
    "            y_train, y_test = y.iloc[train_index,], y.iloc[test_index,]\n",
    "            svmop_gscv_fit = svmop_gscv.fit(X_train, y_train)\n",
    "            svmop_gscv_predictions = svmop_gscv.predict(X_test)\n",
    "            real_scores_svmop = list(y_test['satisfaction'])\n",
    "            mae_in_between = mae(real_scores_svmop, svmop_gscv_predictions)\n",
    "            mae_fold += mae_in_between\n",
    "            print(mae_in_between)\n",
    "        print('belonging mae is:', mae_fold /4)\n",
    "    "
   ]
  },
  {
   "cell_type": "code",
   "execution_count": 32,
   "id": "9d85cbb8",
   "metadata": {},
   "outputs": [
    {
     "name": "stdout",
     "output_type": "stream",
     "text": [
      "satisfaction\n",
      "4               1070\n",
      "3                448\n",
      "2                162\n",
      "1                136\n",
      "dtype: int64\n",
      "satisfaction\n",
      "1               4077\n",
      "2               4077\n",
      "3               4077\n",
      "4               4077\n",
      "dtype: int64\n"
     ]
    }
   ],
   "source": [
    "print(y_test_final.value_counts())\n",
    "print(y_train_oversampled.value_counts())"
   ]
  },
  {
   "cell_type": "code",
   "execution_count": 37,
   "id": "ebf91f9b",
   "metadata": {},
   "outputs": [],
   "source": [
    "svmop_best = svmop(dtype = 'ordered_partitions', \n",
    "                               decision_method = 'frank_hall', \n",
    "                               base_classifier = 'sklearn.svm.SVC', \n",
    "                               parameters={'C': 0.1,\n",
    "                                           'gamma': 0.1, \n",
    "                                           'probability':True})\n",
    "svmop_best.fit(X_train_oversampled, y_train_oversampled)\n",
    "svmop_best_predictions = svmop_best.predict(X_test_final)\n",
    "\n"
   ]
  },
  {
   "cell_type": "code",
   "execution_count": 38,
   "id": "185e048e",
   "metadata": {},
   "outputs": [
    {
     "name": "stdout",
     "output_type": "stream",
     "text": [
      "[Text(0.5, 15.0, 'Predicted'), Text(33.0, 0.5, 'True')]\n"
     ]
    },
    {
     "data": {
      "image/png": "[encoded data removed]",
      "text/plain": [
       "<Figure size 432x288 with 2 Axes>"
      ]
     },
     "metadata": {
      "needs_background": "light"
     },
     "output_type": "display_data"
    }
   ],
   "source": [
    "svmop_cf_matrix = confusion_matrix(true_scores, svmop_best_predictions)\n",
    "\n",
    "svmop_ax = sns.heatmap(svmop_cf_matrix/np.sum(svmop_cf_matrix), annot=True, \n",
    "            fmt='.2%', cmap='Oranges')\n",
    "print(svmop_ax.set(xlabel='Predicted', ylabel='True'))"
   ]
  },
  {
   "cell_type": "code",
   "execution_count": 65,
   "id": "c0c5e4c2",
   "metadata": {},
   "outputs": [
    {
     "name": "stdout",
     "output_type": "stream",
     "text": [
      "0.7505506607929515\n",
      "0.5881057268722467\n"
     ]
    }
   ],
   "source": [
    "print(mae(true_scores, svmop_best_predictions))\n",
    "print(zero_one_loss(true_scores, svmop_best_predictions))"
   ]
  },
  {
   "cell_type": "markdown",
   "id": "7b2482d0",
   "metadata": {},
   "source": [
    "<font size=\"4\">\n",
    "    5.b.3. SVOREX"
   ]
  },
  {
   "cell_type": "code",
   "execution_count": 40,
   "id": "208669dd",
   "metadata": {},
   "outputs": [],
   "source": [
    "path.append('classifiers')\n",
    "svorexModule = __import__(\"SVOREX\")\n",
    "svorex= svorexModule.SVOREX"
   ]
  },
  {
   "cell_type": "code",
   "execution_count": 41,
   "id": "efaecf06",
   "metadata": {},
   "outputs": [],
   "source": [
    "valuesC = [0.01, 0.1, 1, 10]"
   ]
  },
  {
   "cell_type": "markdown",
   "id": "d2a9fa94",
   "metadata": {},
   "source": [
    "##Bij deze methode pakt die de hoogste MAE vanuit een fold ipv ze te middelen. \n",
    "svorex_gscv = GridSearchCV(estimator=svorex(), \n",
    "                           scoring = 'neg_mean_absolute_error', \n",
    "                           param_grid={'c': valuesC, 'k': valuesK}, \n",
    "                           cv=4, n_jobs=-1)\n",
    "\n",
    "#Se entrena el modelo SVOREX con los datos de entrenamiento\n",
    "svorex_gscv_fit = svorex_gscv.fit(X_10p_train_oversampled, y_10p_train_oversampled)\n",
    "\n",
    "#Se predicen las etiquetas de test\n",
    "svorex_gscv_predictions = svorex_gscv.predict(X_test)\n",
    "\n",
    "svorex_gscv_df = X_test.copy()\n",
    "svorex_gscv_df.insert(37, 'Actual', y_test, True)\n",
    "svorex_gscv_df.insert(37, 'Predicted', svorex_gscv_predictions, True)\n",
    "\n",
    "svorex_gscv_df.head()\n",
    "\n",
    "svorex_gscv_true = svorex_gscv_df.Actual\n",
    "svorex_gscv_predicted = svorex_gscv_df.Predicted\n",
    "\n",
    "list_svorex_gscv_true = list(svorex_gscv_df.Actual)\n",
    "list_svorex_gscv_predicted = list(svorex_gscv_df.Predicted)\n",
    "\n",
    "print('Mae svorex after gridsearch', mae(svorex_gscv_true, svorex_gscv_predicted))\n",
    "print(\"The best estimators:\", svorex_gscv.best_estimator_)"
   ]
  },
  {
   "cell_type": "markdown",
   "id": "42fd0c52",
   "metadata": {},
   "source": [
    "##CM with counts \n",
    "svorex_gscv_cf_matrix = confusion_matrix(svorex_gscv_predicted, svorex_gscv_true)\n",
    "##CM with Percentages\n",
    "svorex_ax = sns.heatmap(svorex_gscv_cf_matrix/np.sum(svorex_gscv_cf_matrix), annot=True, \n",
    "            fmt='.2%', cmap='Blues')\n",
    "svorex_ax.set_title('CM svorex after gridsearch, MAE: 0.18')\n",
    "print(svorex_ax.set(xlabel='True', ylabel='Predicted'))"
   ]
  },
  {
   "cell_type": "markdown",
   "id": "f7d2396f",
   "metadata": {},
   "source": [
    "#SVOREX with selfmade gridsearch CV to check if it gives the same result --> does not, bij deze middelt die niet\n",
    "for C in valuesC:\n",
    "    for K in valuesK: #Hier gaat die dus voor de value van C, over elk van K. \n",
    "        print(f'C is nu: {C}')\n",
    "        svorex_gscv = svorex(c = C)\n",
    "        mae_fold = 0\n",
    "        for train_index, test_index in kf.split(X):\n",
    "            X_train, X_test = X.iloc[train_index, :], X.iloc[test_index,:]\n",
    "            y_train, y_test = y.iloc[train_index,], y.iloc[test_index,]\n",
    "            svorex_gscv_fit = svorex_gscv.fit(X_train, y_train)\n",
    "            svorex_gscv_predictions = svorex_gscv.predict(X_test)\n",
    "            real_scores_svorex = list(y_test['satisfaction'])\n",
    "            mae_fold += mae(y_test, svorex_gscv_predictions)\n",
    "            print(mae(y_test, svorex_gscv_predictions))\n",
    "        print('belonging mae is:', mae_fold /4 )\n",
    "        "
   ]
  },
  {
   "cell_type": "code",
   "execution_count": 43,
   "id": "fa7f44da",
   "metadata": {},
   "outputs": [],
   "source": [
    "svorex_best = svorex(c = 1)\n",
    "svorex_best.fit(X_train_oversampled, y_train_oversampled)\n",
    "svorex_best_predictions = svorex_best.predict(X_test_final)"
   ]
  },
  {
   "cell_type": "code",
   "execution_count": 58,
   "id": "25daca32",
   "metadata": {
    "scrolled": true
   },
   "outputs": [
    {
     "name": "stdout",
     "output_type": "stream",
     "text": [
      "[Text(0.5, 15.0, 'Predicted'), Text(33.0, 0.5, 'True')]\n"
     ]
    },
    {
     "data": {
      "image/png": "[encoded data removed]",
      "text/plain": [
       "<Figure size 432x288 with 2 Axes>"
      ]
     },
     "metadata": {
      "needs_background": "light"
     },
     "output_type": "display_data"
    }
   ],
   "source": [
    "svorex_cf_matrix = confusion_matrix(y_test_final, svorex_best_predictions)\n",
    "##CM with Percentages\n",
    "svorex_new = sns.heatmap(svorex_cf_matrix/np.sum(svorex_cf_matrix), annot=True, \n",
    "            fmt='.2%', cmap='Oranges')\n",
    "print(svorex_new.set(xlabel='Predicted', ylabel='True'))\n",
    "\n"
   ]
  },
  {
   "cell_type": "code",
   "execution_count": 59,
   "id": "f80f00aa",
   "metadata": {},
   "outputs": [
    {
     "name": "stdout",
     "output_type": "stream",
     "text": [
      "1.0347316559607211\n",
      "0.5280837004405287\n"
     ]
    }
   ],
   "source": [
    "print(mae(y_test_final, svorex_best_predictions))\n",
    "print(zero_one_loss(y_test_final, svorex_best_predictions))"
   ]
  },
  {
   "cell_type": "markdown",
   "id": "44ee75a5",
   "metadata": {},
   "source": [
    "<font size=\"4\">\n",
    "    5.b.4. REDSVM"
   ]
  },
  {
   "cell_type": "code",
   "execution_count": 46,
   "id": "37e42768",
   "metadata": {},
   "outputs": [],
   "source": [
    "path.append('classifiers')\n",
    "redsvmModule = __import__(\"REDSVM\")\n",
    "redsvm = redsvmModule.REDSVM\n",
    "valuesG = [0.1, 1, 10]\n",
    "valuesc = [0.1, 1, 10]\n",
    "kf = KFold(n_splits=4, random_state=None, shuffle=False)"
   ]
  },
  {
   "cell_type": "markdown",
   "id": "b5a491e4",
   "metadata": {},
   "source": [
    "#Se prepara la selección de parámetros\n",
    "redsvm_gscv = GridSearchCV(estimator=redsvm(), scoring = 'neg_mean_absolute_error', param_grid={'c': valuesC, 'g': valuesG}, cv=4, n_jobs=-1)\n",
    "\n",
    "#Se entrena el modelo REDSVM con los datos de entrenamiento\n",
    "redsvm_gscv_fit = redsvm_gscv.fit(X_10p_train_oversampled, y_10p_train_oversampled)\n",
    "\n",
    "#Se predicen las etiquetas de test\n",
    "redsvm_gscv_predictions = redsvm_gscv.predict(X_test)\n",
    "\n",
    "\n",
    "redsvm_gscv_df = X_test.copy()\n",
    "redsvm_gscv_df.insert(37, 'Actual', y_test, True)\n",
    "redsvm_gscv_df.insert(37, 'Predicted', redsvm_gscv_predictions, True)\n",
    "\n",
    "redsvm_gscv_df.head()\n",
    "\n",
    "redsvm_gscv_true = redsvm_gscv_df.Actual\n",
    "redsvm_gscv_predicted = redsvm_gscv_df.Predicted\n",
    "list_redsvm_gscv_true = list(redsvm_gscv_df.Actual)\n",
    "list_redsvm_gscv_predicted = list(redsvm_gscv_df.Predicted)\n",
    "\n",
    "\n",
    "#Resultados\n",
    "mae_redsvm_gscv = mae(redsvm_gscv_true, redsvm_gscv_predicted)\n",
    "print(\"Resultados obtenidos\")\n",
    "print(\"MAE is\", mae_redsvm_gscv)\n",
    "print(\"The best estimators:\", redsvm_gscv.best_estimator_)\n"
   ]
  },
  {
   "cell_type": "markdown",
   "id": "5394e939",
   "metadata": {},
   "source": [
    "##CM with counts \n",
    "redsvm_gscv_cf_matrix = confusion_matrix(redsvm_gscv_predicted, redsvm_gscv_true)\n",
    "##CM with Percentages\n",
    "redsvm_ax = sns.heatmap(redsvm_gscv_cf_matrix/np.sum(redsvm_gscv_cf_matrix), annot=True, \n",
    "            fmt='.2%', cmap='Blues')\n",
    "redsvm_ax.set_title('CM redsvm')\n",
    "print(redsvm_ax.set(xlabel='True', ylabel='Predicted'))"
   ]
  },
  {
   "cell_type": "markdown",
   "id": "bd98b461",
   "metadata": {
    "scrolled": true
   },
   "source": [
    "##make REDSVM gridsearch by yourself.\n",
    "for C in valuesc:\n",
    "    for G in valuesG: #Hier gaat die dus voor de value van C, over elk van G. \n",
    "        print(f'C is nu: {C}, g is nu {G}')\n",
    "        redsvm_gscv = redsvm(c = C, g = G)\n",
    "        mae_fold = 0\n",
    "        for train_index, test_index in kf.split(X):\n",
    "            X_train, X_test = X.iloc[train_index, :], X.iloc[test_index,:]\n",
    "            y_train, y_test = y.iloc[train_index,], y.iloc[test_index,]\n",
    "            redsvm_gscv_fit = redsvm_gscv.fit(X_train, y_train)\n",
    "            redsvm_gscv_predictions = redsvm_gscv.predict(X_test)\n",
    "            real_scores_redsvm = list(y_test['satisfaction']) \n",
    "            mae_fold += mae(y_test, redsvm_gscv_predictions)\n",
    "            print(mae(y_test, redsvm_gscv_predictions))\n",
    "        print('belonging mae is:', mae_fold /4 )\n"
   ]
  },
  {
   "cell_type": "code",
   "execution_count": 47,
   "id": "78f07533",
   "metadata": {},
   "outputs": [],
   "source": [
    "redsvm_best = redsvm(c = 0.1, g =10)\n",
    "redsvm_best_fit = redsvm_best.fit(X_train_oversampled, y_train_oversampled)\n",
    "redsvm_best_predictions = redsvm_best.predict(X_test_final)"
   ]
  },
  {
   "cell_type": "code",
   "execution_count": 48,
   "id": "34789e89",
   "metadata": {
    "scrolled": true
   },
   "outputs": [
    {
     "name": "stdout",
     "output_type": "stream",
     "text": [
      "[Text(0.5, 15.0, 'Predicted'), Text(33.0, 0.5, 'True')]\n"
     ]
    },
    {
     "data": {
      "image/png": "[encoded data removed]",
      "text/plain": [
       "<Figure size 432x288 with 2 Axes>"
      ]
     },
     "metadata": {
      "needs_background": "light"
     },
     "output_type": "display_data"
    }
   ],
   "source": [
    "redsvm_cf_matrix = confusion_matrix(y_test_final, redsvm_best_predictions)\n",
    "##CM with Percentages\n",
    "redsvm_ax = sns.heatmap(redsvm_cf_matrix/np.sum(redsvm_cf_matrix), annot=True, \n",
    "            fmt='.2%', cmap='Oranges')\n",
    "\n",
    "print(redsvm_ax.set(xlabel='Predicted', ylabel='True'))"
   ]
  },
  {
   "cell_type": "code",
   "execution_count": 61,
   "id": "5e3b7173",
   "metadata": {},
   "outputs": [
    {
     "name": "stdout",
     "output_type": "stream",
     "text": [
      "0.8671476256088805\n",
      "0.7230176211453745\n"
     ]
    }
   ],
   "source": [
    "print(mae(y_test_final, redsvm_best_predictions))\n",
    "print(zero_one_loss(y_test_final, redsvm_best_predictions))"
   ]
  },
  {
   "cell_type": "markdown",
   "id": "27e41ab4",
   "metadata": {},
   "source": [
    "<font size=\"4\">\n",
    "5.c Comparison of models"
   ]
  },
  {
   "cell_type": "markdown",
   "id": "9de5b8db",
   "metadata": {},
   "source": [
    "How to apply wilcoxon test:\n",
    "1.  You need a list which values represent the differences between two groups.\n",
    "2. In my case, that list should thus compare the error of one model with the error of another model, for every instance. HOW:\n",
    "    a. make a column that shows error for every model. (example: error_ovo = abs(ovo_predicted - true)\n",
    "    b. make a list that compares two of those columns. (example: differences = error_ovo - error_svmop).\n",
    "    c. Now you have the list that compares the errors, as required by step 2. \n",
    "3. This list can be put into the wilcoxon test. The wilcoxon takes the list of differences and produces a statistic and p.value.\n",
    "\n",
    "For example on other dataset see link.\n",
    "https://docs.scipy.org/doc/scipy/reference/generated/scipy.stats.wilcoxon.html"
   ]
  },
  {
   "cell_type": "code",
   "execution_count": 66,
   "id": "afa350fb",
   "metadata": {},
   "outputs": [
    {
     "name": "stdout",
     "output_type": "stream",
     "text": [
      "0.7935022026431718\n",
      "0.7505506607929515\n",
      "0.762114537444934\n",
      "0.8298458149779736\n"
     ]
    }
   ],
   "source": [
    "print(mae(true_scores, ovo_gscv_predictions))\n",
    "print(mae(true_scores, svmop_best_predictions))\n",
    "print(mae(true_scores, svorex_best_predictions))\n",
    "print(mae(true_scores, redsvm_best_predictions))"
   ]
  },
  {
   "cell_type": "markdown",
   "id": "d58d1fea",
   "metadata": {},
   "source": [
    "differences_ovo_svmop = list(ovo_gscv_predictions - svmop_best_predictions)\n",
    "differences_ovo_svorex = list(ovo_gscv_predictions - svorex_best_predictions)\n",
    "differences_ovo_redsvm = list(ovo_gscv_predictions - redsvm_best_predictions)\n",
    "differences_svmop_svorex = list(svmop_best_predictions - svorex_best_predictions)\n",
    "differences_svmop_redsvm = list(svmop_best_predictions - redsvm_best_predictions)\n",
    "differences_svorex_redsvm = list(svmop_best_predictions - redsvm_best_predictions)"
   ]
  },
  {
   "cell_type": "markdown",
   "id": "2c288260",
   "metadata": {},
   "source": [
    "test_ovo_svmop = wilcoxon(differences_ovo_svmop)\n",
    "print('ovo compared to svmop results: statistic is:', test_ovo_svmop.statistic, \n",
    "      'p is', test_ovo_svmop.pvalue)\n",
    "\n",
    "test_ovo_svorex = wilcoxon(differences_ovo_svorex)\n",
    "print('ovo compared to svorex results: statistic is:', test_ovo_svorex.statistic, \n",
    "      'p is', test_ovo_svorex.pvalue)\n",
    "\n",
    "test_ovo_redsvm = wilcoxon(differences_ovo_redsvm)\n",
    "print('ovo compared to redsvm results: statistic is:', test_ovo_redsvm.statistic, \n",
    "      'p is', test_ovo_redsvm.pvalue)\n",
    "\n",
    "test_svmop_svorex = wilcoxon(differences_svmop_svorex)\n",
    "print('svmop compared to svorex results: statistic is:', test_svmop_svorex.statistic, \n",
    "      'p is', test_svmop_svorex.pvalue)\n",
    "\n",
    "test_svmop_redsvm = wilcoxon(differences_svmop_redsvm)\n",
    "print('svmop compared to redsvm results: statistic is:', test_svmop_redsvm.statistic, \n",
    "      'p is', test_svmop_redsvm.pvalue)\n",
    "\n",
    "test_svorex_redsvm = wilcoxon(differences_svorex_redsvm)\n",
    "print('svmop compared to redsvm results: statistic is:', test_svorex_redsvm.statistic, \n",
    "      'p is', test_svorex_redsvm.pvalue)"
   ]
  },
  {
   "cell_type": "code",
   "execution_count": 54,
   "id": "9b9acdde",
   "metadata": {},
   "outputs": [],
   "source": [
    "error_ovo = abs(ovo_gscv_predictions - list_true_scores)\n",
    "error_svmop = abs(svmop_best_predictions - list_true_scores)\n",
    "error_svorex = abs(np.array(svorex_best_predictions) - np.array(list_true_scores))\n",
    "error_redsvm = abs(np.array(redsvm_best_predictions) - np.array(list_true_scores))\n",
    "\n",
    "differences_error_ovo_svmop = list(error_ovo - error_svmop)\n",
    "differences_error_ovo_svorex = list(error_ovo - error_svorex)\n",
    "differences_error_ovo_redsvm = list(error_ovo - error_redsvm)\n",
    "differences_error_svmop_svorex = list(error_svmop - error_svorex)\n",
    "differences_error_svmop_redsvm = list(error_svmop - error_redsvm)\n",
    "differences_error_svorex_redsvm = list(error_svorex - error_redsvm)\n",
    "\n",
    "true_list = list(true_scores)\n"
   ]
  },
  {
   "cell_type": "code",
   "execution_count": 55,
   "id": "d554104c",
   "metadata": {},
   "outputs": [
    {
     "name": "stdout",
     "output_type": "stream",
     "text": [
      "ovo compared to svmop results: statistic is: 267603.0 p is 0.0996879813693733\n",
      "ovo compared to svorex results: statistic is: 132070.0 p is 0.159835261418254\n",
      "ovo compared to redsvm results: statistic is: 495607.5 p is 0.09340359896457076\n",
      "svmop compared to svorex results: statistic is: 184052.5 p is 0.4925643511007767\n",
      "svmop compared to redsvm results: statistic is: 209577.5 p is 7.88205923672607e-05\n",
      "svorex compared to redsvm results: statistic is: 449671.0 p is 0.0011937626600935513\n"
     ]
    }
   ],
   "source": [
    "test_ovo_svmop = wilcoxon(differences_error_ovo_svmop)\n",
    "print('ovo compared to svmop results: statistic is:', test_ovo_svmop.statistic, \n",
    "      'p is', test_ovo_svmop.pvalue)\n",
    "\n",
    "test_ovo_svorex = wilcoxon(differences_error_ovo_svorex)\n",
    "print('ovo compared to svorex results: statistic is:', test_ovo_svorex.statistic, \n",
    "      'p is', test_ovo_svorex.pvalue)\n",
    "\n",
    "test_ovo_redsvm = wilcoxon(differences_error_ovo_redsvm)\n",
    "print('ovo compared to redsvm results: statistic is:', test_ovo_redsvm.statistic, \n",
    "      'p is', test_ovo_redsvm.pvalue)\n",
    "\n",
    "test_svmop_svorex = wilcoxon(differences_error_svmop_svorex)\n",
    "print('svmop compared to svorex results: statistic is:', test_svmop_svorex.statistic, \n",
    "      'p is', test_svmop_svorex.pvalue)\n",
    "\n",
    "test_svmop_redsvm = wilcoxon(differences_error_svmop_redsvm)\n",
    "print('svmop compared to redsvm results: statistic is:', test_svmop_redsvm.statistic, \n",
    "      'p is', test_svmop_redsvm.pvalue)\n",
    "\n",
    "test_svorex_redsvm = wilcoxon(differences_error_svorex_redsvm)\n",
    "print('svorex compared to redsvm results: statistic is:', test_svorex_redsvm.statistic, \n",
    "      'p is', test_svorex_redsvm.pvalue)\n",
    "\n"
   ]
  }
 ],
 "metadata": {
  "kernelspec": {
   "display_name": "Python 3",
   "language": "python",
   "name": "python3"
  },
  "language_info": {
   "codemirror_mode": {
    "name": "ipython",
    "version": 3
   },
   "file_extension": ".py",
   "mimetype": "text/x-python",
   "name": "python",
   "nbconvert_exporter": "python",
   "pygments_lexer": "ipython3",
   "version": "3.8.8"
  }
 },
 "nbformat": 4,
 "nbformat_minor": 5
}
