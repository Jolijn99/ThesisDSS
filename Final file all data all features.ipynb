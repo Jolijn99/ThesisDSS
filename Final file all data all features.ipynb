{
 "cells": [
  {
   "cell_type": "markdown",
   "id": "7b1e8302",
   "metadata": {},
   "source": [
    "<font size=\"7\">Thesis file</font>\n",
    "<br>\n",
    "\n",
    "</font>"
   ]
  },
  {
   "cell_type": "markdown",
   "id": "dc014d8c",
   "metadata": {},
   "source": [
    "<font size=\"6\">1. Install necessities</font>\n",
    "<br>\n",
    "\n"
   ]
  },
  {
   "cell_type": "code",
   "execution_count": 1,
   "id": "54453049",
   "metadata": {
    "scrolled": true
   },
   "outputs": [
    {
     "name": "stdout",
     "output_type": "stream",
     "text": [
      "Requirement already satisfied: pandas in /Users/jolijneikelboom/opt/anaconda3/lib/python3.8/site-packages (1.5.0)\n",
      "Requirement already satisfied: plotnine in /Users/jolijneikelboom/opt/anaconda3/lib/python3.8/site-packages (0.10.1)\n",
      "Requirement already satisfied: numpy>=1.20.3 in /Users/jolijneikelboom/opt/anaconda3/lib/python3.8/site-packages (from pandas) (1.22.4)\n",
      "Requirement already satisfied: python-dateutil>=2.8.1 in /Users/jolijneikelboom/opt/anaconda3/lib/python3.8/site-packages (from pandas) (2.8.1)\n",
      "Requirement already satisfied: pytz>=2020.1 in /Users/jolijneikelboom/opt/anaconda3/lib/python3.8/site-packages (from pandas) (2021.1)\n",
      "Requirement already satisfied: statsmodels>=0.13.2 in /Users/jolijneikelboom/opt/anaconda3/lib/python3.8/site-packages (from plotnine) (0.13.2)\n",
      "Requirement already satisfied: mizani>=0.8.1 in /Users/jolijneikelboom/opt/anaconda3/lib/python3.8/site-packages (from plotnine) (0.8.1)\n",
      "Requirement already satisfied: matplotlib>=3.5.0 in /Users/jolijneikelboom/opt/anaconda3/lib/python3.8/site-packages (from plotnine) (3.6.1)\n",
      "Requirement already satisfied: patsy>=0.5.1 in /Users/jolijneikelboom/opt/anaconda3/lib/python3.8/site-packages (from plotnine) (0.5.3)\n",
      "Requirement already satisfied: scipy>=1.5.0 in /Users/jolijneikelboom/opt/anaconda3/lib/python3.8/site-packages (from plotnine) (1.9.3)\n",
      "Requirement already satisfied: kiwisolver>=1.0.1 in /Users/jolijneikelboom/opt/anaconda3/lib/python3.8/site-packages (from matplotlib>=3.5.0->plotnine) (1.3.1)\n",
      "Requirement already satisfied: fonttools>=4.22.0 in /Users/jolijneikelboom/opt/anaconda3/lib/python3.8/site-packages (from matplotlib>=3.5.0->plotnine) (4.37.4)\n",
      "Requirement already satisfied: cycler>=0.10 in /Users/jolijneikelboom/opt/anaconda3/lib/python3.8/site-packages (from matplotlib>=3.5.0->plotnine) (0.10.0)\n",
      "Requirement already satisfied: contourpy>=1.0.1 in /Users/jolijneikelboom/opt/anaconda3/lib/python3.8/site-packages (from matplotlib>=3.5.0->plotnine) (1.0.5)\n",
      "Requirement already satisfied: packaging>=20.0 in /Users/jolijneikelboom/opt/anaconda3/lib/python3.8/site-packages (from matplotlib>=3.5.0->plotnine) (21.3)\n",
      "Requirement already satisfied: pillow>=6.2.0 in /Users/jolijneikelboom/opt/anaconda3/lib/python3.8/site-packages (from matplotlib>=3.5.0->plotnine) (8.2.0)\n",
      "Requirement already satisfied: pyparsing>=2.2.1 in /Users/jolijneikelboom/opt/anaconda3/lib/python3.8/site-packages (from matplotlib>=3.5.0->plotnine) (2.4.7)\n",
      "Requirement already satisfied: backports.zoneinfo in /Users/jolijneikelboom/opt/anaconda3/lib/python3.8/site-packages (from mizani>=0.8.1->plotnine) (0.2.1)\n",
      "Requirement already satisfied: palettable in /Users/jolijneikelboom/opt/anaconda3/lib/python3.8/site-packages (from mizani>=0.8.1->plotnine) (3.3.0)\n",
      "Requirement already satisfied: six in /Users/jolijneikelboom/opt/anaconda3/lib/python3.8/site-packages (from patsy>=0.5.1->plotnine) (1.15.0)\n",
      "\n",
      "\u001b[1m[\u001b[0m\u001b[34;49mnotice\u001b[0m\u001b[1;39;49m]\u001b[0m\u001b[39;49m A new release of pip available: \u001b[0m\u001b[31;49m22.2.2\u001b[0m\u001b[39;49m -> \u001b[0m\u001b[32;49m22.3.1\u001b[0m\n",
      "\u001b[1m[\u001b[0m\u001b[34;49mnotice\u001b[0m\u001b[1;39;49m]\u001b[0m\u001b[39;49m To update, run: \u001b[0m\u001b[32;49mpip install --upgrade pip\u001b[0m\n"
     ]
    }
   ],
   "source": [
    "%matplotlib inline\n",
    "import pandas as pd\n",
    "import matplotlib.pyplot as plt\n",
    "import sklearn\n",
    "import csv\n",
    "import imblearn\n",
    "import numpy as np\n",
    "\n",
    "import os\n",
    "import seaborn as sns\n",
    "from sklearn import metrics\n",
    "from collections import Counter\n",
    "from matplotlib import pyplot\n",
    "from numpy import where\n",
    "from sklearn import datasets\n",
    "from sklearn.datasets import make_classification\n",
    "from sklearn.svm import SVC\n",
    "from sklearn.multiclass import OneVsOneClassifier\n",
    "#from sklearn.preprocessing import LabelEncoder\n",
    "from sklearn.model_selection import KFold, cross_val_score\n",
    "from sklearn.model_selection import train_test_split\n",
    "from sklearn.model_selection import GridSearchCV\n",
    "#from sklearn.preprocessing import StandardScaler\n",
    "from sklearn.metrics import mean_absolute_error\n",
    "from sklearn.metrics import zero_one_loss\n",
    "from sklearn.metrics import accuracy_score\n",
    "from sklearn.metrics import confusion_matrix\n",
    "#from sklearn.preprocessing import OrdinalEncoder\n",
    "from sklearn.feature_selection import SelectKBest\n",
    "from sklearn.feature_selection import chi2\n",
    "from sklearn.feature_selection import mutual_info_classif\n",
    "import gc\n",
    "from imblearn.over_sampling import RandomOverSampler\n",
    "!pip install pandas plotnine\n",
    "import warnings\n",
    "warnings.filterwarnings('ignore')\n",
    "#from plotnine import ggplot, geom_point, aes, stat_smooth, facet_wrap, geom_histogram\n",
    "from sklearn.model_selection import cross_val_predict\n",
    "from scipy import stats\n",
    "from scipy.stats import wilcoxon\n",
    "from sys import path\n",
    "\n"
   ]
  },
  {
   "cell_type": "markdown",
   "id": "c47597ad",
   "metadata": {},
   "source": [
    "<font size=\"6\">2. Load and prepare data </font>\n",
    "<br>\n",
    "\n"
   ]
  },
  {
   "cell_type": "code",
   "execution_count": 2,
   "id": "5bdc07a8",
   "metadata": {},
   "outputs": [],
   "source": [
    "df = pd.read_csv(\"ESS10.csv\", low_memory = False)"
   ]
  },
  {
   "cell_type": "code",
   "execution_count": 3,
   "id": "0fba76c3",
   "metadata": {},
   "outputs": [
    {
     "data": {
      "text/plain": [
       "18060"
      ]
     },
     "execution_count": 3,
     "metadata": {},
     "output_type": "execute_result"
    }
   ],
   "source": [
    "##Only include relevant variables\n",
    "df_relevant_vars = df[['cntry', 'agea','hinctnta','eisced',  'hhmmb', 'eduyrs', 'sclmeet', \n",
    "                       'wrkhome', 'c19whome', 'wrklong', 'wrkresp', 'c19whacc', \n",
    "                       'mansupp','manwrkpl', 'manspeak', 'manscrn', 'manphone',\n",
    "                       'mancom','teamfeel','wrkextra', 'colprop', 'colspeak', 'colscrn', 'colphone', 'colcom', 'c19spwrk', 'c19mcwrk',\n",
    "                       'mcwrkhom','stfmjob', 'uemp3m', 'uemp12m','uemp5yr', 'emplrel',\n",
    "                       'hincfel', 'gndr', 'trdawrk','jbprtfp', 'pfmfdjba', 'dcsfwrka', \n",
    "                       'c19wplch', 'manhlp',  'colhlp']].copy()\n",
    "df_relevant_vars.stfmjob.count()"
   ]
  },
  {
   "cell_type": "markdown",
   "id": "447afa0a",
   "metadata": {},
   "source": [
    "<font size=\"4\"> Note: df_relevant_vars includes only the vars that are used in this study, it leaves out all other variables assesed in the ESS.</font>"
   ]
  },
  {
   "cell_type": "markdown",
   "id": "dbbe2f4b",
   "metadata": {},
   "source": [
    "<font size=\"6\">\n",
    "    2a. Missing values"
   ]
  },
  {
   "cell_type": "code",
   "execution_count": 4,
   "id": "5461c268",
   "metadata": {},
   "outputs": [
    {
     "name": "stdout",
     "output_type": "stream",
     "text": [
      "Individuals missing satisfaction score: 8149 \n",
      "Remaining =  9911\n"
     ]
    }
   ],
   "source": [
    "##Delete missing values from satisfied with job\n",
    "values = [55, 66, 77, 88, 99]\n",
    "df_SF_complete = df_relevant_vars[df_relevant_vars.stfmjob.isin(values) == False]\n",
    "print('Individuals missing satisfaction score:', df_relevant_vars.stfmjob.count() - df_SF_complete.stfmjob.count(), \n",
    "     '\\nRemaining = ', df_SF_complete.stfmjob.count()) "
   ]
  },
  {
   "cell_type": "code",
   "execution_count": 5,
   "id": "327206d8",
   "metadata": {},
   "outputs": [],
   "source": [
    "##General missing values 33, 55, 66, 77, 88, 99 set to NaN\n",
    "for col in['hinctnta','eisced',  'hhmmb', 'eduyrs', 'sclmeet', 'wrkhome', \n",
    "           'c19whome', 'wrklong', 'wrkresp', 'c19whacc', \n",
    "            'mansupp','manwrkpl', 'manspeak', 'manscrn', 'manphone',\n",
    "           'mancom','teamfeel','wrkextra', 'colprop', 'colspeak', 'colscrn' ,'colphone', 'colcom', 'c19spwrk', 'c19mcwrk','mcwrkhom']:\n",
    "    df_SF_complete.loc[df_SF_complete[col] >= 33, col] = np.nan\n",
    "for col in['agea']:\n",
    "    df_SF_complete.loc[df_SF_complete[col] >= 999, col] = np.nan"
   ]
  },
  {
   "cell_type": "markdown",
   "id": "292bb4e6",
   "metadata": {},
   "source": [
    "<font size=\"4\"> Note: df_SF_complete made below only includes the individuals that have data for job satisfaction"
   ]
  },
  {
   "cell_type": "code",
   "execution_count": 6,
   "id": "a0a164a2",
   "metadata": {},
   "outputs": [],
   "source": [
    "##General missing values 55, 66, 77, 88, 99 set to NaN\n",
    "for col in['uemp3m', 'uemp12m','uemp5yr', 'emplrel','hincfel', 'gndr', 'trdawrk',\n",
    "           'jbprtfp', 'pfmfdjba', 'dcsfwrka', 'c19wplch', 'manhlp',  'colhlp', \n",
    "           'colscrn']:\n",
    "    df_SF_complete.loc[df_SF_complete[col] >= 6, col] = np.nan"
   ]
  },
  {
   "cell_type": "code",
   "execution_count": 7,
   "id": "c3079e3b",
   "metadata": {},
   "outputs": [
    {
     "data": {
      "text/plain": [
       "5946.599999999999"
      ]
     },
     "execution_count": 7,
     "metadata": {},
     "output_type": "execute_result"
    }
   ],
   "source": [
    "0.6 * df_SF_complete.stfmjob.count()"
   ]
  },
  {
   "cell_type": "code",
   "execution_count": 8,
   "id": "6f9fa0a0",
   "metadata": {},
   "outputs": [
    {
     "name": "stdout",
     "output_type": "stream",
     "text": [
      "the columns that are removed due to this ['colscrn', 'uemp12m', 'uemp5yr', 'c19wplch', 'colscrn']\n",
      "  cntry  agea  hinctnta  eisced  hhmmb  eduyrs  sclmeet  wrkhome  c19whome  \\\n",
      "1    BG  43.0       NaN     6.0    4.0    16.0      7.0      1.0       2.0   \n",
      "2    BG  50.0       7.0     7.0    1.0    16.0      4.0      4.0       NaN   \n",
      "3    BG  51.0       6.0     4.0    3.0    11.0      4.0      6.0       NaN   \n",
      "4    BG  70.0       4.0     7.0    2.0    17.0      4.0      6.0       NaN   \n",
      "7    BG  48.0       4.0     4.0    2.0    12.0      3.0      6.0       NaN   \n",
      "\n",
      "   wrklong  ...  emplrel  hincfel  gndr  trdawrk  jbprtfp  pfmfdjba  dcsfwrka  \\\n",
      "1      6.0  ...      3.0      1.0   1.0      4.0      3.0       3.0       3.0   \n",
      "2      6.0  ...      3.0      2.0   2.0      4.0      NaN       NaN       1.0   \n",
      "3      NaN  ...      1.0      3.0   2.0      3.0      3.0       3.0       1.0   \n",
      "4      NaN  ...      1.0      3.0   1.0      5.0      5.0       3.0       1.0   \n",
      "7      NaN  ...      1.0      3.0   1.0      3.0      3.0       3.0       1.0   \n",
      "\n",
      "   c19wplch  manhlp  colhlp  \n",
      "1       2.0     NaN     3.0  \n",
      "2       NaN     NaN     2.0  \n",
      "3       NaN     2.0     2.0  \n",
      "4       NaN     2.0     1.0  \n",
      "7       NaN     1.0     1.0  \n",
      "\n",
      "[5 rows x 42 columns]\n"
     ]
    }
   ],
   "source": [
    "##Drop columns if more than 60% of data is missing. This is the case for: colscrn, u\n",
    "drop_cols = []\n",
    "for col in ['cntry', 'agea','hinctnta','eisced',  'hhmmb', 'eduyrs', 'sclmeet', \n",
    "                       'wrkhome', 'c19whome', 'wrklong', 'wrkresp', 'c19whacc', \n",
    "                       'mansupp','manwrkpl', 'manspeak', 'manscrn', 'manphone',\n",
    "                       'mancom','teamfeel','wrkextra', 'colprop', 'colspeak', \n",
    "                       'colscrn', 'colphone', 'colcom', 'c19spwrk', 'c19mcwrk',\n",
    "                       'mcwrkhom','stfmjob', 'uemp3m', 'uemp12m','uemp5yr', 'emplrel',\n",
    "                       'hincfel', 'gndr', 'trdawrk','jbprtfp', 'pfmfdjba', 'dcsfwrka', \n",
    "                       'c19wplch', 'manhlp',  'colhlp', 'colscrn']:\n",
    "    if df_SF_complete[col].isna().sum() >= 0.6 * df_SF_complete.stfmjob.count():\n",
    "        drop_cols.append(col)\n",
    "        \n",
    "print('the columns that are removed due to this', drop_cols)\n",
    "print(df_SF_complete.head())\n",
    "\n"
   ]
  },
  {
   "cell_type": "code",
   "execution_count": 9,
   "id": "992085ac",
   "metadata": {},
   "outputs": [
    {
     "data": {
      "text/html": [
       "<div>\n",
       "<style scoped>\n",
       "    .dataframe tbody tr th:only-of-type {\n",
       "        vertical-align: middle;\n",
       "    }\n",
       "\n",
       "    .dataframe tbody tr th {\n",
       "        vertical-align: top;\n",
       "    }\n",
       "\n",
       "    .dataframe thead th {\n",
       "        text-align: right;\n",
       "    }\n",
       "</style>\n",
       "<table border=\"1\" class=\"dataframe\">\n",
       "  <thead>\n",
       "    <tr style=\"text-align: right;\">\n",
       "      <th></th>\n",
       "      <th>cntry</th>\n",
       "      <th>agea</th>\n",
       "      <th>hinctnta</th>\n",
       "      <th>eisced</th>\n",
       "      <th>hhmmb</th>\n",
       "      <th>eduyrs</th>\n",
       "      <th>sclmeet</th>\n",
       "      <th>wrkhome</th>\n",
       "      <th>c19whome</th>\n",
       "      <th>wrklong</th>\n",
       "      <th>...</th>\n",
       "      <th>hincfel</th>\n",
       "      <th>gndr</th>\n",
       "      <th>trdawrk</th>\n",
       "      <th>jbprtfp</th>\n",
       "      <th>pfmfdjba</th>\n",
       "      <th>dcsfwrka</th>\n",
       "      <th>c19wplch</th>\n",
       "      <th>manhlp</th>\n",
       "      <th>colhlp</th>\n",
       "      <th>missing</th>\n",
       "    </tr>\n",
       "  </thead>\n",
       "  <tbody>\n",
       "    <tr>\n",
       "      <th>1</th>\n",
       "      <td>BG</td>\n",
       "      <td>43.0</td>\n",
       "      <td>NaN</td>\n",
       "      <td>6.0</td>\n",
       "      <td>4.0</td>\n",
       "      <td>16.0</td>\n",
       "      <td>7.0</td>\n",
       "      <td>1.0</td>\n",
       "      <td>2.0</td>\n",
       "      <td>6.0</td>\n",
       "      <td>...</td>\n",
       "      <td>1.0</td>\n",
       "      <td>1.0</td>\n",
       "      <td>4.0</td>\n",
       "      <td>3.0</td>\n",
       "      <td>3.0</td>\n",
       "      <td>3.0</td>\n",
       "      <td>2.0</td>\n",
       "      <td>NaN</td>\n",
       "      <td>3.0</td>\n",
       "      <td>10</td>\n",
       "    </tr>\n",
       "    <tr>\n",
       "      <th>2</th>\n",
       "      <td>BG</td>\n",
       "      <td>50.0</td>\n",
       "      <td>7.0</td>\n",
       "      <td>7.0</td>\n",
       "      <td>1.0</td>\n",
       "      <td>16.0</td>\n",
       "      <td>4.0</td>\n",
       "      <td>4.0</td>\n",
       "      <td>NaN</td>\n",
       "      <td>6.0</td>\n",
       "      <td>...</td>\n",
       "      <td>2.0</td>\n",
       "      <td>2.0</td>\n",
       "      <td>4.0</td>\n",
       "      <td>NaN</td>\n",
       "      <td>NaN</td>\n",
       "      <td>1.0</td>\n",
       "      <td>NaN</td>\n",
       "      <td>NaN</td>\n",
       "      <td>2.0</td>\n",
       "      <td>12</td>\n",
       "    </tr>\n",
       "    <tr>\n",
       "      <th>3</th>\n",
       "      <td>BG</td>\n",
       "      <td>51.0</td>\n",
       "      <td>6.0</td>\n",
       "      <td>4.0</td>\n",
       "      <td>3.0</td>\n",
       "      <td>11.0</td>\n",
       "      <td>4.0</td>\n",
       "      <td>6.0</td>\n",
       "      <td>NaN</td>\n",
       "      <td>NaN</td>\n",
       "      <td>...</td>\n",
       "      <td>3.0</td>\n",
       "      <td>2.0</td>\n",
       "      <td>3.0</td>\n",
       "      <td>3.0</td>\n",
       "      <td>3.0</td>\n",
       "      <td>1.0</td>\n",
       "      <td>NaN</td>\n",
       "      <td>2.0</td>\n",
       "      <td>2.0</td>\n",
       "      <td>10</td>\n",
       "    </tr>\n",
       "    <tr>\n",
       "      <th>4</th>\n",
       "      <td>BG</td>\n",
       "      <td>70.0</td>\n",
       "      <td>4.0</td>\n",
       "      <td>7.0</td>\n",
       "      <td>2.0</td>\n",
       "      <td>17.0</td>\n",
       "      <td>4.0</td>\n",
       "      <td>6.0</td>\n",
       "      <td>NaN</td>\n",
       "      <td>NaN</td>\n",
       "      <td>...</td>\n",
       "      <td>3.0</td>\n",
       "      <td>1.0</td>\n",
       "      <td>5.0</td>\n",
       "      <td>5.0</td>\n",
       "      <td>3.0</td>\n",
       "      <td>1.0</td>\n",
       "      <td>NaN</td>\n",
       "      <td>2.0</td>\n",
       "      <td>1.0</td>\n",
       "      <td>8</td>\n",
       "    </tr>\n",
       "    <tr>\n",
       "      <th>7</th>\n",
       "      <td>BG</td>\n",
       "      <td>48.0</td>\n",
       "      <td>4.0</td>\n",
       "      <td>4.0</td>\n",
       "      <td>2.0</td>\n",
       "      <td>12.0</td>\n",
       "      <td>3.0</td>\n",
       "      <td>6.0</td>\n",
       "      <td>NaN</td>\n",
       "      <td>NaN</td>\n",
       "      <td>...</td>\n",
       "      <td>3.0</td>\n",
       "      <td>1.0</td>\n",
       "      <td>3.0</td>\n",
       "      <td>3.0</td>\n",
       "      <td>3.0</td>\n",
       "      <td>1.0</td>\n",
       "      <td>NaN</td>\n",
       "      <td>1.0</td>\n",
       "      <td>1.0</td>\n",
       "      <td>11</td>\n",
       "    </tr>\n",
       "  </tbody>\n",
       "</table>\n",
       "<p>5 rows × 43 columns</p>\n",
       "</div>"
      ],
      "text/plain": [
       "  cntry  agea  hinctnta  eisced  hhmmb  eduyrs  sclmeet  wrkhome  c19whome  \\\n",
       "1    BG  43.0       NaN     6.0    4.0    16.0      7.0      1.0       2.0   \n",
       "2    BG  50.0       7.0     7.0    1.0    16.0      4.0      4.0       NaN   \n",
       "3    BG  51.0       6.0     4.0    3.0    11.0      4.0      6.0       NaN   \n",
       "4    BG  70.0       4.0     7.0    2.0    17.0      4.0      6.0       NaN   \n",
       "7    BG  48.0       4.0     4.0    2.0    12.0      3.0      6.0       NaN   \n",
       "\n",
       "   wrklong  ...  hincfel  gndr  trdawrk  jbprtfp  pfmfdjba  dcsfwrka  \\\n",
       "1      6.0  ...      1.0   1.0      4.0      3.0       3.0       3.0   \n",
       "2      6.0  ...      2.0   2.0      4.0      NaN       NaN       1.0   \n",
       "3      NaN  ...      3.0   2.0      3.0      3.0       3.0       1.0   \n",
       "4      NaN  ...      3.0   1.0      5.0      5.0       3.0       1.0   \n",
       "7      NaN  ...      3.0   1.0      3.0      3.0       3.0       1.0   \n",
       "\n",
       "   c19wplch  manhlp  colhlp  missing  \n",
       "1       2.0     NaN     3.0       10  \n",
       "2       NaN     NaN     2.0       12  \n",
       "3       NaN     2.0     2.0       10  \n",
       "4       NaN     2.0     1.0        8  \n",
       "7       NaN     1.0     1.0       11  \n",
       "\n",
       "[5 rows x 43 columns]"
      ]
     },
     "execution_count": 9,
     "metadata": {},
     "output_type": "execute_result"
    }
   ],
   "source": [
    "##count NaN per row\n",
    "missing = []\n",
    "for i in range(len(df_SF_complete.index)):\n",
    "    value = (df_SF_complete.iloc[i].isnull().sum())\n",
    "    missing.append(value)\n",
    "df_SF_complete['missing'] = missing\n",
    "df_SF_complete.head()"
   ]
  },
  {
   "cell_type": "code",
   "execution_count": 10,
   "id": "3473e5bd",
   "metadata": {},
   "outputs": [
    {
     "name": "stdout",
     "output_type": "stream",
     "text": [
      "There were: 9911 individuals \n",
      "Individuals missing too many values: 759 \n",
      "Remaing individuals: 9152\n"
     ]
    }
   ],
   "source": [
    "##Delete individuals with XX amount of missing values\n",
    "df_missing_deleted = df_SF_complete[df_SF_complete.missing <= 21].copy()\n",
    "df_missing_deleted.missing.count()\n",
    "print('There were:', 9911, 'individuals',\n",
    "    '\\nIndividuals missing too many values:', 9911 - df_missing_deleted.missing.count(),\n",
    "     '\\nRemaing individuals:', df_missing_deleted.missing.count())"
   ]
  },
  {
   "cell_type": "code",
   "execution_count": 11,
   "id": "e5206a81",
   "metadata": {},
   "outputs": [
    {
     "data": {
      "text/html": [
       "<div>\n",
       "<style scoped>\n",
       "    .dataframe tbody tr th:only-of-type {\n",
       "        vertical-align: middle;\n",
       "    }\n",
       "\n",
       "    .dataframe tbody tr th {\n",
       "        vertical-align: top;\n",
       "    }\n",
       "\n",
       "    .dataframe thead th {\n",
       "        text-align: right;\n",
       "    }\n",
       "</style>\n",
       "<table border=\"1\" class=\"dataframe\">\n",
       "  <thead>\n",
       "    <tr style=\"text-align: right;\">\n",
       "      <th></th>\n",
       "      <th>cntry</th>\n",
       "      <th>agea</th>\n",
       "      <th>hinctnta</th>\n",
       "      <th>eisced</th>\n",
       "      <th>hhmmb</th>\n",
       "      <th>eduyrs</th>\n",
       "      <th>sclmeet</th>\n",
       "      <th>wrkhome</th>\n",
       "      <th>c19whome</th>\n",
       "      <th>wrklong</th>\n",
       "      <th>...</th>\n",
       "      <th>hincfel</th>\n",
       "      <th>gndr</th>\n",
       "      <th>trdawrk</th>\n",
       "      <th>jbprtfp</th>\n",
       "      <th>pfmfdjba</th>\n",
       "      <th>dcsfwrka</th>\n",
       "      <th>c19wplch</th>\n",
       "      <th>manhlp</th>\n",
       "      <th>colhlp</th>\n",
       "      <th>missing</th>\n",
       "    </tr>\n",
       "  </thead>\n",
       "  <tbody>\n",
       "    <tr>\n",
       "      <th>1</th>\n",
       "      <td>BG</td>\n",
       "      <td>43.0</td>\n",
       "      <td>NaN</td>\n",
       "      <td>6.0</td>\n",
       "      <td>4.0</td>\n",
       "      <td>16.0</td>\n",
       "      <td>7.0</td>\n",
       "      <td>1.0</td>\n",
       "      <td>2.0</td>\n",
       "      <td>6.0</td>\n",
       "      <td>...</td>\n",
       "      <td>1.0</td>\n",
       "      <td>1.0</td>\n",
       "      <td>4.0</td>\n",
       "      <td>3.0</td>\n",
       "      <td>3.0</td>\n",
       "      <td>3.0</td>\n",
       "      <td>2.0</td>\n",
       "      <td>NaN</td>\n",
       "      <td>3.0</td>\n",
       "      <td>10</td>\n",
       "    </tr>\n",
       "    <tr>\n",
       "      <th>2</th>\n",
       "      <td>BG</td>\n",
       "      <td>50.0</td>\n",
       "      <td>7.0</td>\n",
       "      <td>7.0</td>\n",
       "      <td>1.0</td>\n",
       "      <td>16.0</td>\n",
       "      <td>4.0</td>\n",
       "      <td>4.0</td>\n",
       "      <td>NaN</td>\n",
       "      <td>6.0</td>\n",
       "      <td>...</td>\n",
       "      <td>2.0</td>\n",
       "      <td>2.0</td>\n",
       "      <td>4.0</td>\n",
       "      <td>NaN</td>\n",
       "      <td>NaN</td>\n",
       "      <td>1.0</td>\n",
       "      <td>NaN</td>\n",
       "      <td>NaN</td>\n",
       "      <td>2.0</td>\n",
       "      <td>12</td>\n",
       "    </tr>\n",
       "    <tr>\n",
       "      <th>3</th>\n",
       "      <td>BG</td>\n",
       "      <td>51.0</td>\n",
       "      <td>6.0</td>\n",
       "      <td>4.0</td>\n",
       "      <td>3.0</td>\n",
       "      <td>11.0</td>\n",
       "      <td>4.0</td>\n",
       "      <td>6.0</td>\n",
       "      <td>NaN</td>\n",
       "      <td>NaN</td>\n",
       "      <td>...</td>\n",
       "      <td>3.0</td>\n",
       "      <td>2.0</td>\n",
       "      <td>3.0</td>\n",
       "      <td>3.0</td>\n",
       "      <td>3.0</td>\n",
       "      <td>1.0</td>\n",
       "      <td>NaN</td>\n",
       "      <td>2.0</td>\n",
       "      <td>2.0</td>\n",
       "      <td>10</td>\n",
       "    </tr>\n",
       "    <tr>\n",
       "      <th>4</th>\n",
       "      <td>BG</td>\n",
       "      <td>70.0</td>\n",
       "      <td>4.0</td>\n",
       "      <td>7.0</td>\n",
       "      <td>2.0</td>\n",
       "      <td>17.0</td>\n",
       "      <td>4.0</td>\n",
       "      <td>6.0</td>\n",
       "      <td>NaN</td>\n",
       "      <td>NaN</td>\n",
       "      <td>...</td>\n",
       "      <td>3.0</td>\n",
       "      <td>1.0</td>\n",
       "      <td>5.0</td>\n",
       "      <td>5.0</td>\n",
       "      <td>3.0</td>\n",
       "      <td>1.0</td>\n",
       "      <td>NaN</td>\n",
       "      <td>2.0</td>\n",
       "      <td>1.0</td>\n",
       "      <td>8</td>\n",
       "    </tr>\n",
       "    <tr>\n",
       "      <th>7</th>\n",
       "      <td>BG</td>\n",
       "      <td>48.0</td>\n",
       "      <td>4.0</td>\n",
       "      <td>4.0</td>\n",
       "      <td>2.0</td>\n",
       "      <td>12.0</td>\n",
       "      <td>3.0</td>\n",
       "      <td>6.0</td>\n",
       "      <td>NaN</td>\n",
       "      <td>NaN</td>\n",
       "      <td>...</td>\n",
       "      <td>3.0</td>\n",
       "      <td>1.0</td>\n",
       "      <td>3.0</td>\n",
       "      <td>3.0</td>\n",
       "      <td>3.0</td>\n",
       "      <td>1.0</td>\n",
       "      <td>NaN</td>\n",
       "      <td>1.0</td>\n",
       "      <td>1.0</td>\n",
       "      <td>11</td>\n",
       "    </tr>\n",
       "  </tbody>\n",
       "</table>\n",
       "<p>5 rows × 43 columns</p>\n",
       "</div>"
      ],
      "text/plain": [
       "  cntry  agea  hinctnta  eisced  hhmmb  eduyrs  sclmeet  wrkhome  c19whome  \\\n",
       "1    BG  43.0       NaN     6.0    4.0    16.0      7.0      1.0       2.0   \n",
       "2    BG  50.0       7.0     7.0    1.0    16.0      4.0      4.0       NaN   \n",
       "3    BG  51.0       6.0     4.0    3.0    11.0      4.0      6.0       NaN   \n",
       "4    BG  70.0       4.0     7.0    2.0    17.0      4.0      6.0       NaN   \n",
       "7    BG  48.0       4.0     4.0    2.0    12.0      3.0      6.0       NaN   \n",
       "\n",
       "   wrklong  ...  hincfel  gndr  trdawrk  jbprtfp  pfmfdjba  dcsfwrka  \\\n",
       "1      6.0  ...      1.0   1.0      4.0      3.0       3.0       3.0   \n",
       "2      6.0  ...      2.0   2.0      4.0      NaN       NaN       1.0   \n",
       "3      NaN  ...      3.0   2.0      3.0      3.0       3.0       1.0   \n",
       "4      NaN  ...      3.0   1.0      5.0      5.0       3.0       1.0   \n",
       "7      NaN  ...      3.0   1.0      3.0      3.0       3.0       1.0   \n",
       "\n",
       "   c19wplch  manhlp  colhlp  missing  \n",
       "1       2.0     NaN     3.0       10  \n",
       "2       NaN     NaN     2.0       12  \n",
       "3       NaN     2.0     2.0       10  \n",
       "4       NaN     2.0     1.0        8  \n",
       "7       NaN     1.0     1.0       11  \n",
       "\n",
       "[5 rows x 43 columns]"
      ]
     },
     "execution_count": 11,
     "metadata": {},
     "output_type": "execute_result"
    }
   ],
   "source": [
    "df_missing_deleted.head()"
   ]
  },
  {
   "cell_type": "markdown",
   "id": "a65b5b75",
   "metadata": {},
   "source": [
    "<font size=\"4\"> Note: df_missing_deleted only includes individuals that have enough data on all variables. The columns containing too few participants are already deleted here. "
   ]
  },
  {
   "cell_type": "code",
   "execution_count": 12,
   "id": "638ae301",
   "metadata": {
    "scrolled": true
   },
   "outputs": [
    {
     "name": "stdout",
     "output_type": "stream",
     "text": [
      "BG\n",
      "41.0\n",
      "8.0\n",
      "4.0\n",
      "2.0\n",
      "12.0\n",
      "4.0\n",
      "6.0\n",
      "3.0\n",
      "5.0\n",
      "5.0\n",
      "3.0\n",
      "8.0\n",
      "1.0\n",
      "3.0\n",
      "7.0\n",
      "3.0\n",
      "7.0\n",
      "10.0\n",
      "0.0\n",
      "1.0\n",
      "1.0\n",
      "3.0\n",
      "3.0\n",
      "7.0\n",
      "3.0\n",
      "3.0\n",
      "0.0\n",
      "8\n",
      "2.0\n",
      "2.0\n",
      "2.0\n",
      "1.0\n",
      "2.0\n",
      "2.0\n",
      "3.0\n",
      "3.0\n",
      "3.0\n",
      "1.0\n",
      "1.0\n",
      "1.0\n",
      "1.0\n",
      "3.0\n"
     ]
    }
   ],
   "source": [
    "#Bereken wat mode is per kolom\n",
    "for col in ['cntry', 'agea','hinctnta','eisced',  'hhmmb', 'eduyrs', 'sclmeet', \n",
    "                       'wrkhome', 'c19whome', 'wrklong', 'wrkresp', 'c19whacc', \n",
    "                       'mansupp','manwrkpl', 'manspeak', 'manscrn', 'manphone',\n",
    "                       'mancom','teamfeel','wrkextra', 'colprop', 'colspeak', \n",
    "                       'colscrn', 'colphone', 'colcom', 'c19spwrk', 'c19mcwrk',\n",
    "                       'mcwrkhom','stfmjob', 'uemp3m', 'uemp12m','uemp5yr', 'emplrel',\n",
    "                       'hincfel', 'gndr', 'trdawrk','jbprtfp', 'pfmfdjba', 'dcsfwrka', \n",
    "                       'c19wplch', 'manhlp',  'colhlp', 'colscrn']:\n",
    "    print(df_missing_deleted[col].value_counts().idxmax())\n",
    "\n",
    "##leftover van hoe ik missing verving met mode. df5['sclmeet'].fillna(4.0, inplace=True)"
   ]
  },
  {
   "cell_type": "code",
   "execution_count": 13,
   "id": "c66192c2",
   "metadata": {
    "scrolled": true
   },
   "outputs": [
    {
     "name": "stdout",
     "output_type": "stream",
     "text": [
      "44.56580971215118\n",
      "6.5839339536102734\n",
      "4.720407715914073\n",
      "2.699090809508161\n",
      "13.996006212558243\n",
      "4.62964587216314\n",
      "4.862742944987373\n",
      "2.539609644087256\n",
      "4.276417607509831\n",
      "4.1500894911787265\n",
      "2.4158937076961644\n",
      "6.912729498164015\n",
      "2.268187952398479\n",
      "2.9504962478818686\n",
      "5.951435145936781\n",
      "4.410686095931998\n",
      "4.770424242424243\n",
      "8.41019955654102\n",
      "4.983875031494079\n",
      "3.105354258019848\n",
      "2.0863710239145576\n",
      "3.1569713758079407\n",
      "4.060595446584939\n",
      "4.524504084014002\n",
      "3.120066969624492\n",
      "2.7954574783843076\n",
      "5.46426073576724\n",
      "7.473229895104895\n",
      "1.699824137173005\n",
      "1.6842105263157894\n",
      "1.6085200146896805\n",
      "1.1133625410733845\n",
      "1.8912589334799341\n",
      "1.5157342657342658\n",
      "3.023225241016652\n",
      "2.7187386294724076\n",
      "2.277310924369748\n",
      "1.6977738787147714\n",
      "1.4675262655205348\n",
      "1.6905802379218258\n",
      "1.5683327507864384\n",
      "3.1569713758079407\n"
     ]
    }
   ],
   "source": [
    "#bereken wat mean is per kolom\n",
    "for col in ['agea','hinctnta','eisced',  'hhmmb', 'eduyrs', 'sclmeet', \n",
    "                       'wrkhome', 'c19whome', 'wrklong', 'wrkresp', 'c19whacc', \n",
    "                       'mansupp','manwrkpl', 'manspeak', 'manscrn', 'manphone',\n",
    "                       'mancom','teamfeel','wrkextra', 'colprop', 'colspeak', \n",
    "                       'colscrn', 'colphone', 'colcom', 'c19spwrk', 'c19mcwrk',\n",
    "                       'mcwrkhom','stfmjob', 'uemp3m', 'uemp12m','uemp5yr', 'emplrel',\n",
    "                       'hincfel', 'gndr', 'trdawrk','jbprtfp', 'pfmfdjba', 'dcsfwrka', \n",
    "                       'c19wplch', 'manhlp',  'colhlp', 'colscrn']:\n",
    "    print(df_missing_deleted[col].mean())\n",
    "    "
   ]
  },
  {
   "cell_type": "markdown",
   "id": "f86580d6",
   "metadata": {},
   "source": [
    "<font size=\"4\"> Note: Every other missing value is replaced by its mode (Quintero et al., compared the missing values)\n"
   ]
  },
  {
   "cell_type": "code",
   "execution_count": 14,
   "id": "b588b9ec",
   "metadata": {},
   "outputs": [
    {
     "name": "stdout",
     "output_type": "stream",
     "text": [
      "  cntry  agea  hinctnta  eisced  hhmmb  eduyrs  sclmeet  wrkhome  c19whome  \\\n",
      "1    BG  43.0       8.0     6.0    4.0    16.0      7.0      1.0       2.0   \n",
      "2    BG  50.0       7.0     7.0    1.0    16.0      4.0      4.0       3.0   \n",
      "3    BG  51.0       6.0     4.0    3.0    11.0      4.0      6.0       3.0   \n",
      "4    BG  70.0       4.0     7.0    2.0    17.0      4.0      6.0       3.0   \n",
      "7    BG  48.0       4.0     4.0    2.0    12.0      3.0      6.0       3.0   \n",
      "\n",
      "   wrklong  ...  hincfel  gndr  trdawrk  jbprtfp  pfmfdjba  dcsfwrka  \\\n",
      "1      6.0  ...      1.0   1.0      4.0      3.0       3.0       3.0   \n",
      "2      6.0  ...      2.0   2.0      4.0      3.0       3.0       1.0   \n",
      "3      5.0  ...      3.0   2.0      3.0      3.0       3.0       1.0   \n",
      "4      5.0  ...      3.0   1.0      5.0      5.0       3.0       1.0   \n",
      "7      5.0  ...      3.0   1.0      3.0      3.0       3.0       1.0   \n",
      "\n",
      "   c19wplch  manhlp  colhlp  missing  \n",
      "1       2.0     1.0     3.0       10  \n",
      "2       1.0     1.0     2.0       12  \n",
      "3       1.0     2.0     2.0       10  \n",
      "4       1.0     2.0     1.0        8  \n",
      "7       1.0     1.0     1.0       11  \n",
      "\n",
      "[5 rows x 43 columns]\n"
     ]
    }
   ],
   "source": [
    "#Missing values vervangen met MODE\n",
    "for col in ['agea','hinctnta','eisced',  'hhmmb', 'eduyrs', 'sclmeet', \n",
    "                       'wrkhome', 'c19whome', 'wrklong', 'wrkresp', 'c19whacc', \n",
    "                       'mansupp','manwrkpl', 'manspeak', 'manscrn', 'manphone',\n",
    "                       'mancom','teamfeel','wrkextra', 'colprop', 'colspeak', \n",
    "                       'colscrn', 'colphone', 'colcom', 'c19spwrk', 'c19mcwrk',\n",
    "                       'mcwrkhom','stfmjob', 'uemp3m', 'uemp12m','uemp5yr', 'emplrel',\n",
    "                       'hincfel', 'gndr', 'trdawrk','jbprtfp', 'pfmfdjba', 'dcsfwrka', \n",
    "                       'c19wplch', 'manhlp',  'colhlp', 'colscrn']:\n",
    "    df_missing_deleted[col].fillna(df_missing_deleted[col].value_counts().idxmax(), inplace=True)\n",
    "\n",
    "print(df_missing_deleted.head())\n",
    "df_final = df_missing_deleted.copy()\n",
    "\n",
    "##This is also appropriate for income, since income is also made ordinal. "
   ]
  },
  {
   "cell_type": "markdown",
   "id": "713d7265",
   "metadata": {},
   "source": [
    "<font size=\"6\"> 2b Prepare job satisfaction</font>\n",
    "<br>"
   ]
  },
  {
   "cell_type": "code",
   "execution_count": 15,
   "id": "97ee97fd",
   "metadata": {
    "scrolled": true
   },
   "outputs": [
    {
     "data": {
      "text/html": [
       "<div>\n",
       "<style scoped>\n",
       "    .dataframe tbody tr th:only-of-type {\n",
       "        vertical-align: middle;\n",
       "    }\n",
       "\n",
       "    .dataframe tbody tr th {\n",
       "        vertical-align: top;\n",
       "    }\n",
       "\n",
       "    .dataframe thead th {\n",
       "        text-align: right;\n",
       "    }\n",
       "</style>\n",
       "<table border=\"1\" class=\"dataframe\">\n",
       "  <thead>\n",
       "    <tr style=\"text-align: right;\">\n",
       "      <th></th>\n",
       "      <th>cntry</th>\n",
       "      <th>agea</th>\n",
       "      <th>hinctnta</th>\n",
       "      <th>eisced</th>\n",
       "      <th>hhmmb</th>\n",
       "      <th>eduyrs</th>\n",
       "      <th>sclmeet</th>\n",
       "      <th>wrkhome</th>\n",
       "      <th>c19whome</th>\n",
       "      <th>wrklong</th>\n",
       "      <th>...</th>\n",
       "      <th>gndr</th>\n",
       "      <th>trdawrk</th>\n",
       "      <th>jbprtfp</th>\n",
       "      <th>pfmfdjba</th>\n",
       "      <th>dcsfwrka</th>\n",
       "      <th>c19wplch</th>\n",
       "      <th>manhlp</th>\n",
       "      <th>colhlp</th>\n",
       "      <th>missing</th>\n",
       "      <th>satisfaction</th>\n",
       "    </tr>\n",
       "  </thead>\n",
       "  <tbody>\n",
       "    <tr>\n",
       "      <th>1</th>\n",
       "      <td>BG</td>\n",
       "      <td>43.0</td>\n",
       "      <td>8.0</td>\n",
       "      <td>6.0</td>\n",
       "      <td>4.0</td>\n",
       "      <td>16.0</td>\n",
       "      <td>7.0</td>\n",
       "      <td>1.0</td>\n",
       "      <td>2.0</td>\n",
       "      <td>6.0</td>\n",
       "      <td>...</td>\n",
       "      <td>1.0</td>\n",
       "      <td>4.0</td>\n",
       "      <td>3.0</td>\n",
       "      <td>3.0</td>\n",
       "      <td>3.0</td>\n",
       "      <td>2.0</td>\n",
       "      <td>1.0</td>\n",
       "      <td>3.0</td>\n",
       "      <td>10</td>\n",
       "      <td>4</td>\n",
       "    </tr>\n",
       "    <tr>\n",
       "      <th>2</th>\n",
       "      <td>BG</td>\n",
       "      <td>50.0</td>\n",
       "      <td>7.0</td>\n",
       "      <td>7.0</td>\n",
       "      <td>1.0</td>\n",
       "      <td>16.0</td>\n",
       "      <td>4.0</td>\n",
       "      <td>4.0</td>\n",
       "      <td>3.0</td>\n",
       "      <td>6.0</td>\n",
       "      <td>...</td>\n",
       "      <td>2.0</td>\n",
       "      <td>4.0</td>\n",
       "      <td>3.0</td>\n",
       "      <td>3.0</td>\n",
       "      <td>1.0</td>\n",
       "      <td>1.0</td>\n",
       "      <td>1.0</td>\n",
       "      <td>2.0</td>\n",
       "      <td>12</td>\n",
       "      <td>2</td>\n",
       "    </tr>\n",
       "    <tr>\n",
       "      <th>3</th>\n",
       "      <td>BG</td>\n",
       "      <td>51.0</td>\n",
       "      <td>6.0</td>\n",
       "      <td>4.0</td>\n",
       "      <td>3.0</td>\n",
       "      <td>11.0</td>\n",
       "      <td>4.0</td>\n",
       "      <td>6.0</td>\n",
       "      <td>3.0</td>\n",
       "      <td>5.0</td>\n",
       "      <td>...</td>\n",
       "      <td>2.0</td>\n",
       "      <td>3.0</td>\n",
       "      <td>3.0</td>\n",
       "      <td>3.0</td>\n",
       "      <td>1.0</td>\n",
       "      <td>1.0</td>\n",
       "      <td>2.0</td>\n",
       "      <td>2.0</td>\n",
       "      <td>10</td>\n",
       "      <td>3</td>\n",
       "    </tr>\n",
       "    <tr>\n",
       "      <th>4</th>\n",
       "      <td>BG</td>\n",
       "      <td>70.0</td>\n",
       "      <td>4.0</td>\n",
       "      <td>7.0</td>\n",
       "      <td>2.0</td>\n",
       "      <td>17.0</td>\n",
       "      <td>4.0</td>\n",
       "      <td>6.0</td>\n",
       "      <td>3.0</td>\n",
       "      <td>5.0</td>\n",
       "      <td>...</td>\n",
       "      <td>1.0</td>\n",
       "      <td>5.0</td>\n",
       "      <td>5.0</td>\n",
       "      <td>3.0</td>\n",
       "      <td>1.0</td>\n",
       "      <td>1.0</td>\n",
       "      <td>2.0</td>\n",
       "      <td>1.0</td>\n",
       "      <td>8</td>\n",
       "      <td>1</td>\n",
       "    </tr>\n",
       "    <tr>\n",
       "      <th>7</th>\n",
       "      <td>BG</td>\n",
       "      <td>48.0</td>\n",
       "      <td>4.0</td>\n",
       "      <td>4.0</td>\n",
       "      <td>2.0</td>\n",
       "      <td>12.0</td>\n",
       "      <td>3.0</td>\n",
       "      <td>6.0</td>\n",
       "      <td>3.0</td>\n",
       "      <td>5.0</td>\n",
       "      <td>...</td>\n",
       "      <td>1.0</td>\n",
       "      <td>3.0</td>\n",
       "      <td>3.0</td>\n",
       "      <td>3.0</td>\n",
       "      <td>1.0</td>\n",
       "      <td>1.0</td>\n",
       "      <td>1.0</td>\n",
       "      <td>1.0</td>\n",
       "      <td>11</td>\n",
       "      <td>3</td>\n",
       "    </tr>\n",
       "  </tbody>\n",
       "</table>\n",
       "<p>5 rows × 44 columns</p>\n",
       "</div>"
      ],
      "text/plain": [
       "  cntry  agea  hinctnta  eisced  hhmmb  eduyrs  sclmeet  wrkhome  c19whome  \\\n",
       "1    BG  43.0       8.0     6.0    4.0    16.0      7.0      1.0       2.0   \n",
       "2    BG  50.0       7.0     7.0    1.0    16.0      4.0      4.0       3.0   \n",
       "3    BG  51.0       6.0     4.0    3.0    11.0      4.0      6.0       3.0   \n",
       "4    BG  70.0       4.0     7.0    2.0    17.0      4.0      6.0       3.0   \n",
       "7    BG  48.0       4.0     4.0    2.0    12.0      3.0      6.0       3.0   \n",
       "\n",
       "   wrklong  ...  gndr  trdawrk  jbprtfp  pfmfdjba  dcsfwrka  c19wplch  manhlp  \\\n",
       "1      6.0  ...   1.0      4.0      3.0       3.0       3.0       2.0     1.0   \n",
       "2      6.0  ...   2.0      4.0      3.0       3.0       1.0       1.0     1.0   \n",
       "3      5.0  ...   2.0      3.0      3.0       3.0       1.0       1.0     2.0   \n",
       "4      5.0  ...   1.0      5.0      5.0       3.0       1.0       1.0     2.0   \n",
       "7      5.0  ...   1.0      3.0      3.0       3.0       1.0       1.0     1.0   \n",
       "\n",
       "   colhlp  missing  satisfaction  \n",
       "1     3.0       10             4  \n",
       "2     2.0       12             2  \n",
       "3     2.0       10             3  \n",
       "4     1.0        8             1  \n",
       "7     1.0       11             3  \n",
       "\n",
       "[5 rows x 44 columns]"
      ]
     },
     "execution_count": 15,
     "metadata": {},
     "output_type": "execute_result"
    }
   ],
   "source": [
    "##Divide job satisfaction into 4 categories. \n",
    "satisfaction = []\n",
    "for i in df_final.stfmjob:\n",
    "    if i <=4:\n",
    "        satisfaction.append(1)\n",
    "    if i == 5:\n",
    "        satisfaction.append(2)\n",
    "    if i == 6 or i == 7:\n",
    "        satisfaction.append(3)\n",
    "    if i >= 8 and i <= 10:\n",
    "        satisfaction.append(4)\n",
    "df_final['satisfaction'] = satisfaction\n",
    "df_final.head()"
   ]
  },
  {
   "cell_type": "markdown",
   "id": "339b8de1",
   "metadata": {},
   "source": [
    "<font size=\"4\"> df_final is final dataframe"
   ]
  },
  {
   "cell_type": "code",
   "execution_count": 16,
   "id": "22cf00fd",
   "metadata": {},
   "outputs": [
    {
     "data": {
      "text/html": [
       "<div>\n",
       "<style scoped>\n",
       "    .dataframe tbody tr th:only-of-type {\n",
       "        vertical-align: middle;\n",
       "    }\n",
       "\n",
       "    .dataframe tbody tr th {\n",
       "        vertical-align: top;\n",
       "    }\n",
       "\n",
       "    .dataframe thead th {\n",
       "        text-align: right;\n",
       "    }\n",
       "</style>\n",
       "<table border=\"1\" class=\"dataframe\">\n",
       "  <thead>\n",
       "    <tr style=\"text-align: right;\">\n",
       "      <th></th>\n",
       "      <th>cntry</th>\n",
       "      <th>agea</th>\n",
       "      <th>hinctnta</th>\n",
       "      <th>eisced</th>\n",
       "      <th>hhmmb</th>\n",
       "      <th>eduyrs</th>\n",
       "      <th>sclmeet</th>\n",
       "      <th>wrkhome</th>\n",
       "      <th>c19whome</th>\n",
       "      <th>wrklong</th>\n",
       "      <th>...</th>\n",
       "      <th>gndr</th>\n",
       "      <th>trdawrk</th>\n",
       "      <th>jbprtfp</th>\n",
       "      <th>pfmfdjba</th>\n",
       "      <th>dcsfwrka</th>\n",
       "      <th>c19wplch</th>\n",
       "      <th>manhlp</th>\n",
       "      <th>colhlp</th>\n",
       "      <th>missing</th>\n",
       "      <th>satisfaction</th>\n",
       "    </tr>\n",
       "  </thead>\n",
       "  <tbody>\n",
       "    <tr>\n",
       "      <th>1</th>\n",
       "      <td>BG</td>\n",
       "      <td>43.0</td>\n",
       "      <td>8.0</td>\n",
       "      <td>6.0</td>\n",
       "      <td>4.0</td>\n",
       "      <td>16.0</td>\n",
       "      <td>7.0</td>\n",
       "      <td>1.0</td>\n",
       "      <td>2.0</td>\n",
       "      <td>6.0</td>\n",
       "      <td>...</td>\n",
       "      <td>1.0</td>\n",
       "      <td>4.0</td>\n",
       "      <td>3.0</td>\n",
       "      <td>3.0</td>\n",
       "      <td>3.0</td>\n",
       "      <td>2.0</td>\n",
       "      <td>1.0</td>\n",
       "      <td>3.0</td>\n",
       "      <td>10</td>\n",
       "      <td>4</td>\n",
       "    </tr>\n",
       "    <tr>\n",
       "      <th>2</th>\n",
       "      <td>BG</td>\n",
       "      <td>50.0</td>\n",
       "      <td>7.0</td>\n",
       "      <td>7.0</td>\n",
       "      <td>1.0</td>\n",
       "      <td>16.0</td>\n",
       "      <td>4.0</td>\n",
       "      <td>4.0</td>\n",
       "      <td>3.0</td>\n",
       "      <td>6.0</td>\n",
       "      <td>...</td>\n",
       "      <td>2.0</td>\n",
       "      <td>4.0</td>\n",
       "      <td>3.0</td>\n",
       "      <td>3.0</td>\n",
       "      <td>1.0</td>\n",
       "      <td>1.0</td>\n",
       "      <td>1.0</td>\n",
       "      <td>2.0</td>\n",
       "      <td>12</td>\n",
       "      <td>2</td>\n",
       "    </tr>\n",
       "    <tr>\n",
       "      <th>3</th>\n",
       "      <td>BG</td>\n",
       "      <td>51.0</td>\n",
       "      <td>6.0</td>\n",
       "      <td>4.0</td>\n",
       "      <td>3.0</td>\n",
       "      <td>11.0</td>\n",
       "      <td>4.0</td>\n",
       "      <td>6.0</td>\n",
       "      <td>3.0</td>\n",
       "      <td>5.0</td>\n",
       "      <td>...</td>\n",
       "      <td>2.0</td>\n",
       "      <td>3.0</td>\n",
       "      <td>3.0</td>\n",
       "      <td>3.0</td>\n",
       "      <td>1.0</td>\n",
       "      <td>1.0</td>\n",
       "      <td>2.0</td>\n",
       "      <td>2.0</td>\n",
       "      <td>10</td>\n",
       "      <td>3</td>\n",
       "    </tr>\n",
       "    <tr>\n",
       "      <th>4</th>\n",
       "      <td>BG</td>\n",
       "      <td>70.0</td>\n",
       "      <td>4.0</td>\n",
       "      <td>7.0</td>\n",
       "      <td>2.0</td>\n",
       "      <td>17.0</td>\n",
       "      <td>4.0</td>\n",
       "      <td>6.0</td>\n",
       "      <td>3.0</td>\n",
       "      <td>5.0</td>\n",
       "      <td>...</td>\n",
       "      <td>1.0</td>\n",
       "      <td>5.0</td>\n",
       "      <td>5.0</td>\n",
       "      <td>3.0</td>\n",
       "      <td>1.0</td>\n",
       "      <td>1.0</td>\n",
       "      <td>2.0</td>\n",
       "      <td>1.0</td>\n",
       "      <td>8</td>\n",
       "      <td>1</td>\n",
       "    </tr>\n",
       "    <tr>\n",
       "      <th>7</th>\n",
       "      <td>BG</td>\n",
       "      <td>48.0</td>\n",
       "      <td>4.0</td>\n",
       "      <td>4.0</td>\n",
       "      <td>2.0</td>\n",
       "      <td>12.0</td>\n",
       "      <td>3.0</td>\n",
       "      <td>6.0</td>\n",
       "      <td>3.0</td>\n",
       "      <td>5.0</td>\n",
       "      <td>...</td>\n",
       "      <td>1.0</td>\n",
       "      <td>3.0</td>\n",
       "      <td>3.0</td>\n",
       "      <td>3.0</td>\n",
       "      <td>1.0</td>\n",
       "      <td>1.0</td>\n",
       "      <td>1.0</td>\n",
       "      <td>1.0</td>\n",
       "      <td>11</td>\n",
       "      <td>3</td>\n",
       "    </tr>\n",
       "  </tbody>\n",
       "</table>\n",
       "<p>5 rows × 44 columns</p>\n",
       "</div>"
      ],
      "text/plain": [
       "  cntry  agea  hinctnta  eisced  hhmmb  eduyrs  sclmeet  wrkhome  c19whome  \\\n",
       "1    BG  43.0       8.0     6.0    4.0    16.0      7.0      1.0       2.0   \n",
       "2    BG  50.0       7.0     7.0    1.0    16.0      4.0      4.0       3.0   \n",
       "3    BG  51.0       6.0     4.0    3.0    11.0      4.0      6.0       3.0   \n",
       "4    BG  70.0       4.0     7.0    2.0    17.0      4.0      6.0       3.0   \n",
       "7    BG  48.0       4.0     4.0    2.0    12.0      3.0      6.0       3.0   \n",
       "\n",
       "   wrklong  ...  gndr  trdawrk  jbprtfp  pfmfdjba  dcsfwrka  c19wplch  manhlp  \\\n",
       "1      6.0  ...   1.0      4.0      3.0       3.0       3.0       2.0     1.0   \n",
       "2      6.0  ...   2.0      4.0      3.0       3.0       1.0       1.0     1.0   \n",
       "3      5.0  ...   2.0      3.0      3.0       3.0       1.0       1.0     2.0   \n",
       "4      5.0  ...   1.0      5.0      5.0       3.0       1.0       1.0     2.0   \n",
       "7      5.0  ...   1.0      3.0      3.0       3.0       1.0       1.0     1.0   \n",
       "\n",
       "   colhlp  missing  satisfaction  \n",
       "1     3.0       10             4  \n",
       "2     2.0       12             2  \n",
       "3     2.0       10             3  \n",
       "4     1.0        8             1  \n",
       "7     1.0       11             3  \n",
       "\n",
       "[5 rows x 44 columns]"
      ]
     },
     "execution_count": 16,
     "metadata": {},
     "output_type": "execute_result"
    }
   ],
   "source": [
    "data = df_final\n",
    "data.head()"
   ]
  },
  {
   "cell_type": "markdown",
   "id": "14aed498",
   "metadata": {},
   "source": [
    "<font size=\"6\">3. Statistics"
   ]
  },
  {
   "cell_type": "code",
   "execution_count": 71,
   "id": "1dab75ea",
   "metadata": {},
   "outputs": [],
   "source": [
    "#1. divide age into 4 categories, gender into 2. \n",
    "age = []\n",
    "for i in df_final.agea:\n",
    "    if i <= 25:\n",
    "        age.append('18-25')\n",
    "    if i >= 26 and i <= 35:\n",
    "        age.append('26-35')\n",
    "    if i >= 36 and i <= 50:\n",
    "        age.append('36-50')\n",
    "    if i >= 51 and i <= 70:\n",
    "        age.append('51-70')\n",
    "    if i >= 71:\n",
    "        age.append('70+')\n",
    "\n",
    "df_final['age'] = age\n",
    "        \n",
    "#2. Divide gender    \n",
    "gender = []\n",
    "for i in df_final.gndr:\n",
    "    if i == 1:\n",
    "        gender.append('male')\n",
    "    if i ==2:\n",
    "        gender.append('female')\n",
    "df_final['gender'] = gender\n",
    "\n",
    "country = df_final['cntry'].copy()\n",
    "df_final['country'] = country\n",
    "\n",
    "\n",
    "#3. divide team feeling\n",
    "team_feeling = []\n",
    "for i in df_final.teamfeel:\n",
    "    if i <=4:\n",
    "        team_feeling.append(1)\n",
    "    if i == 5:\n",
    "        team_feeling.append(2)\n",
    "    if i == 6 or i == 7:\n",
    "        team_feeling.append(3)\n",
    "    if i >= 8 and i <= 10:\n",
    "        team_feeling.append(4)\n",
    "\n",
    "\n",
    "df_final['team feeling'] = team_feeling\n",
    "\n",
    "#4. divide support\n",
    "manager_support = []\n",
    "for i in df_final.mansupp:\n",
    "    if i <=4:\n",
    "        manager_support.append(1)\n",
    "    if i == 5:\n",
    "        manager_support.append(2)\n",
    "    if i == 6 or i == 7:\n",
    "        manager_support.append(3)\n",
    "    if i >= 8 and i <= 10:\n",
    "        manager_support.append(4)\n",
    "\n",
    "\n",
    "df_final['manager support'] = manager_support\n",
    "\n",
    "\n",
    "##5.Rescale income feeling. This way lower scores indicate lower satisfaction with income\n",
    "income_feeling = []\n",
    "for i in df_final.hincfel:\n",
    "    if i == 4:\n",
    "        income_feeling.append(1)\n",
    "    if i == 3:\n",
    "        income_feeling.append(2)\n",
    "    if i == 2:\n",
    "        income_feeling.append(3)\n",
    "    if i == 1:\n",
    "        income_feeling.append(4)\n",
    "\n",
    "        \n",
    "df_final['income feeling'] = income_feeling\n",
    "\n",
    "#6. tired after work rename\n",
    "tired = []\n",
    "for i in df_final.trdawrk:\n",
    "    if i == 1.0:\n",
    "        tired.append(1)\n",
    "    if i == 2.0:\n",
    "        tired.append(2)\n",
    "    if i == 3.0:\n",
    "        tired.append(3)\n",
    "    if i == 4.0:\n",
    "        tired.append(4)\n",
    "    if i == 5.0:\n",
    "        tired.append(5)\n",
    "        \n",
    "df_final['tired after work'] = tired\n",
    "\n",
    "#7. manager help rename\n",
    "man_help = []\n",
    "for i in df_final.manhlp:\n",
    "    if i == 1.0:\n",
    "        man_help.append(1)\n",
    "    if i == 2.0:\n",
    "        man_help.append(2)\n",
    "    if i == 3.0:\n",
    "        man_help.append(3)\n",
    "    if i == 4.0:\n",
    "        man_help.append(4)\n",
    "\n",
    "\n",
    "df_final['manager help'] = man_help\n",
    "\n",
    "\n",
    "#8. divide remote facilitation\n",
    "remote_facilitation = []\n",
    "for i in df_final.mcwrkhom:\n",
    "    if i <=4:\n",
    "        remote_facilitation.append(1)\n",
    "    if i == 5:\n",
    "        remote_facilitation.append(2)\n",
    "    if i == 6 or i == 7:\n",
    "        remote_facilitation.append(3)\n",
    "    if i >= 8 and i <= 10:\n",
    "        remote_facilitation.append(4)\n",
    "\n",
    "\n",
    "df_final['remote facilitation'] = remote_facilitation\n",
    "\n",
    "work_extra = []\n",
    "for i in df_final.wrkextra:\n",
    "    if i <=4:\n",
    "        work_extra.append(1)\n",
    "    if i == 5:\n",
    "        work_extra.append(2)\n",
    "    if i == 6 or i == 7:\n",
    "        work_extra.append(3)\n",
    "    if i >= 8 and i <= 10:\n",
    "        work_extra.append(4)\n",
    "\n",
    "\n",
    "df_final['work extra'] = work_extra\n",
    "\n",
    "\n"
   ]
  },
  {
   "cell_type": "code",
   "execution_count": 18,
   "id": "c488c285",
   "metadata": {},
   "outputs": [
    {
     "data": {
      "text/plain": [
       "Text(0, 0.5, 'Percentage')"
      ]
     },
     "execution_count": 18,
     "metadata": {},
     "output_type": "execute_result"
    },
    {
     "data": {
      "image/png": "[encoded data removed]",
      "text/plain": [
       "<Figure size 432x288 with 1 Axes>"
      ]
     },
     "metadata": {
      "needs_background": "light"
     },
     "output_type": "display_data"
    }
   ],
   "source": [
    "df = df_final\n",
    "x, y, hue = \"satisfaction\", \"proportion\", \"age\"\n",
    "hue_order = ['satisfaction']\n",
    "\n",
    "plot_age = (df[x]\n",
    " .groupby(df[hue])\n",
    " .value_counts(normalize=True)\n",
    " .rename(y)\n",
    " .reset_index()\n",
    " .pipe((sns.barplot, \"data\"), x=x, y=y, hue=hue, palette = 'Set2'))\n",
    "\n",
    "plt.xlabel('Satisfaction', fontsize = 12)\n",
    "plt.ylabel('Percentage', fontsize=12)"
   ]
  },
  {
   "cell_type": "code",
   "execution_count": 19,
   "id": "ebd3aa7c",
   "metadata": {},
   "outputs": [
    {
     "data": {
      "text/plain": [
       "Text(0, 0.5, 'Percentage')"
      ]
     },
     "execution_count": 19,
     "metadata": {},
     "output_type": "execute_result"
    },
    {
     "data": {
      "image/png": "[encoded data removed]",
      "text/plain": [
       "<Figure size 432x288 with 1 Axes>"
      ]
     },
     "metadata": {
      "needs_background": "light"
     },
     "output_type": "display_data"
    }
   ],
   "source": [
    "df = df_final\n",
    "x, y, hue = \"satisfaction\", \"proportion\", \"gender\"\n",
    "hue_order = ['satisfaction']\n",
    "\n",
    "plot_gender = (df[x]\n",
    " .groupby(df[hue])\n",
    " .value_counts(normalize=True)\n",
    " .rename(y)\n",
    " .reset_index()\n",
    " .pipe((sns.barplot, \"data\"), x=x, y=y, hue=hue, palette = \"Set2\"))\n",
    "\n",
    "plt.xlabel('Satisfaction', fontsize = 12)\n",
    "plt.ylabel('Percentage', fontsize=12)"
   ]
  },
  {
   "cell_type": "code",
   "execution_count": 20,
   "id": "652aa73e",
   "metadata": {},
   "outputs": [
    {
     "data": {
      "text/plain": [
       "Text(0, 0.5, 'Percentage')"
      ]
     },
     "execution_count": 20,
     "metadata": {},
     "output_type": "execute_result"
    },
    {
     "data": {
      "image/png": "[encoded data removed]",
      "text/plain": [
       "<Figure size 432x288 with 1 Axes>"
      ]
     },
     "metadata": {
      "needs_background": "light"
     },
     "output_type": "display_data"
    }
   ],
   "source": [
    "x, y, hue = \"satisfaction\", \"proportion\", \"country\"\n",
    "hue_order = ['satisfaction']\n",
    "\n",
    "plot_country = (df[x]\n",
    " .groupby(df[hue])\n",
    " .value_counts(normalize=True)\n",
    " .rename(y)\n",
    " .reset_index()\n",
    " .pipe((sns.barplot, \"data\"), x=x, y=y, hue=hue, palette = \"Set2\"))\n",
    "plt.xlabel('Satisfaction', fontsize = 12)\n",
    "plt.ylabel('Percentage', fontsize=12)"
   ]
  },
  {
   "cell_type": "markdown",
   "id": "7ae35eff",
   "metadata": {},
   "source": [
    "<font size=\"6\">\n",
    "    3. Split train and test"
   ]
  },
  {
   "cell_type": "code",
   "execution_count": 21,
   "id": "9ec50a4d",
   "metadata": {},
   "outputs": [
    {
     "data": {
      "text/html": [
       "<div>\n",
       "<style scoped>\n",
       "    .dataframe tbody tr th:only-of-type {\n",
       "        vertical-align: middle;\n",
       "    }\n",
       "\n",
       "    .dataframe tbody tr th {\n",
       "        vertical-align: top;\n",
       "    }\n",
       "\n",
       "    .dataframe thead th {\n",
       "        text-align: right;\n",
       "    }\n",
       "</style>\n",
       "<table border=\"1\" class=\"dataframe\">\n",
       "  <thead>\n",
       "    <tr style=\"text-align: right;\">\n",
       "      <th></th>\n",
       "      <th>cntry</th>\n",
       "      <th>agea</th>\n",
       "      <th>hinctnta</th>\n",
       "      <th>eisced</th>\n",
       "      <th>hhmmb</th>\n",
       "      <th>eduyrs</th>\n",
       "      <th>sclmeet</th>\n",
       "      <th>wrkhome</th>\n",
       "      <th>c19whome</th>\n",
       "      <th>wrklong</th>\n",
       "      <th>...</th>\n",
       "      <th>satisfaction</th>\n",
       "      <th>age</th>\n",
       "      <th>gender</th>\n",
       "      <th>country</th>\n",
       "      <th>team feeling</th>\n",
       "      <th>manager support</th>\n",
       "      <th>income feeling</th>\n",
       "      <th>tired after work</th>\n",
       "      <th>manager help</th>\n",
       "      <th>remote facilitation</th>\n",
       "    </tr>\n",
       "  </thead>\n",
       "  <tbody>\n",
       "    <tr>\n",
       "      <th>1</th>\n",
       "      <td>BG</td>\n",
       "      <td>43.0</td>\n",
       "      <td>8.0</td>\n",
       "      <td>6.0</td>\n",
       "      <td>4.0</td>\n",
       "      <td>16.0</td>\n",
       "      <td>7.0</td>\n",
       "      <td>1.0</td>\n",
       "      <td>2.0</td>\n",
       "      <td>6.0</td>\n",
       "      <td>...</td>\n",
       "      <td>4</td>\n",
       "      <td>36-50</td>\n",
       "      <td>male</td>\n",
       "      <td>BG</td>\n",
       "      <td>4</td>\n",
       "      <td>4</td>\n",
       "      <td>4</td>\n",
       "      <td>4</td>\n",
       "      <td>1</td>\n",
       "      <td>4</td>\n",
       "    </tr>\n",
       "    <tr>\n",
       "      <th>2</th>\n",
       "      <td>BG</td>\n",
       "      <td>50.0</td>\n",
       "      <td>7.0</td>\n",
       "      <td>7.0</td>\n",
       "      <td>1.0</td>\n",
       "      <td>16.0</td>\n",
       "      <td>4.0</td>\n",
       "      <td>4.0</td>\n",
       "      <td>3.0</td>\n",
       "      <td>6.0</td>\n",
       "      <td>...</td>\n",
       "      <td>2</td>\n",
       "      <td>36-50</td>\n",
       "      <td>female</td>\n",
       "      <td>BG</td>\n",
       "      <td>3</td>\n",
       "      <td>4</td>\n",
       "      <td>3</td>\n",
       "      <td>4</td>\n",
       "      <td>1</td>\n",
       "      <td>2</td>\n",
       "    </tr>\n",
       "    <tr>\n",
       "      <th>3</th>\n",
       "      <td>BG</td>\n",
       "      <td>51.0</td>\n",
       "      <td>6.0</td>\n",
       "      <td>4.0</td>\n",
       "      <td>3.0</td>\n",
       "      <td>11.0</td>\n",
       "      <td>4.0</td>\n",
       "      <td>6.0</td>\n",
       "      <td>3.0</td>\n",
       "      <td>5.0</td>\n",
       "      <td>...</td>\n",
       "      <td>3</td>\n",
       "      <td>51-70</td>\n",
       "      <td>female</td>\n",
       "      <td>BG</td>\n",
       "      <td>4</td>\n",
       "      <td>4</td>\n",
       "      <td>2</td>\n",
       "      <td>3</td>\n",
       "      <td>2</td>\n",
       "      <td>1</td>\n",
       "    </tr>\n",
       "    <tr>\n",
       "      <th>4</th>\n",
       "      <td>BG</td>\n",
       "      <td>70.0</td>\n",
       "      <td>4.0</td>\n",
       "      <td>7.0</td>\n",
       "      <td>2.0</td>\n",
       "      <td>17.0</td>\n",
       "      <td>4.0</td>\n",
       "      <td>6.0</td>\n",
       "      <td>3.0</td>\n",
       "      <td>5.0</td>\n",
       "      <td>...</td>\n",
       "      <td>1</td>\n",
       "      <td>51-70</td>\n",
       "      <td>male</td>\n",
       "      <td>BG</td>\n",
       "      <td>3</td>\n",
       "      <td>1</td>\n",
       "      <td>2</td>\n",
       "      <td>5</td>\n",
       "      <td>2</td>\n",
       "      <td>1</td>\n",
       "    </tr>\n",
       "    <tr>\n",
       "      <th>7</th>\n",
       "      <td>BG</td>\n",
       "      <td>48.0</td>\n",
       "      <td>4.0</td>\n",
       "      <td>4.0</td>\n",
       "      <td>2.0</td>\n",
       "      <td>12.0</td>\n",
       "      <td>3.0</td>\n",
       "      <td>6.0</td>\n",
       "      <td>3.0</td>\n",
       "      <td>5.0</td>\n",
       "      <td>...</td>\n",
       "      <td>3</td>\n",
       "      <td>36-50</td>\n",
       "      <td>male</td>\n",
       "      <td>BG</td>\n",
       "      <td>4</td>\n",
       "      <td>4</td>\n",
       "      <td>2</td>\n",
       "      <td>3</td>\n",
       "      <td>1</td>\n",
       "      <td>1</td>\n",
       "    </tr>\n",
       "  </tbody>\n",
       "</table>\n",
       "<p>5 rows × 53 columns</p>\n",
       "</div>"
      ],
      "text/plain": [
       "  cntry  agea  hinctnta  eisced  hhmmb  eduyrs  sclmeet  wrkhome  c19whome  \\\n",
       "1    BG  43.0       8.0     6.0    4.0    16.0      7.0      1.0       2.0   \n",
       "2    BG  50.0       7.0     7.0    1.0    16.0      4.0      4.0       3.0   \n",
       "3    BG  51.0       6.0     4.0    3.0    11.0      4.0      6.0       3.0   \n",
       "4    BG  70.0       4.0     7.0    2.0    17.0      4.0      6.0       3.0   \n",
       "7    BG  48.0       4.0     4.0    2.0    12.0      3.0      6.0       3.0   \n",
       "\n",
       "   wrklong  ...  satisfaction    age  gender  country  team feeling  \\\n",
       "1      6.0  ...             4  36-50    male       BG             4   \n",
       "2      6.0  ...             2  36-50  female       BG             3   \n",
       "3      5.0  ...             3  51-70  female       BG             4   \n",
       "4      5.0  ...             1  51-70    male       BG             3   \n",
       "7      5.0  ...             3  36-50    male       BG             4   \n",
       "\n",
       "   manager support  income feeling  tired after work  manager help  \\\n",
       "1                4               4                 4             1   \n",
       "2                4               3                 4             1   \n",
       "3                4               2                 3             2   \n",
       "4                1               2                 5             2   \n",
       "7                4               2                 3             1   \n",
       "\n",
       "   remote facilitation  \n",
       "1                    4  \n",
       "2                    2  \n",
       "3                    1  \n",
       "4                    1  \n",
       "7                    1  \n",
       "\n",
       "[5 rows x 53 columns]"
      ]
     },
     "execution_count": 21,
     "metadata": {},
     "output_type": "execute_result"
    }
   ],
   "source": [
    "##Split data into train and test\n",
    "features = ['agea','hinctnta','eisced',  'hhmmb', 'eduyrs', 'sclmeet', \n",
    "                       'wrkhome', 'c19whome', 'wrklong', 'wrkresp', 'c19whacc', \n",
    "                       'mansupp','manwrkpl', 'manspeak', 'manscrn', 'manphone',\n",
    "                       'mancom','teamfeel','wrkextra', 'colprop', 'colspeak', \n",
    "                       'colscrn', 'colphone', 'colcom', 'c19spwrk', 'c19mcwrk',\n",
    "                       'mcwrkhom', 'uemp3m', 'uemp12m','uemp5yr', 'emplrel',\n",
    "                       'hincfel', 'gndr', 'trdawrk','jbprtfp', 'pfmfdjba', 'dcsfwrka', \n",
    "                       'c19wplch', 'manhlp',  'colhlp', 'colscrn']\n",
    "target = ['satisfaction']\n",
    "X = data[features]\n",
    "y = data[target]\n",
    "test_size = 0.2\n",
    "X_train, X_test_final, y_train, y_test_final = train_test_split(X, y, test_size = test_size, random_state =0)\n",
    "#sc = StandardScaler()\n",
    "data.head()"
   ]
  },
  {
   "cell_type": "code",
   "execution_count": 22,
   "id": "1eb16a38",
   "metadata": {},
   "outputs": [
    {
     "name": "stdout",
     "output_type": "stream",
     "text": [
      "(1831, 41)\n",
      "(1831, 1)\n",
      "(7321, 41)\n",
      "(7321, 1)\n"
     ]
    }
   ],
   "source": [
    "print(np.shape(X_test_final))\n",
    "print(np.shape(y_test_final))\n",
    "print(np.shape(X_train))\n",
    "print(np.shape(y_train))"
   ]
  },
  {
   "cell_type": "markdown",
   "id": "ab565bbd",
   "metadata": {},
   "source": [
    "<font size=\"6\">\n",
    "   4.  Oversampling"
   ]
  },
  {
   "cell_type": "code",
   "execution_count": 23,
   "id": "545ae5d7",
   "metadata": {},
   "outputs": [
    {
     "name": "stdout",
     "output_type": "stream",
     "text": [
      "Before oversampling and setting seed Counter({4: 5195, 3: 2469, 2: 835, 1: 653})\n",
      "Before oversampling, after train test split Counter({4: 4113, 3: 2016, 2: 672, 1: 520})\n",
      "testdata Counter({4: 1082, 3: 453, 2: 163, 1: 133})\n",
      "After Counter({4: 4113, 2: 4113, 3: 4113, 1: 4113})\n"
     ]
    }
   ],
   "source": [
    "##Oversampling:\n",
    "#probeer het ook een keer met undersampling\n",
    "#kijk of je aan het overfitten bent. (= overal majority voorspellen)\n",
    "print(\"Before oversampling and setting seed\", Counter(data.satisfaction))\n",
    "print('Before oversampling, after train test split', Counter(y_train.satisfaction))\n",
    "print('testdata', Counter(y_test_final.satisfaction))\n",
    "oversample = RandomOverSampler(sampling_strategy = 'all')\n",
    "X_train_oversampled, y_train_oversampled = oversample.fit_resample(X_train, y_train)\n",
    "data_oversampled = X_train_oversampled.copy()\n",
    "data_oversampled['y_train_oversampled'] = y_train_oversampled.copy()\n",
    "print(\"After\", Counter(data_oversampled.y_train_oversampled))"
   ]
  },
  {
   "cell_type": "markdown",
   "id": "75ef7374",
   "metadata": {},
   "source": [
    "#Use these when you only want 10% of all oversampled train data\n",
    "X_10p_train_oversampled = X_train_oversampled.sample(frac = 0.1, random_state = 2)\n",
    "y_10p_train_oversampled = y_train_oversampled.sample(frac = 0.1, random_state = 2)\n",
    "traindata_10p_oversample = X_10p_train_oversampled.copy()\n",
    "traindata_10p_oversample['y_10p_train_oversampled'] = y_10p_train_oversampled.copy()\n",
    "\n",
    "df = traindata_10p_oversample.copy()"
   ]
  },
  {
   "cell_type": "markdown",
   "id": "08275b8a",
   "metadata": {},
   "source": [
    "Using the randomstate in the above cell ensures I get the same sample everytime"
   ]
  },
  {
   "cell_type": "code",
   "execution_count": 24,
   "id": "abdc1674",
   "metadata": {},
   "outputs": [],
   "source": [
    "#use this if you want all oversampled traindata\n",
    "df = data_oversampled"
   ]
  },
  {
   "cell_type": "markdown",
   "id": "7ef6f713",
   "metadata": {},
   "source": [
    "<font size=\"6.\"> 5. Functions ordinal classification</font>\n",
    "<br>\n",
    "\n"
   ]
  },
  {
   "cell_type": "markdown",
   "id": "a245cd2e",
   "metadata": {},
   "source": [
    "<font size=\"6\"> 5a. Download functions</font>\n",
    "<br>\n",
    "Make sure you have donwloaded the file from the orca package prior to using the functions blow. See: https://github.com/ayrna/orca-python/blob/master/doc/spanish_user_manual.md"
   ]
  },
  {
   "cell_type": "code",
   "execution_count": 25,
   "id": "520814ab",
   "metadata": {
    "scrolled": true
   },
   "outputs": [
    {
     "name": "stdout",
     "output_type": "stream",
     "text": [
      "make -e -C classifiers/libsvmRank/python\n",
      "make[1]: Entering directory '/Users/jolijneikelboom/Library/CloudStorage/OneDrive-Persoonlijk/Tilburg/Thesis/classifiers/libsvmRank/python'\n",
      "python setup.py build_ext --inplace && rm -f redsvm.cpp && rm -Rf build\n",
      "running build_ext\n",
      "make[1]: Leaving directory '/Users/jolijneikelboom/Library/CloudStorage/OneDrive-Persoonlijk/Tilburg/Thesis/classifiers/libsvmRank/python'\n",
      "make -e -C classifiers/svorex\n",
      "make[1]: Entering directory '/Users/jolijneikelboom/Library/CloudStorage/OneDrive-Persoonlijk/Tilburg/Thesis/classifiers/svorex'\n",
      "python setup.py build_ext --inplace && rm -f svorex.cpp && rm -Rf build\n",
      "running build_ext\n",
      "make[1]: Leaving directory '/Users/jolijneikelboom/Library/CloudStorage/OneDrive-Persoonlijk/Tilburg/Thesis/classifiers/svorex'\n"
     ]
    }
   ],
   "source": [
    "!make"
   ]
  },
  {
   "cell_type": "code",
   "execution_count": 26,
   "id": "99c9de7a",
   "metadata": {},
   "outputs": [
    {
     "name": "stdout",
     "output_type": "stream",
     "text": [
      "\n",
      "###############################\n",
      "\tRunning Experiment\n",
      "###############################\n",
      "\n",
      "Running tae dataset\n",
      "--------------------------\n",
      "Running SVMOP ...\n",
      "  Running Partition 0\n",
      "  Running Partition 1\n",
      "/Users/jolijneikelboom/Library/CloudStorage/OneDrive-Persoonlijk/Tilburg/Thesis/results.py:141: FutureWarning: The frame.append method is deprecated and will be removed from pandas in a future version. Use pandas.concat instead.\n",
      "  df = previous_df.append(df)\n",
      "  Running Partition 2\n",
      "/Users/jolijneikelboom/Library/CloudStorage/OneDrive-Persoonlijk/Tilburg/Thesis/results.py:141: FutureWarning: The frame.append method is deprecated and will be removed from pandas in a future version. Use pandas.concat instead.\n",
      "  df = previous_df.append(df)\n",
      "  Running Partition 3\n",
      "/Users/jolijneikelboom/Library/CloudStorage/OneDrive-Persoonlijk/Tilburg/Thesis/results.py:141: FutureWarning: The frame.append method is deprecated and will be removed from pandas in a future version. Use pandas.concat instead.\n",
      "  df = previous_df.append(df)\n",
      "  Running Partition 4\n",
      "/Users/jolijneikelboom/Library/CloudStorage/OneDrive-Persoonlijk/Tilburg/Thesis/results.py:141: FutureWarning: The frame.append method is deprecated and will be removed from pandas in a future version. Use pandas.concat instead.\n",
      "  df = previous_df.append(df)\n",
      "  Running Partition 5\n",
      "/Users/jolijneikelboom/Library/CloudStorage/OneDrive-Persoonlijk/Tilburg/Thesis/results.py:141: FutureWarning: The frame.append method is deprecated and will be removed from pandas in a future version. Use pandas.concat instead.\n",
      "  df = previous_df.append(df)\n",
      "  Running Partition 6\n",
      "/Users/jolijneikelboom/Library/CloudStorage/OneDrive-Persoonlijk/Tilburg/Thesis/results.py:141: FutureWarning: The frame.append method is deprecated and will be removed from pandas in a future version. Use pandas.concat instead.\n",
      "  df = previous_df.append(df)\n",
      "  Running Partition 7\n",
      "/Users/jolijneikelboom/Library/CloudStorage/OneDrive-Persoonlijk/Tilburg/Thesis/results.py:141: FutureWarning: The frame.append method is deprecated and will be removed from pandas in a future version. Use pandas.concat instead.\n",
      "  df = previous_df.append(df)\n",
      "  Running Partition 8\n",
      "/Users/jolijneikelboom/Library/CloudStorage/OneDrive-Persoonlijk/Tilburg/Thesis/results.py:141: FutureWarning: The frame.append method is deprecated and will be removed from pandas in a future version. Use pandas.concat instead.\n",
      "  df = previous_df.append(df)\n",
      "  Running Partition 9\n",
      "/Users/jolijneikelboom/Library/CloudStorage/OneDrive-Persoonlijk/Tilburg/Thesis/results.py:141: FutureWarning: The frame.append method is deprecated and will be removed from pandas in a future version. Use pandas.concat instead.\n",
      "  df = previous_df.append(df)\n",
      "  Running Partition 10\n",
      "/Users/jolijneikelboom/Library/CloudStorage/OneDrive-Persoonlijk/Tilburg/Thesis/results.py:141: FutureWarning: The frame.append method is deprecated and will be removed from pandas in a future version. Use pandas.concat instead.\n",
      "  df = previous_df.append(df)\n",
      "  Running Partition 11\n",
      "/Users/jolijneikelboom/Library/CloudStorage/OneDrive-Persoonlijk/Tilburg/Thesis/results.py:141: FutureWarning: The frame.append method is deprecated and will be removed from pandas in a future version. Use pandas.concat instead.\n",
      "  df = previous_df.append(df)\n",
      "  Running Partition 12\n",
      "/Users/jolijneikelboom/Library/CloudStorage/OneDrive-Persoonlijk/Tilburg/Thesis/results.py:141: FutureWarning: The frame.append method is deprecated and will be removed from pandas in a future version. Use pandas.concat instead.\n",
      "  df = previous_df.append(df)\n",
      "  Running Partition 13\n",
      "/Users/jolijneikelboom/Library/CloudStorage/OneDrive-Persoonlijk/Tilburg/Thesis/results.py:141: FutureWarning: The frame.append method is deprecated and will be removed from pandas in a future version. Use pandas.concat instead.\n",
      "  df = previous_df.append(df)\n",
      "  Running Partition 14\n",
      "/Users/jolijneikelboom/Library/CloudStorage/OneDrive-Persoonlijk/Tilburg/Thesis/results.py:141: FutureWarning: The frame.append method is deprecated and will be removed from pandas in a future version. Use pandas.concat instead.\n",
      "  df = previous_df.append(df)\n",
      "  Running Partition 15\n",
      "/Users/jolijneikelboom/Library/CloudStorage/OneDrive-Persoonlijk/Tilburg/Thesis/results.py:141: FutureWarning: The frame.append method is deprecated and will be removed from pandas in a future version. Use pandas.concat instead.\n",
      "  df = previous_df.append(df)\n",
      "  Running Partition 16\n",
      "/Users/jolijneikelboom/Library/CloudStorage/OneDrive-Persoonlijk/Tilburg/Thesis/results.py:141: FutureWarning: The frame.append method is deprecated and will be removed from pandas in a future version. Use pandas.concat instead.\n",
      "  df = previous_df.append(df)\n",
      "  Running Partition 17\n",
      "/Users/jolijneikelboom/Library/CloudStorage/OneDrive-Persoonlijk/Tilburg/Thesis/results.py:141: FutureWarning: The frame.append method is deprecated and will be removed from pandas in a future version. Use pandas.concat instead.\n",
      "  df = previous_df.append(df)\n",
      "  Running Partition 18\n",
      "/Users/jolijneikelboom/Library/CloudStorage/OneDrive-Persoonlijk/Tilburg/Thesis/results.py:141: FutureWarning: The frame.append method is deprecated and will be removed from pandas in a future version. Use pandas.concat instead.\n",
      "  df = previous_df.append(df)\n",
      "  Running Partition 19\n",
      "/Users/jolijneikelboom/Library/CloudStorage/OneDrive-Persoonlijk/Tilburg/Thesis/results.py:141: FutureWarning: The frame.append method is deprecated and will be removed from pandas in a future version. Use pandas.concat instead.\n",
      "  df = previous_df.append(df)\n",
      "  Running Partition 20\n",
      "/Users/jolijneikelboom/Library/CloudStorage/OneDrive-Persoonlijk/Tilburg/Thesis/results.py:141: FutureWarning: The frame.append method is deprecated and will be removed from pandas in a future version. Use pandas.concat instead.\n",
      "  df = previous_df.append(df)\n",
      "  Running Partition 21\n",
      "/Users/jolijneikelboom/Library/CloudStorage/OneDrive-Persoonlijk/Tilburg/Thesis/results.py:141: FutureWarning: The frame.append method is deprecated and will be removed from pandas in a future version. Use pandas.concat instead.\n",
      "  df = previous_df.append(df)\n",
      "  Running Partition 22\n",
      "/Users/jolijneikelboom/Library/CloudStorage/OneDrive-Persoonlijk/Tilburg/Thesis/results.py:141: FutureWarning: The frame.append method is deprecated and will be removed from pandas in a future version. Use pandas.concat instead.\n",
      "  df = previous_df.append(df)\n",
      "  Running Partition 23\n",
      "/Users/jolijneikelboom/Library/CloudStorage/OneDrive-Persoonlijk/Tilburg/Thesis/results.py:141: FutureWarning: The frame.append method is deprecated and will be removed from pandas in a future version. Use pandas.concat instead.\n",
      "  df = previous_df.append(df)\n",
      "  Running Partition 24\n",
      "/Users/jolijneikelboom/Library/CloudStorage/OneDrive-Persoonlijk/Tilburg/Thesis/results.py:141: FutureWarning: The frame.append method is deprecated and will be removed from pandas in a future version. Use pandas.concat instead.\n",
      "  df = previous_df.append(df)\n",
      "  Running Partition 25\n",
      "/Users/jolijneikelboom/Library/CloudStorage/OneDrive-Persoonlijk/Tilburg/Thesis/results.py:141: FutureWarning: The frame.append method is deprecated and will be removed from pandas in a future version. Use pandas.concat instead.\n",
      "  df = previous_df.append(df)\n",
      "  Running Partition 26\n",
      "/Users/jolijneikelboom/Library/CloudStorage/OneDrive-Persoonlijk/Tilburg/Thesis/results.py:141: FutureWarning: The frame.append method is deprecated and will be removed from pandas in a future version. Use pandas.concat instead.\n",
      "  df = previous_df.append(df)\n",
      "  Running Partition 27\n",
      "/Users/jolijneikelboom/Library/CloudStorage/OneDrive-Persoonlijk/Tilburg/Thesis/results.py:141: FutureWarning: The frame.append method is deprecated and will be removed from pandas in a future version. Use pandas.concat instead.\n",
      "  df = previous_df.append(df)\n",
      "  Running Partition 28\n",
      "/Users/jolijneikelboom/Library/CloudStorage/OneDrive-Persoonlijk/Tilburg/Thesis/results.py:141: FutureWarning: The frame.append method is deprecated and will be removed from pandas in a future version. Use pandas.concat instead.\n",
      "  df = previous_df.append(df)\n",
      "  Running Partition 29\n",
      "/Users/jolijneikelboom/Library/CloudStorage/OneDrive-Persoonlijk/Tilburg/Thesis/results.py:141: FutureWarning: The frame.append method is deprecated and will be removed from pandas in a future version. Use pandas.concat instead.\n",
      "  df = previous_df.append(df)\n"
     ]
    },
    {
     "name": "stdout",
     "output_type": "stream",
     "text": [
      "\n",
      "Running balance-scale dataset\n",
      "--------------------------\n",
      "Running SVMOP ...\n",
      "  Running Partition 0\n",
      "  Running Partition 1\n",
      "/Users/jolijneikelboom/Library/CloudStorage/OneDrive-Persoonlijk/Tilburg/Thesis/results.py:141: FutureWarning: The frame.append method is deprecated and will be removed from pandas in a future version. Use pandas.concat instead.\n",
      "  df = previous_df.append(df)\n",
      "  Running Partition 2\n",
      "/Users/jolijneikelboom/Library/CloudStorage/OneDrive-Persoonlijk/Tilburg/Thesis/results.py:141: FutureWarning: The frame.append method is deprecated and will be removed from pandas in a future version. Use pandas.concat instead.\n",
      "  df = previous_df.append(df)\n",
      "  Running Partition 3\n",
      "/Users/jolijneikelboom/Library/CloudStorage/OneDrive-Persoonlijk/Tilburg/Thesis/results.py:141: FutureWarning: The frame.append method is deprecated and will be removed from pandas in a future version. Use pandas.concat instead.\n",
      "  df = previous_df.append(df)\n",
      "  Running Partition 4\n",
      "/Users/jolijneikelboom/Library/CloudStorage/OneDrive-Persoonlijk/Tilburg/Thesis/results.py:141: FutureWarning: The frame.append method is deprecated and will be removed from pandas in a future version. Use pandas.concat instead.\n",
      "  df = previous_df.append(df)\n",
      "  Running Partition 5\n",
      "/Users/jolijneikelboom/Library/CloudStorage/OneDrive-Persoonlijk/Tilburg/Thesis/results.py:141: FutureWarning: The frame.append method is deprecated and will be removed from pandas in a future version. Use pandas.concat instead.\n",
      "  df = previous_df.append(df)\n",
      "  Running Partition 6\n",
      "/Users/jolijneikelboom/Library/CloudStorage/OneDrive-Persoonlijk/Tilburg/Thesis/results.py:141: FutureWarning: The frame.append method is deprecated and will be removed from pandas in a future version. Use pandas.concat instead.\n",
      "  df = previous_df.append(df)\n",
      "  Running Partition 7\n",
      "/Users/jolijneikelboom/Library/CloudStorage/OneDrive-Persoonlijk/Tilburg/Thesis/results.py:141: FutureWarning: The frame.append method is deprecated and will be removed from pandas in a future version. Use pandas.concat instead.\n",
      "  df = previous_df.append(df)\n",
      "  Running Partition 8\n",
      "/Users/jolijneikelboom/Library/CloudStorage/OneDrive-Persoonlijk/Tilburg/Thesis/results.py:141: FutureWarning: The frame.append method is deprecated and will be removed from pandas in a future version. Use pandas.concat instead.\n",
      "  df = previous_df.append(df)\n",
      "  Running Partition 9\n",
      "/Users/jolijneikelboom/Library/CloudStorage/OneDrive-Persoonlijk/Tilburg/Thesis/results.py:141: FutureWarning: The frame.append method is deprecated and will be removed from pandas in a future version. Use pandas.concat instead.\n",
      "  df = previous_df.append(df)\n",
      "  Running Partition 10\n",
      "/Users/jolijneikelboom/Library/CloudStorage/OneDrive-Persoonlijk/Tilburg/Thesis/results.py:141: FutureWarning: The frame.append method is deprecated and will be removed from pandas in a future version. Use pandas.concat instead.\n",
      "  df = previous_df.append(df)\n",
      "  Running Partition 11\n",
      "/Users/jolijneikelboom/Library/CloudStorage/OneDrive-Persoonlijk/Tilburg/Thesis/results.py:141: FutureWarning: The frame.append method is deprecated and will be removed from pandas in a future version. Use pandas.concat instead.\n",
      "  df = previous_df.append(df)\n",
      "  Running Partition 12\n",
      "/Users/jolijneikelboom/Library/CloudStorage/OneDrive-Persoonlijk/Tilburg/Thesis/results.py:141: FutureWarning: The frame.append method is deprecated and will be removed from pandas in a future version. Use pandas.concat instead.\n",
      "  df = previous_df.append(df)\n",
      "  Running Partition 13\n",
      "/Users/jolijneikelboom/Library/CloudStorage/OneDrive-Persoonlijk/Tilburg/Thesis/results.py:141: FutureWarning: The frame.append method is deprecated and will be removed from pandas in a future version. Use pandas.concat instead.\n",
      "  df = previous_df.append(df)\n",
      "  Running Partition 14\n",
      "/Users/jolijneikelboom/Library/CloudStorage/OneDrive-Persoonlijk/Tilburg/Thesis/results.py:141: FutureWarning: The frame.append method is deprecated and will be removed from pandas in a future version. Use pandas.concat instead.\n",
      "  df = previous_df.append(df)\n",
      "  Running Partition 15\n",
      "/Users/jolijneikelboom/Library/CloudStorage/OneDrive-Persoonlijk/Tilburg/Thesis/results.py:141: FutureWarning: The frame.append method is deprecated and will be removed from pandas in a future version. Use pandas.concat instead.\n",
      "  df = previous_df.append(df)\n",
      "  Running Partition 16\n",
      "/Users/jolijneikelboom/Library/CloudStorage/OneDrive-Persoonlijk/Tilburg/Thesis/results.py:141: FutureWarning: The frame.append method is deprecated and will be removed from pandas in a future version. Use pandas.concat instead.\n",
      "  df = previous_df.append(df)\n",
      "  Running Partition 17\n",
      "/Users/jolijneikelboom/Library/CloudStorage/OneDrive-Persoonlijk/Tilburg/Thesis/results.py:141: FutureWarning: The frame.append method is deprecated and will be removed from pandas in a future version. Use pandas.concat instead.\n",
      "  df = previous_df.append(df)\n",
      "  Running Partition 18\n",
      "/Users/jolijneikelboom/Library/CloudStorage/OneDrive-Persoonlijk/Tilburg/Thesis/results.py:141: FutureWarning: The frame.append method is deprecated and will be removed from pandas in a future version. Use pandas.concat instead.\n",
      "  df = previous_df.append(df)\n",
      "  Running Partition 19\n",
      "/Users/jolijneikelboom/Library/CloudStorage/OneDrive-Persoonlijk/Tilburg/Thesis/results.py:141: FutureWarning: The frame.append method is deprecated and will be removed from pandas in a future version. Use pandas.concat instead.\n",
      "  df = previous_df.append(df)\n",
      "  Running Partition 20\n",
      "/Users/jolijneikelboom/Library/CloudStorage/OneDrive-Persoonlijk/Tilburg/Thesis/results.py:141: FutureWarning: The frame.append method is deprecated and will be removed from pandas in a future version. Use pandas.concat instead.\n",
      "  df = previous_df.append(df)\n",
      "  Running Partition 21\n",
      "/Users/jolijneikelboom/Library/CloudStorage/OneDrive-Persoonlijk/Tilburg/Thesis/results.py:141: FutureWarning: The frame.append method is deprecated and will be removed from pandas in a future version. Use pandas.concat instead.\n",
      "  df = previous_df.append(df)\n",
      "  Running Partition 22\n",
      "/Users/jolijneikelboom/Library/CloudStorage/OneDrive-Persoonlijk/Tilburg/Thesis/results.py:141: FutureWarning: The frame.append method is deprecated and will be removed from pandas in a future version. Use pandas.concat instead.\n",
      "  df = previous_df.append(df)\n",
      "  Running Partition 23\n",
      "/Users/jolijneikelboom/Library/CloudStorage/OneDrive-Persoonlijk/Tilburg/Thesis/results.py:141: FutureWarning: The frame.append method is deprecated and will be removed from pandas in a future version. Use pandas.concat instead.\n",
      "  df = previous_df.append(df)\n",
      "  Running Partition 24\n",
      "/Users/jolijneikelboom/Library/CloudStorage/OneDrive-Persoonlijk/Tilburg/Thesis/results.py:141: FutureWarning: The frame.append method is deprecated and will be removed from pandas in a future version. Use pandas.concat instead.\n",
      "  df = previous_df.append(df)\n",
      "  Running Partition 25\n",
      "/Users/jolijneikelboom/Library/CloudStorage/OneDrive-Persoonlijk/Tilburg/Thesis/results.py:141: FutureWarning: The frame.append method is deprecated and will be removed from pandas in a future version. Use pandas.concat instead.\n",
      "  df = previous_df.append(df)\n",
      "  Running Partition 26\n",
      "/Users/jolijneikelboom/Library/CloudStorage/OneDrive-Persoonlijk/Tilburg/Thesis/results.py:141: FutureWarning: The frame.append method is deprecated and will be removed from pandas in a future version. Use pandas.concat instead.\n",
      "  df = previous_df.append(df)\n",
      "  Running Partition 27\n",
      "/Users/jolijneikelboom/Library/CloudStorage/OneDrive-Persoonlijk/Tilburg/Thesis/results.py:141: FutureWarning: The frame.append method is deprecated and will be removed from pandas in a future version. Use pandas.concat instead.\n",
      "  df = previous_df.append(df)\n",
      "  Running Partition 28\n",
      "/Users/jolijneikelboom/Library/CloudStorage/OneDrive-Persoonlijk/Tilburg/Thesis/results.py:141: FutureWarning: The frame.append method is deprecated and will be removed from pandas in a future version. Use pandas.concat instead.\n",
      "  df = previous_df.append(df)\n",
      "  Running Partition 29\n",
      "/Users/jolijneikelboom/Library/CloudStorage/OneDrive-Persoonlijk/Tilburg/Thesis/results.py:141: FutureWarning: The frame.append method is deprecated and will be removed from pandas in a future version. Use pandas.concat instead.\n",
      "  df = previous_df.append(df)\n"
     ]
    },
    {
     "name": "stdout",
     "output_type": "stream",
     "text": [
      "\n",
      "Running contact-lenses dataset\n",
      "--------------------------\n",
      "Running SVMOP ...\n",
      "  Running Partition 0\n",
      "  Running Partition 1\n",
      "/Users/jolijneikelboom/Library/CloudStorage/OneDrive-Persoonlijk/Tilburg/Thesis/results.py:141: FutureWarning: The frame.append method is deprecated and will be removed from pandas in a future version. Use pandas.concat instead.\n",
      "  df = previous_df.append(df)\n",
      "  Running Partition 2\n",
      "/Users/jolijneikelboom/Library/CloudStorage/OneDrive-Persoonlijk/Tilburg/Thesis/results.py:141: FutureWarning: The frame.append method is deprecated and will be removed from pandas in a future version. Use pandas.concat instead.\n",
      "  df = previous_df.append(df)\n",
      "  Running Partition 3\n",
      "/Users/jolijneikelboom/Library/CloudStorage/OneDrive-Persoonlijk/Tilburg/Thesis/results.py:141: FutureWarning: The frame.append method is deprecated and will be removed from pandas in a future version. Use pandas.concat instead.\n",
      "  df = previous_df.append(df)\n",
      "  Running Partition 4\n",
      "/Users/jolijneikelboom/Library/CloudStorage/OneDrive-Persoonlijk/Tilburg/Thesis/results.py:141: FutureWarning: The frame.append method is deprecated and will be removed from pandas in a future version. Use pandas.concat instead.\n",
      "  df = previous_df.append(df)\n",
      "  Running Partition 5\n",
      "/Users/jolijneikelboom/Library/CloudStorage/OneDrive-Persoonlijk/Tilburg/Thesis/results.py:141: FutureWarning: The frame.append method is deprecated and will be removed from pandas in a future version. Use pandas.concat instead.\n",
      "  df = previous_df.append(df)\n",
      "  Running Partition 6\n",
      "/Users/jolijneikelboom/Library/CloudStorage/OneDrive-Persoonlijk/Tilburg/Thesis/results.py:141: FutureWarning: The frame.append method is deprecated and will be removed from pandas in a future version. Use pandas.concat instead.\n",
      "  df = previous_df.append(df)\n",
      "  Running Partition 7\n",
      "/Users/jolijneikelboom/Library/CloudStorage/OneDrive-Persoonlijk/Tilburg/Thesis/results.py:141: FutureWarning: The frame.append method is deprecated and will be removed from pandas in a future version. Use pandas.concat instead.\n",
      "  df = previous_df.append(df)\n",
      "  Running Partition 8\n",
      "/Users/jolijneikelboom/Library/CloudStorage/OneDrive-Persoonlijk/Tilburg/Thesis/results.py:141: FutureWarning: The frame.append method is deprecated and will be removed from pandas in a future version. Use pandas.concat instead.\n",
      "  df = previous_df.append(df)\n",
      "  Running Partition 9\n",
      "/Users/jolijneikelboom/Library/CloudStorage/OneDrive-Persoonlijk/Tilburg/Thesis/results.py:141: FutureWarning: The frame.append method is deprecated and will be removed from pandas in a future version. Use pandas.concat instead.\n",
      "  df = previous_df.append(df)\n",
      "  Running Partition 10\n",
      "/Users/jolijneikelboom/Library/CloudStorage/OneDrive-Persoonlijk/Tilburg/Thesis/results.py:141: FutureWarning: The frame.append method is deprecated and will be removed from pandas in a future version. Use pandas.concat instead.\n",
      "  df = previous_df.append(df)\n",
      "  Running Partition 11\n",
      "/Users/jolijneikelboom/Library/CloudStorage/OneDrive-Persoonlijk/Tilburg/Thesis/results.py:141: FutureWarning: The frame.append method is deprecated and will be removed from pandas in a future version. Use pandas.concat instead.\n",
      "  df = previous_df.append(df)\n",
      "  Running Partition 12\n",
      "/Users/jolijneikelboom/Library/CloudStorage/OneDrive-Persoonlijk/Tilburg/Thesis/results.py:141: FutureWarning: The frame.append method is deprecated and will be removed from pandas in a future version. Use pandas.concat instead.\n",
      "  df = previous_df.append(df)\n",
      "  Running Partition 13\n",
      "/Users/jolijneikelboom/Library/CloudStorage/OneDrive-Persoonlijk/Tilburg/Thesis/results.py:141: FutureWarning: The frame.append method is deprecated and will be removed from pandas in a future version. Use pandas.concat instead.\n",
      "  df = previous_df.append(df)\n",
      "  Running Partition 14\n",
      "/Users/jolijneikelboom/Library/CloudStorage/OneDrive-Persoonlijk/Tilburg/Thesis/results.py:141: FutureWarning: The frame.append method is deprecated and will be removed from pandas in a future version. Use pandas.concat instead.\n",
      "  df = previous_df.append(df)\n",
      "  Running Partition 15\n",
      "/Users/jolijneikelboom/Library/CloudStorage/OneDrive-Persoonlijk/Tilburg/Thesis/results.py:141: FutureWarning: The frame.append method is deprecated and will be removed from pandas in a future version. Use pandas.concat instead.\n",
      "  df = previous_df.append(df)\n",
      "  Running Partition 16\n",
      "/Users/jolijneikelboom/Library/CloudStorage/OneDrive-Persoonlijk/Tilburg/Thesis/results.py:141: FutureWarning: The frame.append method is deprecated and will be removed from pandas in a future version. Use pandas.concat instead.\n",
      "  df = previous_df.append(df)\n",
      "  Running Partition 17\n",
      "/Users/jolijneikelboom/Library/CloudStorage/OneDrive-Persoonlijk/Tilburg/Thesis/results.py:141: FutureWarning: The frame.append method is deprecated and will be removed from pandas in a future version. Use pandas.concat instead.\n",
      "  df = previous_df.append(df)\n",
      "  Running Partition 18\n",
      "/Users/jolijneikelboom/Library/CloudStorage/OneDrive-Persoonlijk/Tilburg/Thesis/results.py:141: FutureWarning: The frame.append method is deprecated and will be removed from pandas in a future version. Use pandas.concat instead.\n",
      "  df = previous_df.append(df)\n",
      "  Running Partition 19\n",
      "/Users/jolijneikelboom/Library/CloudStorage/OneDrive-Persoonlijk/Tilburg/Thesis/results.py:141: FutureWarning: The frame.append method is deprecated and will be removed from pandas in a future version. Use pandas.concat instead.\n",
      "  df = previous_df.append(df)\n",
      "  Running Partition 20\n",
      "/Users/jolijneikelboom/Library/CloudStorage/OneDrive-Persoonlijk/Tilburg/Thesis/results.py:141: FutureWarning: The frame.append method is deprecated and will be removed from pandas in a future version. Use pandas.concat instead.\n",
      "  df = previous_df.append(df)\n",
      "  Running Partition 21\n",
      "/Users/jolijneikelboom/Library/CloudStorage/OneDrive-Persoonlijk/Tilburg/Thesis/results.py:141: FutureWarning: The frame.append method is deprecated and will be removed from pandas in a future version. Use pandas.concat instead.\n",
      "  df = previous_df.append(df)\n",
      "  Running Partition 22\n",
      "/Users/jolijneikelboom/Library/CloudStorage/OneDrive-Persoonlijk/Tilburg/Thesis/results.py:141: FutureWarning: The frame.append method is deprecated and will be removed from pandas in a future version. Use pandas.concat instead.\n",
      "  df = previous_df.append(df)\n",
      "  Running Partition 23\n",
      "/Users/jolijneikelboom/Library/CloudStorage/OneDrive-Persoonlijk/Tilburg/Thesis/results.py:141: FutureWarning: The frame.append method is deprecated and will be removed from pandas in a future version. Use pandas.concat instead.\n",
      "  df = previous_df.append(df)\n",
      "  Running Partition 24\n",
      "/Users/jolijneikelboom/Library/CloudStorage/OneDrive-Persoonlijk/Tilburg/Thesis/results.py:141: FutureWarning: The frame.append method is deprecated and will be removed from pandas in a future version. Use pandas.concat instead.\n",
      "  df = previous_df.append(df)\n",
      "  Running Partition 25\n",
      "/Users/jolijneikelboom/Library/CloudStorage/OneDrive-Persoonlijk/Tilburg/Thesis/results.py:141: FutureWarning: The frame.append method is deprecated and will be removed from pandas in a future version. Use pandas.concat instead.\n",
      "  df = previous_df.append(df)\n",
      "  Running Partition 26\n",
      "/Users/jolijneikelboom/Library/CloudStorage/OneDrive-Persoonlijk/Tilburg/Thesis/results.py:141: FutureWarning: The frame.append method is deprecated and will be removed from pandas in a future version. Use pandas.concat instead.\n",
      "  df = previous_df.append(df)\n",
      "  Running Partition 27\n",
      "/Users/jolijneikelboom/Library/CloudStorage/OneDrive-Persoonlijk/Tilburg/Thesis/results.py:141: FutureWarning: The frame.append method is deprecated and will be removed from pandas in a future version. Use pandas.concat instead.\n",
      "  df = previous_df.append(df)\n",
      "  Running Partition 28\n",
      "/Users/jolijneikelboom/Library/CloudStorage/OneDrive-Persoonlijk/Tilburg/Thesis/results.py:141: FutureWarning: The frame.append method is deprecated and will be removed from pandas in a future version. Use pandas.concat instead.\n",
      "  df = previous_df.append(df)\n",
      "  Running Partition 29\n",
      "/Users/jolijneikelboom/Library/CloudStorage/OneDrive-Persoonlijk/Tilburg/Thesis/results.py:141: FutureWarning: The frame.append method is deprecated and will be removed from pandas in a future version. Use pandas.concat instead.\n",
      "  df = previous_df.append(df)\n",
      "\n",
      "Saving Results...\n"
     ]
    }
   ],
   "source": [
    "!python config.py with configurations/single_test.json seed=12345 -l ERROR"
   ]
  },
  {
   "cell_type": "code",
   "execution_count": 27,
   "id": "6e7e431f",
   "metadata": {},
   "outputs": [],
   "source": [
    "def mae(y_true, predictions):\n",
    "    y_true, predictions = np.array(y_true), np.array(predictions)\n",
    "    return np.mean(np.abs(y_true - predictions))"
   ]
  },
  {
   "cell_type": "code",
   "execution_count": 28,
   "id": "5cb322ef",
   "metadata": {},
   "outputs": [
    {
     "data": {
      "text/plain": [
       "False"
      ]
     },
     "execution_count": 28,
     "metadata": {},
     "output_type": "execute_result"
    }
   ],
   "source": [
    "X_train_oversampled.isnull().values.any()"
   ]
  },
  {
   "cell_type": "markdown",
   "id": "4c0af71c",
   "metadata": {},
   "source": [
    "<font size=\"6\">5b. Apply functions</font>\n",
    "<br>\n",
    "\n"
   ]
  },
  {
   "cell_type": "markdown",
   "id": "7f7ef982",
   "metadata": {},
   "source": [
    "<font size=\"5\">\n",
    "    5.b.1. CSV1V1 \n",
    "<font size=\"3\">    \n",
    "    Why use neg_mean_absolute_error: https://scikit-learn.org/stable/modules/model_evaluation.html#scoring-parameter"
   ]
  },
  {
   "cell_type": "code",
   "execution_count": 29,
   "id": "2571661c",
   "metadata": {},
   "outputs": [
    {
     "name": "stdout",
     "output_type": "stream",
     "text": [
      "Fitting 4 folds for each of 1 candidates, totalling 4 fits\n",
      "[CV 1/4] END ..........estimator__C=1, estimator__gamma=0.01; total time=  55.6s\n",
      "[CV 2/4] END ..........estimator__C=1, estimator__gamma=0.01; total time=  50.7s\n",
      "[CV 3/4] END ..........estimator__C=1, estimator__gamma=0.01; total time=  39.2s\n",
      "[CV 4/4] END ..........estimator__C=1, estimator__gamma=0.01; total time=  41.1s\n",
      "{'estimator__C': 1, 'estimator__gamma': 0.01}\n"
     ]
    }
   ],
   "source": [
    "param_grid = {'estimator__C': [1], 'estimator__gamma': [0.01]}\n",
    "model = SVC(decision_function_shape = 'ovo')\n",
    "ovo = OneVsOneClassifier(model)\n",
    "ovo_gscv = GridSearchCV(ovo, param_grid, scoring = 'neg_mean_absolute_error', return_train_score = True, cv = 4, verbose = 3)\n",
    "ovo_gscv.fit(X_train_oversampled, y_train_oversampled) #je fit hem op de oversamplede data\n",
    "\n",
    "print(ovo_gscv.best_params_)"
   ]
  },
  {
   "cell_type": "code",
   "execution_count": 30,
   "id": "4b0ad9ac",
   "metadata": {},
   "outputs": [
    {
     "data": {
      "text/html": [
       "<div>\n",
       "<style scoped>\n",
       "    .dataframe tbody tr th:only-of-type {\n",
       "        vertical-align: middle;\n",
       "    }\n",
       "\n",
       "    .dataframe tbody tr th {\n",
       "        vertical-align: top;\n",
       "    }\n",
       "\n",
       "    .dataframe thead th {\n",
       "        text-align: right;\n",
       "    }\n",
       "</style>\n",
       "<table border=\"1\" class=\"dataframe\">\n",
       "  <thead>\n",
       "    <tr style=\"text-align: right;\">\n",
       "      <th></th>\n",
       "      <th>agea</th>\n",
       "      <th>hinctnta</th>\n",
       "      <th>eisced</th>\n",
       "      <th>hhmmb</th>\n",
       "      <th>eduyrs</th>\n",
       "      <th>sclmeet</th>\n",
       "      <th>wrkhome</th>\n",
       "      <th>c19whome</th>\n",
       "      <th>wrklong</th>\n",
       "      <th>wrkresp</th>\n",
       "      <th>...</th>\n",
       "      <th>trdawrk</th>\n",
       "      <th>jbprtfp</th>\n",
       "      <th>pfmfdjba</th>\n",
       "      <th>dcsfwrka</th>\n",
       "      <th>c19wplch</th>\n",
       "      <th>manhlp</th>\n",
       "      <th>colhlp</th>\n",
       "      <th>colscrn</th>\n",
       "      <th>Predicted</th>\n",
       "      <th>Actual</th>\n",
       "    </tr>\n",
       "  </thead>\n",
       "  <tbody>\n",
       "    <tr>\n",
       "      <th>6190</th>\n",
       "      <td>30.0</td>\n",
       "      <td>10.0</td>\n",
       "      <td>7.0</td>\n",
       "      <td>2.0</td>\n",
       "      <td>17.0</td>\n",
       "      <td>6.0</td>\n",
       "      <td>2.0</td>\n",
       "      <td>1.0</td>\n",
       "      <td>4.0</td>\n",
       "      <td>5.0</td>\n",
       "      <td>...</td>\n",
       "      <td>3.0</td>\n",
       "      <td>2.0</td>\n",
       "      <td>1.0</td>\n",
       "      <td>3.0</td>\n",
       "      <td>2.0</td>\n",
       "      <td>1.0</td>\n",
       "      <td>1.0</td>\n",
       "      <td>1.0</td>\n",
       "      <td>4</td>\n",
       "      <td>4</td>\n",
       "    </tr>\n",
       "    <tr>\n",
       "      <th>7096</th>\n",
       "      <td>47.0</td>\n",
       "      <td>7.0</td>\n",
       "      <td>4.0</td>\n",
       "      <td>4.0</td>\n",
       "      <td>13.0</td>\n",
       "      <td>6.0</td>\n",
       "      <td>3.0</td>\n",
       "      <td>3.0</td>\n",
       "      <td>5.0</td>\n",
       "      <td>5.0</td>\n",
       "      <td>...</td>\n",
       "      <td>4.0</td>\n",
       "      <td>4.0</td>\n",
       "      <td>4.0</td>\n",
       "      <td>3.0</td>\n",
       "      <td>1.0</td>\n",
       "      <td>1.0</td>\n",
       "      <td>1.0</td>\n",
       "      <td>3.0</td>\n",
       "      <td>1</td>\n",
       "      <td>3</td>\n",
       "    </tr>\n",
       "    <tr>\n",
       "      <th>17615</th>\n",
       "      <td>33.0</td>\n",
       "      <td>8.0</td>\n",
       "      <td>4.0</td>\n",
       "      <td>1.0</td>\n",
       "      <td>13.0</td>\n",
       "      <td>4.0</td>\n",
       "      <td>6.0</td>\n",
       "      <td>3.0</td>\n",
       "      <td>6.0</td>\n",
       "      <td>1.0</td>\n",
       "      <td>...</td>\n",
       "      <td>3.0</td>\n",
       "      <td>4.0</td>\n",
       "      <td>3.0</td>\n",
       "      <td>1.0</td>\n",
       "      <td>1.0</td>\n",
       "      <td>2.0</td>\n",
       "      <td>2.0</td>\n",
       "      <td>3.0</td>\n",
       "      <td>4</td>\n",
       "      <td>3</td>\n",
       "    </tr>\n",
       "    <tr>\n",
       "      <th>9846</th>\n",
       "      <td>17.0</td>\n",
       "      <td>10.0</td>\n",
       "      <td>2.0</td>\n",
       "      <td>3.0</td>\n",
       "      <td>12.0</td>\n",
       "      <td>7.0</td>\n",
       "      <td>6.0</td>\n",
       "      <td>3.0</td>\n",
       "      <td>4.0</td>\n",
       "      <td>6.0</td>\n",
       "      <td>...</td>\n",
       "      <td>3.0</td>\n",
       "      <td>3.0</td>\n",
       "      <td>1.0</td>\n",
       "      <td>1.0</td>\n",
       "      <td>1.0</td>\n",
       "      <td>1.0</td>\n",
       "      <td>1.0</td>\n",
       "      <td>3.0</td>\n",
       "      <td>4</td>\n",
       "      <td>4</td>\n",
       "    </tr>\n",
       "    <tr>\n",
       "      <th>1094</th>\n",
       "      <td>41.0</td>\n",
       "      <td>9.0</td>\n",
       "      <td>4.0</td>\n",
       "      <td>6.0</td>\n",
       "      <td>12.0</td>\n",
       "      <td>6.0</td>\n",
       "      <td>5.0</td>\n",
       "      <td>3.0</td>\n",
       "      <td>4.0</td>\n",
       "      <td>3.0</td>\n",
       "      <td>...</td>\n",
       "      <td>3.0</td>\n",
       "      <td>3.0</td>\n",
       "      <td>2.0</td>\n",
       "      <td>1.0</td>\n",
       "      <td>1.0</td>\n",
       "      <td>2.0</td>\n",
       "      <td>1.0</td>\n",
       "      <td>3.0</td>\n",
       "      <td>4</td>\n",
       "      <td>3</td>\n",
       "    </tr>\n",
       "  </tbody>\n",
       "</table>\n",
       "<p>5 rows × 43 columns</p>\n",
       "</div>"
      ],
      "text/plain": [
       "       agea  hinctnta  eisced  hhmmb  eduyrs  sclmeet  wrkhome  c19whome  \\\n",
       "6190   30.0      10.0     7.0    2.0    17.0      6.0      2.0       1.0   \n",
       "7096   47.0       7.0     4.0    4.0    13.0      6.0      3.0       3.0   \n",
       "17615  33.0       8.0     4.0    1.0    13.0      4.0      6.0       3.0   \n",
       "9846   17.0      10.0     2.0    3.0    12.0      7.0      6.0       3.0   \n",
       "1094   41.0       9.0     4.0    6.0    12.0      6.0      5.0       3.0   \n",
       "\n",
       "       wrklong  wrkresp  ...  trdawrk  jbprtfp  pfmfdjba  dcsfwrka  c19wplch  \\\n",
       "6190       4.0      5.0  ...      3.0      2.0       1.0       3.0       2.0   \n",
       "7096       5.0      5.0  ...      4.0      4.0       4.0       3.0       1.0   \n",
       "17615      6.0      1.0  ...      3.0      4.0       3.0       1.0       1.0   \n",
       "9846       4.0      6.0  ...      3.0      3.0       1.0       1.0       1.0   \n",
       "1094       4.0      3.0  ...      3.0      3.0       2.0       1.0       1.0   \n",
       "\n",
       "       manhlp  colhlp  colscrn  Predicted  Actual  \n",
       "6190      1.0     1.0      1.0          4       4  \n",
       "7096      1.0     1.0      3.0          1       3  \n",
       "17615     2.0     2.0      3.0          4       3  \n",
       "9846      1.0     1.0      3.0          4       4  \n",
       "1094      2.0     1.0      3.0          4       3  \n",
       "\n",
       "[5 rows x 43 columns]"
      ]
     },
     "execution_count": 30,
     "metadata": {},
     "output_type": "execute_result"
    }
   ],
   "source": [
    "#ovo_best = ovo(param_grid = {'estimator__C': 10, 'estimator__gamma': 0.01,'estimator__kernel': 'rbf'}\n",
    "ovo_gscv_predictions = ovo_gscv.predict(X_test_final) \n",
    "ovo_gscv_df = X_test_final.copy()\n",
    "ovo_gscv_df.insert(41, 'Actual', y_test_final, True)\n",
    "ovo_gscv_df.insert(41, 'Predicted', ovo_gscv_predictions, True)\n",
    "\n",
    "list_true_scores = list(ovo_gscv_df['Actual'])\n",
    "list_ovo_gscv_predicted = list(ovo_gscv_df['Predicted'])\n",
    "\n",
    "ovo_gscv_df.head()"
   ]
  },
  {
   "cell_type": "code",
   "execution_count": 31,
   "id": "ed436cd9",
   "metadata": {},
   "outputs": [
    {
     "name": "stdout",
     "output_type": "stream",
     "text": [
      "satisfaction\n",
      "4               4113\n",
      "3               2016\n",
      "2                672\n",
      "1                520\n",
      "dtype: int64\n",
      "satisfaction\n",
      "1               4113\n",
      "2               4113\n",
      "3               4113\n",
      "4               4113\n",
      "dtype: int64\n",
      "satisfaction\n",
      "4               1082\n",
      "3                453\n",
      "2                163\n",
      "1                133\n",
      "dtype: int64\n"
     ]
    }
   ],
   "source": [
    "print(y_train.value_counts())\n",
    "print(y_train_oversampled.value_counts())\n",
    "print(y_test_final.value_counts())"
   ]
  },
  {
   "cell_type": "code",
   "execution_count": 32,
   "id": "e8c3f540",
   "metadata": {},
   "outputs": [
    {
     "name": "stdout",
     "output_type": "stream",
     "text": [
      "Mae SCV1V1 after gridsearch 0.6231567449481158\n",
      "The best estimators: OneVsOneClassifier(estimator=SVC(C=1, decision_function_shape='ovo',\n",
      "                                 gamma=0.01))\n"
     ]
    }
   ],
   "source": [
    "ovo_gscv_true = ovo_gscv_df.Actual\n",
    "ovo_gscv_predicted = ovo_gscv_df.Predicted\n",
    "\n",
    "def mae(y_true, predictions):\n",
    "    y_true, predictions = np.array(y_true), np.array(predictions)\n",
    "    return np.mean(np.abs(y_true - predictions))\n",
    "\n",
    "print('Mae SCV1V1 after gridsearch', mae(ovo_gscv_true, ovo_gscv_predicted))\n",
    "print('The best estimators:', ovo_gscv.best_estimator_)\n",
    "mae_ovo_gscv = mae(ovo_gscv_true, ovo_gscv_predicted)"
   ]
  },
  {
   "cell_type": "code",
   "execution_count": 33,
   "id": "1bc90a10",
   "metadata": {},
   "outputs": [
    {
     "name": "stdout",
     "output_type": "stream",
     "text": [
      "[Text(0.5, 15.0, 'Predicted'), Text(33.0, 0.5, 'True')]\n"
     ]
    },
    {
     "data": {
      "image/png": "[encoded data removed]",
      "text/plain": [
       "<Figure size 432x288 with 2 Axes>"
      ]
     },
     "metadata": {
      "needs_background": "light"
     },
     "output_type": "display_data"
    }
   ],
   "source": [
    "##CM with percentages\n",
    "ovo_cf_matrix = confusion_matrix(ovo_gscv_true, ovo_gscv_predicted)\n",
    "##CM with Percentages\n",
    "ovo_ax = sns.heatmap(ovo_cf_matrix/np.sum(ovo_cf_matrix), annot=True, \n",
    "            fmt='.2%', cmap='Blues')\n",
    "print(ovo_ax.set(xlabel='Predicted', ylabel='True'))"
   ]
  },
  {
   "cell_type": "code",
   "execution_count": 34,
   "id": "414acd60",
   "metadata": {},
   "outputs": [
    {
     "name": "stdout",
     "output_type": "stream",
     "text": [
      "0.6231567449481158\n"
     ]
    }
   ],
   "source": [
    "true_scores = ovo_gscv_df.Actual.copy()\n",
    "print(mae(true_scores, ovo_gscv_predictions))"
   ]
  },
  {
   "cell_type": "code",
   "execution_count": 35,
   "id": "89a90448",
   "metadata": {},
   "outputs": [
    {
     "data": {
      "text/plain": [
       "0.45166575641725837"
      ]
     },
     "execution_count": 35,
     "metadata": {},
     "output_type": "execute_result"
    }
   ],
   "source": [
    "zero_one_loss(true_scores, ovo_gscv_predictions)"
   ]
  },
  {
   "cell_type": "code",
   "execution_count": 36,
   "id": "64f7b917",
   "metadata": {},
   "outputs": [
    {
     "name": "stdout",
     "output_type": "stream",
     "text": [
      "1831\n"
     ]
    }
   ],
   "source": [
    "true_scores = ovo_gscv_df.Actual.copy()\n",
    "print(len(true_scores))"
   ]
  },
  {
   "cell_type": "markdown",
   "id": "3e5d65a0",
   "metadata": {},
   "source": [
    "<font size=\"5\">\n",
    "    5.b.2. SVMOP"
   ]
  },
  {
   "cell_type": "code",
   "execution_count": 37,
   "id": "fba081b5",
   "metadata": {},
   "outputs": [],
   "source": [
    "path.append('classifiers')\n",
    "svmopModule = __import__(\"OrdinalDecomposition\")\n",
    "svmop= svmopModule.OrdinalDecomposition"
   ]
  },
  {
   "cell_type": "code",
   "execution_count": 38,
   "id": "e097d823",
   "metadata": {},
   "outputs": [],
   "source": [
    "parameter_list_C = [0.01, 0.1, 1, 10]\n",
    "parameter_list_Gamma = [0.01, 0.1, 1, 10]\n",
    "\n",
    "kf = KFold(n_splits=4, random_state=None, shuffle=False)\n"
   ]
  },
  {
   "cell_type": "markdown",
   "id": "198d3992",
   "metadata": {},
   "source": [
    "for C in parameter_list_C:\n",
    "    for G in parameter_list_Gamma: #Hier gaat die dus voor de value van C, over elk van G. \n",
    "        print(f'C is nu: {C}, G is nu {G}')\n",
    "        svmop_gscv = svmop(dtype = 'ordered_partitions', \n",
    "                              decision_method = 'frank_hall', \n",
    "                               base_classifier = 'sklearn.svm.SVC', \n",
    "                               parameters={'C': C,\n",
    "                                           'gamma':G, \n",
    "                                           'probability':True})\n",
    "        mae_fold = 0\n",
    "        for train_index, test_index in kf.split(X):\n",
    "            X_train, X_test = X.iloc[train_index, :], X.iloc[test_index,:]\n",
    "            y_train, y_test = y.iloc[train_index,], y.iloc[test_index,]\n",
    "            svmop_gscv_fit = svmop_gscv.fit(X_train, y_train)\n",
    "            svmop_gscv_predictions = svmop_gscv.predict(X_test)\n",
    "            real_scores_svmop = list(y_test['satisfaction'])\n",
    "            mae_in_between = mae(real_scores_svmop, svmop_gscv_predictions)\n",
    "            mae_fold += mae_in_between\n",
    "            print(mae_in_between)\n",
    "        print('belonging mae is:', mae_fold /4)\n",
    "    "
   ]
  },
  {
   "cell_type": "code",
   "execution_count": 39,
   "id": "d7e7887d",
   "metadata": {},
   "outputs": [],
   "source": [
    "svmop_best = svmop(dtype = 'ordered_partitions', \n",
    "                               decision_method = 'frank_hall', \n",
    "                               base_classifier = 'sklearn.svm.SVC', \n",
    "                               parameters={'C': 1,\n",
    "                                           'gamma': 0.01, \n",
    "                                           'probability':True})\n",
    "svmop_best.fit(X_train_oversampled, y_train_oversampled)\n",
    "svmop_best_predictions = svmop_best.predict(X_test_final)\n",
    "\n"
   ]
  },
  {
   "cell_type": "code",
   "execution_count": 40,
   "id": "7585e2ef",
   "metadata": {},
   "outputs": [
    {
     "name": "stdout",
     "output_type": "stream",
     "text": [
      "[Text(0.5, 15.0, 'Predicted'), Text(33.0, 0.5, 'True')]\n"
     ]
    },
    {
     "data": {
      "image/png": "[encoded data removed]",
      "text/plain": [
       "<Figure size 432x288 with 2 Axes>"
      ]
     },
     "metadata": {
      "needs_background": "light"
     },
     "output_type": "display_data"
    }
   ],
   "source": [
    "svmop_cf_matrix = confusion_matrix(true_scores, svmop_best_predictions)\n",
    "\n",
    "svmop_ax = sns.heatmap(svmop_cf_matrix/np.sum(svmop_cf_matrix), annot=True, \n",
    "            fmt='.2%', cmap='Blues')\n",
    "print(svmop_ax.set(xlabel='Predicted', ylabel='True'))"
   ]
  },
  {
   "cell_type": "code",
   "execution_count": 41,
   "id": "d59e699e",
   "metadata": {},
   "outputs": [
    {
     "name": "stdout",
     "output_type": "stream",
     "text": [
      "mae is 0.6111414527580558\n",
      "mze is 0.46313489896231563\n"
     ]
    }
   ],
   "source": [
    "print('mae is', mae(true_scores, svmop_best_predictions))\n",
    "print('mze is', zero_one_loss(true_scores, svmop_best_predictions))"
   ]
  },
  {
   "cell_type": "markdown",
   "id": "7b2482d0",
   "metadata": {},
   "source": [
    "<font size=\"5\">\n",
    "    5.b.3. SVOREX"
   ]
  },
  {
   "cell_type": "code",
   "execution_count": 42,
   "id": "208669dd",
   "metadata": {},
   "outputs": [],
   "source": [
    "path.append('classifiers')\n",
    "svorexModule = __import__(\"SVOREX\")\n",
    "svorex= svorexModule.SVOREX"
   ]
  },
  {
   "cell_type": "code",
   "execution_count": 43,
   "id": "1cfb5bab",
   "metadata": {},
   "outputs": [],
   "source": [
    "valuesC = [0.01, 0.1, 1, 10]\n",
    "valuesK = [0.01, 0.1, 1, 10]"
   ]
  },
  {
   "cell_type": "markdown",
   "id": "ad6e985b",
   "metadata": {},
   "source": [
    "#SVOREX with selfmade gridsearchCV because regular gridsearch CV takes highest of fold.\n",
    "for C in valuesC:\n",
    "    for K in valuesK: \n",
    "        print(f'C is nu: {C}, K is nu {K}')\n",
    "        svorex_gscv = svorex(c = C, k = K)\n",
    "        mae_fold = 0\n",
    "        for train_index, test_index in kf.split(X):\n",
    "            X_train, X_test = X.iloc[train_index, :], X.iloc[test_index,:]\n",
    "            y_train, y_test = y.iloc[train_index,], y.iloc[test_index,]\n",
    "            svorex_gscv_fit = svorex_gscv.fit(X_train, y_train)\n",
    "            svorex_gscv_predictions = svorex_gscv.predict(X_test)\n",
    "            real_scores_svorex = list(y_test['satisfaction'])\n",
    "            mae_fold += mae(y_test, svorex_gscv_predictions)\n",
    "            print(mae(y_test, svorex_gscv_predictions))\n",
    "        print('belonging mae is:', mae_fold /4 )\n",
    "        \n",
    "\n",
    "svorex_best_fit = svorex_best.fit(X_train_oversampled, y_train_oversampled)"
   ]
  },
  {
   "cell_type": "code",
   "execution_count": 44,
   "id": "bfcdd7ce",
   "metadata": {},
   "outputs": [],
   "source": [
    "svorex_best = svorex(c = 0.1)\n",
    "svorex_best.fit(X_train_oversampled, y_train_oversampled)\n",
    "svorex_best_predictions = svorex_best.predict(X_test_final)"
   ]
  },
  {
   "cell_type": "code",
   "execution_count": 46,
   "id": "25daca32",
   "metadata": {
    "scrolled": true
   },
   "outputs": [
    {
     "name": "stdout",
     "output_type": "stream",
     "text": [
      "[Text(0.5, 15.0, 'Predicted'), Text(33.0, 0.5, 'True')]\n"
     ]
    },
    {
     "data": {
      "image/png": "[encoded data removed]",
      "text/plain": [
       "<Figure size 432x288 with 2 Axes>"
      ]
     },
     "metadata": {
      "needs_background": "light"
     },
     "output_type": "display_data"
    }
   ],
   "source": [
    "svorex_cf_matrix = confusion_matrix(y_test_final, svorex_best_predictions)\n",
    "##CM with Percentages\n",
    "svorex_new = sns.heatmap(svorex_cf_matrix/np.sum(svorex_cf_matrix), annot=True, \n",
    "            fmt='.2%', cmap='Blues')\n",
    "svorex_new.set_title('CM svorex after zelf gemaakte gridsearch, MAE: 0.82')\n",
    "print(svorex_new.set(xlabel='Predicted', ylabel='True'))"
   ]
  },
  {
   "cell_type": "code",
   "execution_count": 47,
   "id": "f80f00aa",
   "metadata": {},
   "outputs": [
    {
     "name": "stdout",
     "output_type": "stream",
     "text": [
      "mae is 1.5019115237575096\n",
      "mze is 0.9109776078645548\n"
     ]
    }
   ],
   "source": [
    "print('mae is', mae(y_test_final, svorex_best_predictions))\n",
    "print('mze is', zero_one_loss(y_test_final, svorex_best_predictions))"
   ]
  },
  {
   "cell_type": "markdown",
   "id": "44ee75a5",
   "metadata": {},
   "source": [
    "<font size=\"5\">\n",
    "    5.b.4. REDSVM"
   ]
  },
  {
   "cell_type": "code",
   "execution_count": 48,
   "id": "37e42768",
   "metadata": {},
   "outputs": [],
   "source": [
    "path.append('classifiers')\n",
    "redsvmModule = __import__(\"REDSVM\")\n",
    "redsvm = redsvmModule.REDSVM\n",
    "valuesG = [0.1, 1, 10]\n",
    "valuesc = [0.1, 1, 10]\n",
    "kf = KFold(n_splits=4, random_state=None, shuffle=False)"
   ]
  },
  {
   "cell_type": "markdown",
   "id": "d12baea4",
   "metadata": {
    "scrolled": true
   },
   "source": [
    "##make REDSVM gridsearch by yourself again\n",
    "for C in valuesc:\n",
    "    for G in valuesG: \n",
    "        print(f'C is nu: {C}, g is nu {G}')\n",
    "        redsvm_gscv = redsvm(c = C, g = G)\n",
    "        mae_fold = 0\n",
    "        for train_index, test_index in kf.split(X):\n",
    "            X_train, X_test = X.iloc[train_index, :], X.iloc[test_index,:]\n",
    "            y_train, y_test = y.iloc[train_index,], y.iloc[test_index,]\n",
    "            redsvm_gscv_fit = redsvm_gscv.fit(X_train, y_train)\n",
    "            redsvm_gscv_predictions = redsvm_gscv.predict(X_test)\n",
    "            real_scores_redsvm = list(y_test['satisfaction']) \n",
    "            mae_fold += mae(y_test, redsvm_gscv_predictions)\n",
    "            print(mae(y_test, redsvm_gscv_predictions))\n",
    "        print('belonging mae is:', mae_fold /4 )\n"
   ]
  },
  {
   "cell_type": "code",
   "execution_count": 49,
   "id": "78f07533",
   "metadata": {},
   "outputs": [],
   "source": [
    "redsvm_best = redsvm(c = 1, g =1)\n",
    "redsvm_best_fit = redsvm_best.fit(X_train_oversampled, y_train_oversampled)\n",
    "redsvm_best_predictions = redsvm_best.predict(X_test_final)"
   ]
  },
  {
   "cell_type": "code",
   "execution_count": 50,
   "id": "34789e89",
   "metadata": {},
   "outputs": [
    {
     "name": "stdout",
     "output_type": "stream",
     "text": [
      "[Text(0.5, 15.0, 'Predicted'), Text(33.0, 0.5, 'True')]\n"
     ]
    },
    {
     "data": {
      "image/png": "[encoded data removed]",
      "text/plain": [
       "<Figure size 432x288 with 2 Axes>"
      ]
     },
     "metadata": {
      "needs_background": "light"
     },
     "output_type": "display_data"
    }
   ],
   "source": [
    "redsvm_cf_matrix = confusion_matrix(y_test_final, redsvm_best_predictions)\n",
    "##CM with Percentages\n",
    "redsvm_ax = sns.heatmap(redsvm_cf_matrix/np.sum(redsvm_cf_matrix), annot=True, \n",
    "            fmt='.2%', cmap='Blues')\n",
    "\n",
    "print(redsvm_ax.set(xlabel='Predicted', ylabel='True'))"
   ]
  },
  {
   "cell_type": "code",
   "execution_count": 51,
   "id": "3467552e",
   "metadata": {},
   "outputs": [
    {
     "name": "stdout",
     "output_type": "stream",
     "text": [
      "0.6433642818132168\n",
      "0.40906608410704537\n"
     ]
    }
   ],
   "source": [
    "print(mae(y_test_final, redsvm_best_predictions))\n",
    "print(zero_one_loss(y_test_final, redsvm_best_predictions))"
   ]
  },
  {
   "cell_type": "markdown",
   "id": "27e41ab4",
   "metadata": {},
   "source": [
    "<font size=\"6\">\n",
    "5.c Comparison of models"
   ]
  },
  {
   "cell_type": "markdown",
   "id": "9de5b8db",
   "metadata": {},
   "source": [
    "How to apply wilcoxon test:\n",
    "1.  You need a list which values represent the differences between two groups.\n",
    "2. In my case, that list should thus compare the error of one model with the error of another model, for every instance. HOW:\n",
    "    a. make a column that shows error for every model. (example: error_ovo = abs(ovo_predicted - true)\n",
    "    b. make a list that compares two of those columns. (example: differences = error_ovo - error_svmop).\n",
    "    c. Now you have the list that compares the errors, as required by step 2. \n",
    "3. This list can be put into the wilcoxon test. The wilcoxon takes the list of differences and produces a statistic and p.value.\n",
    "\n",
    "For example on other dataset see link.\n",
    "https://docs.scipy.org/doc/scipy/reference/generated/scipy.stats.wilcoxon.html"
   ]
  },
  {
   "cell_type": "code",
   "execution_count": 53,
   "id": "132a5f39",
   "metadata": {},
   "outputs": [
    {
     "name": "stdout",
     "output_type": "stream",
     "text": [
      "0.8994661096397649\n",
      "0.6111414527580558\n",
      "1.5019115237575096\n",
      "0.6433642818132168\n"
     ]
    }
   ],
   "source": [
    "print(mae(y_test_final, ovo_gscv_predictions))\n",
    "print(mae(true_scores, svmop_best_predictions))\n",
    "print(mae(true_scores, svorex_best_predictions))\n",
    "print(mae(true_scores, redsvm_best_predictions))"
   ]
  },
  {
   "cell_type": "code",
   "execution_count": 55,
   "id": "dbcf0d9f",
   "metadata": {},
   "outputs": [],
   "source": [
    "differences_ovo_svmop = list(ovo_gscv_predictions - svmop_best_predictions)\n",
    "differences_ovo_svorex = list(ovo_gscv_predictions - svorex_best_predictions)\n",
    "differences_ovo_redsvm = list(ovo_gscv_predictions - redsvm_best_predictions)\n",
    "differences_svmop_svorex = list(svmop_best_predictions - svorex_best_predictions)\n",
    "differences_svmop_redsvm = list(svmop_best_predictions - redsvm_best_predictions)\n",
    "differences_svorex_redsvm = list(svmop_best_predictions - redsvm_best_predictions)"
   ]
  },
  {
   "cell_type": "code",
   "execution_count": 56,
   "id": "f6d2f5f5",
   "metadata": {},
   "outputs": [
    {
     "name": "stdout",
     "output_type": "stream",
     "text": [
      "ovo compared to svmop results: statistic is: 20679.0 p is 0.5943019805562519\n",
      "ovo compared to svorex results: statistic is: 39483.0 p is 2.737591284058026e-257\n",
      "ovo compared to redsvm results: statistic is: 0.0 p is 4.262525577237035e-147\n",
      "svmop compared to svorex results: statistic is: 34944.0 p is 6.227198441131373e-261\n",
      "svmop compared to redsvm results: statistic is: 0.0 p is 2.783856741829474e-164\n",
      "svmop compared to redsvm results: statistic is: 0.0 p is 2.783856741829474e-164\n"
     ]
    }
   ],
   "source": [
    "test_ovo_svmop = wilcoxon(differences_ovo_svmop)\n",
    "print('ovo compared to svmop results: statistic is:', test_ovo_svmop.statistic, \n",
    "      'p is', test_ovo_svmop.pvalue)\n",
    "\n",
    "test_ovo_svorex = wilcoxon(differences_ovo_svorex)\n",
    "print('ovo compared to svorex results: statistic is:', test_ovo_svorex.statistic, \n",
    "      'p is', test_ovo_svorex.pvalue)\n",
    "\n",
    "test_ovo_redsvm = wilcoxon(differences_ovo_redsvm)\n",
    "print('ovo compared to redsvm results: statistic is:', test_ovo_redsvm.statistic, \n",
    "      'p is', test_ovo_redsvm.pvalue)\n",
    "\n",
    "test_svmop_svorex = wilcoxon(differences_svmop_svorex)\n",
    "print('svmop compared to svorex results: statistic is:', test_svmop_svorex.statistic, \n",
    "      'p is', test_svmop_svorex.pvalue)\n",
    "\n",
    "test_svmop_redsvm = wilcoxon(differences_svmop_redsvm)\n",
    "print('svmop compared to redsvm results: statistic is:', test_svmop_redsvm.statistic, \n",
    "      'p is', test_svmop_redsvm.pvalue)\n",
    "\n",
    "test_svorex_redsvm = wilcoxon(differences_svorex_redsvm)\n",
    "print('svmop compared to redsvm results: statistic is:', test_svorex_redsvm.statistic, \n",
    "      'p is', test_svorex_redsvm.pvalue)"
   ]
  },
  {
   "cell_type": "markdown",
   "id": "f2a6d5d8",
   "metadata": {},
   "source": [
    "error_ovo = abs(ovo_gscv_predictions - list_true_scores)\n",
    "error_svmop = abs(svmop_best_predictions - list_true_scores)\n",
    "error_svorex = abs(np.array(SVOREX_best_predictions) - np.array(list_true_scores))\n",
    "error_redsvm = abs(np.array(REDSVM_best_predictions) - np.array(list_true_scores))\n",
    "\n",
    "\n",
    "differences_error_ovo_svmop = list(error_ovo - error_svmop)\n",
    "differences_error_ovo_svorex = list(error_ovo - error_svorex)\n",
    "differences_error_ovo_redsvm = list(error_ovo - error_redsvm)\n",
    "differences_error_svmop_svorex = list(error_svmop - error_svorex)\n",
    "differences_error_svmop_redsvm = list(error_svmop - error_redsvm)\n",
    "differences_error_svorex_redsvm = list(error_svorex - error_redsvm)\n",
    "\n",
    "true_list = list(true_scores)\n"
   ]
  },
  {
   "cell_type": "markdown",
   "id": "9bb0e769",
   "metadata": {},
   "source": [
    "test_ovo_svmop = wilcoxon(differences_error_ovo_svmop)\n",
    "print('ovo compared to svmop results: statistic is:', test_ovo_svmop.statistic, \n",
    "      'p is', test_ovo_svmop.pvalue)\n",
    "\n",
    "test_ovo_svorex = wilcoxon(differences_error_ovo_svorex)\n",
    "print('ovo compared to svorex results: statistic is:', test_ovo_svorex.statistic, \n",
    "      'p is', test_ovo_svorex.pvalue)\n",
    "\n",
    "test_ovo_redsvm = wilcoxon(differences_error_ovo_redsvm)\n",
    "print('ovo compared to redsvm results: statistic is:', test_ovo_redsvm.statistic, \n",
    "      'p is', test_ovo_redsvm.pvalue)\n",
    "\n",
    "test_svmop_svorex = wilcoxon(differences_error_svmop_svorex)\n",
    "print('svmop compared to svorex results: statistic is:', test_svmop_svorex.statistic, \n",
    "      'p is', test_svmop_svorex.pvalue)\n",
    "\n",
    "test_svmop_redsvm = wilcoxon(differences_error_svmop_redsvm)\n",
    "print('svmop compared to redsvm results: statistic is:', test_svmop_redsvm.statistic, \n",
    "      'p is', test_svmop_redsvm.pvalue)\n",
    "\n"
   ]
  },
  {
   "cell_type": "markdown",
   "id": "0a812bff",
   "metadata": {},
   "source": [
    "<font size=\"6\">\n",
    "    6. Feature importance "
   ]
  },
  {
   "cell_type": "markdown",
   "id": "000c0751",
   "metadata": {},
   "source": [
    "<font size=\"6\"> 6.a. Using mutual information are suitable when the predictors include ordinal variables"
   ]
  },
  {
   "cell_type": "code",
   "execution_count": 58,
   "id": "700ec84f",
   "metadata": {},
   "outputs": [],
   "source": [
    "fs_MI = SelectKBest(score_func=mutual_info_classif, k='all')\n",
    "fs_MI.fit(X_train, y_train)\n",
    "X_train_fs_MI = fs_MI.transform(X_train)\n",
    "X_test_fs_MI = fs_MI.transform(X_test_final)"
   ]
  },
  {
   "cell_type": "code",
   "execution_count": 59,
   "id": "dc6b9934",
   "metadata": {},
   "outputs": [
    {
     "name": "stdout",
     "output_type": "stream",
     "text": [
      "0.014993199359704334\n",
      "0.003526443591201467\n",
      "0.024183073870724714\n",
      "0.006744306684474122\n",
      "0.01986873269876477\n",
      "0.0\n",
      "0.012494971730173887\n",
      "0.013679615903621434\n",
      "0.0004771193953065911\n",
      "0.0\n",
      "0.01322895973620053\n",
      "0.05919002034508569\n",
      "0.0\n",
      "0.0\n",
      "0.0\n",
      "0.0\n",
      "0.005526535062831517\n",
      "0.07176380612900668\n",
      "0.044252369303363626\n",
      "0.0\n",
      "0.003077065233670684\n",
      "0.0\n",
      "0.006016582164516837\n",
      "0.010550187396031419\n",
      "0.0012541387605145005\n",
      "0.01085149260749585\n",
      "0.01415003186572994\n",
      "0.0\n",
      "0.00289359390922872\n",
      "0.0025517799008629716\n",
      "0.005847461922266817\n",
      "0.03345469657365552\n",
      "0.006565840311346438\n",
      "0.042304335736330856\n",
      "0.024801116669080248\n",
      "0.028861417664214573\n",
      "0.0157155626966059\n",
      "0.0002777087747056761\n",
      "0.033886446892928745\n",
      "0.02217328020575926\n",
      "0.0\n"
     ]
    }
   ],
   "source": [
    "# what are scores for the features\n",
    "feature_importance_scores_MI = []\n",
    "for i in range(len(fs_MI.scores_)):\n",
    "    scorelist_MI = print(fs_MI.scores_[i])"
   ]
  },
  {
   "cell_type": "code",
   "execution_count": 70,
   "id": "76a1349b",
   "metadata": {},
   "outputs": [
    {
     "name": "stdout",
     "output_type": "stream",
     "text": [
      "agea\n",
      "hinctnta\n",
      "eisced\n",
      "hhmmb\n",
      "eduyrs\n",
      "sclmeet\n",
      "wrkhome\n",
      "c19whome\n",
      "wrklong\n",
      "wrkresp\n",
      "c19whacc\n",
      "mansupp\n",
      "manwrkpl\n",
      "manspeak\n",
      "manscrn\n",
      "manphone\n",
      "mancom\n",
      "teamfeel\n",
      "wrkextra\n",
      "colprop\n",
      "colspeak\n",
      "colscrn\n",
      "colphone\n",
      "colcom\n",
      "c19spwrk\n",
      "c19mcwrk\n",
      "mcwrkhom\n",
      "uemp3m\n",
      "uemp12m\n",
      "uemp5yr\n",
      "emplrel\n",
      "hincfel\n",
      "gndr\n",
      "trdawrk\n",
      "jbprtfp\n",
      "pfmfdjba\n",
      "dcsfwrka\n",
      "c19wplch\n",
      "manhlp\n",
      "colhlp\n",
      "colscrn\n"
     ]
    }
   ],
   "source": [
    "for col in X_train:\n",
    "    print(col)"
   ]
  },
  {
   "cell_type": "code",
   "execution_count": 88,
   "id": "8c40cf62",
   "metadata": {},
   "outputs": [
    {
     "ename": "SyntaxError",
     "evalue": "invalid syntax (<ipython-input-88-1e0c4a9df657>, line 2)",
     "output_type": "error",
     "traceback": [
      "\u001b[0;36m  File \u001b[0;32m\"<ipython-input-88-1e0c4a9df657>\"\u001b[0;36m, line \u001b[0;32m2\u001b[0m\n\u001b[0;31m    i for i in range(len(fs_MI.scores_)):\u001b[0m\n\u001b[0m      ^\u001b[0m\n\u001b[0;31mSyntaxError\u001b[0m\u001b[0;31m:\u001b[0m invalid syntax\n"
     ]
    }
   ],
   "source": [
    "list = []\n",
    "for i in range(len(fs_MI.scores_)):\n",
    "    print(fs_MI.scores_)\n",
    "print(list)"
   ]
  },
  {
   "cell_type": "code",
   "execution_count": 91,
   "id": "551f1aa5",
   "metadata": {},
   "outputs": [
    {
     "data": {
      "image/png": "[encoded data removed]",
      "text/plain": [
       "<Figure size 432x288 with 1 Axes>"
      ]
     },
     "metadata": {
      "needs_background": "light"
     },
     "output_type": "display_data"
    }
   ],
   "source": [
    "pyplot.bar([i for i in range(len(fs_MI.scores_))], (fs_MI.scores_))\n",
    "pyplot.xlabel('Feature number')\n",
    "pyplot.ylabel('Mutual information score')\n",
    "pyplot.show()"
   ]
  },
  {
   "cell_type": "code",
   "execution_count": 96,
   "id": "71f8db19",
   "metadata": {},
   "outputs": [
    {
     "data": {
      "image/png": "[encoded data removed]",
      "text/plain": [
       "<Figure size 432x288 with 1 Axes>"
      ]
     },
     "metadata": {
      "needs_background": "light"
     },
     "output_type": "display_data"
    }
   ],
   "source": [
    "pyplot.bar([i for i in range(len(fs_MI.scores_))], sorted(fs_MI.scores_))\n",
    "pyplot.xlabel('Amount of features')\n",
    "pyplot.ylabel('Mutual information score')\n",
    "pyplot.show()"
   ]
  },
  {
   "cell_type": "code",
   "execution_count": null,
   "id": "747169df",
   "metadata": {},
   "outputs": [],
   "source": []
  },
  {
   "cell_type": "markdown",
   "id": "55a69d42",
   "metadata": {},
   "source": [
    "<font size=\"6\"> 6.b. Plot all relations with job satisfaction"
   ]
  },
  {
   "cell_type": "code",
   "execution_count": 62,
   "id": "0c521e68",
   "metadata": {},
   "outputs": [],
   "source": [
    "df = df_final"
   ]
  },
  {
   "cell_type": "code",
   "execution_count": 63,
   "id": "64da8b96",
   "metadata": {},
   "outputs": [
    {
     "data": {
      "text/plain": [
       "Text(0, 0.5, 'Percentage')"
      ]
     },
     "execution_count": 63,
     "metadata": {},
     "output_type": "execute_result"
    },
    {
     "data": {
      "image/png": "[encoded data removed]",
      "text/plain": [
       "<Figure size 432x288 with 1 Axes>"
      ]
     },
     "metadata": {
      "needs_background": "light"
     },
     "output_type": "display_data"
    }
   ],
   "source": [
    "x, y, hue = \"satisfaction\", \"proportion\", \"team feeling\"\n",
    "hue_order = ['satisfaction']\n",
    "\n",
    "plot_country = (df[x]\n",
    " .groupby(df[hue])\n",
    " .value_counts(normalize=True)\n",
    " .rename(y)\n",
    " .reset_index()\n",
    " .pipe((sns.barplot, \"data\"), x=x, y=y, hue=hue, palette = \"Set2\"))\n",
    "plt.xlabel('Satisfaction', fontsize = 12)\n",
    "plt.ylabel('Percentage', fontsize=12)"
   ]
  },
  {
   "cell_type": "code",
   "execution_count": 64,
   "id": "f633d147",
   "metadata": {},
   "outputs": [
    {
     "data": {
      "text/plain": [
       "Text(0, 0.5, 'Percentage')"
      ]
     },
     "execution_count": 64,
     "metadata": {},
     "output_type": "execute_result"
    },
    {
     "data": {
      "image/png": "[encoded data removed]",
      "text/plain": [
       "<Figure size 432x288 with 1 Axes>"
      ]
     },
     "metadata": {
      "needs_background": "light"
     },
     "output_type": "display_data"
    }
   ],
   "source": [
    "x, y, hue = \"satisfaction\", \"proportion\", \"manager support\"\n",
    "hue_order = ['satisfaction']\n",
    "\n",
    "plot_country = (df[x]\n",
    " .groupby(df[hue])\n",
    " .value_counts(normalize=True)\n",
    " .rename(y)\n",
    " .reset_index()\n",
    " .pipe((sns.barplot, \"data\"), x=x, y=y, hue=hue, palette = \"Set2\"))\n",
    "plt.xlabel('Satisfaction', fontsize = 12)\n",
    "plt.ylabel('Percentage', fontsize=12)"
   ]
  },
  {
   "cell_type": "code",
   "execution_count": 72,
   "id": "877d878b",
   "metadata": {},
   "outputs": [
    {
     "data": {
      "text/plain": [
       "Text(0, 0.5, 'Percentage')"
      ]
     },
     "execution_count": 72,
     "metadata": {},
     "output_type": "execute_result"
    },
    {
     "data": {
      "image/png": "[encoded data removed]",
      "text/plain": [
       "<Figure size 432x288 with 1 Axes>"
      ]
     },
     "metadata": {
      "needs_background": "light"
     },
     "output_type": "display_data"
    }
   ],
   "source": [
    "x, y, hue = \"satisfaction\", \"proportion\", \"work extra\"\n",
    "hue_order = ['satisfaction']\n",
    "\n",
    "plot_country = (df[x]\n",
    " .groupby(df[hue])\n",
    " .value_counts(normalize=True)\n",
    " .rename(y)\n",
    " .reset_index()\n",
    " .pipe((sns.barplot, \"data\"), x=x, y=y, hue=hue, palette = \"Set2\"))\n",
    "plt.xlabel('Satisfaction', fontsize = 12)\n",
    "plt.ylabel('Percentage', fontsize=12)"
   ]
  },
  {
   "cell_type": "code",
   "execution_count": 65,
   "id": "01cfc3b0",
   "metadata": {},
   "outputs": [
    {
     "data": {
      "text/plain": [
       "Text(0, 0.5, 'Percentage')"
      ]
     },
     "execution_count": 65,
     "metadata": {},
     "output_type": "execute_result"
    },
    {
     "data": {
      "image/png": "[encoded data removed]",
      "text/plain": [
       "<Figure size 432x288 with 1 Axes>"
      ]
     },
     "metadata": {
      "needs_background": "light"
     },
     "output_type": "display_data"
    }
   ],
   "source": [
    "x, y, hue = \"satisfaction\", \"proportion\", \"income feeling\"\n",
    "hue_order = ['satisfaction']\n",
    "\n",
    "plot_country = (df[x]\n",
    " .groupby(df[hue])\n",
    " .value_counts(normalize=True)\n",
    " .rename(y)\n",
    " .reset_index()\n",
    " .pipe((sns.barplot, \"data\"), x=x, y=y, hue=hue, palette = \"Set2\"))\n",
    "plt.xlabel('Satisfaction', fontsize = 12)\n",
    "plt.ylabel('Percentage', fontsize=12)"
   ]
  },
  {
   "cell_type": "code",
   "execution_count": 66,
   "id": "c5eda577",
   "metadata": {},
   "outputs": [
    {
     "data": {
      "text/plain": [
       "Text(0, 0.5, 'Percentage')"
      ]
     },
     "execution_count": 66,
     "metadata": {},
     "output_type": "execute_result"
    },
    {
     "data": {
      "image/png": "[encoded data removed]",
      "text/plain": [
       "<Figure size 432x288 with 1 Axes>"
      ]
     },
     "metadata": {
      "needs_background": "light"
     },
     "output_type": "display_data"
    }
   ],
   "source": [
    "x, y, hue = \"satisfaction\", \"proportion\", \"tired after work\"\n",
    "hue_order = ['satisfaction']\n",
    "\n",
    "plot_country = (df[x]\n",
    " .groupby(df[hue])\n",
    " .value_counts(normalize=True)\n",
    " .rename(y)\n",
    " .reset_index()\n",
    " .pipe((sns.barplot, \"data\"), x=x, y=y, hue=hue, palette = \"Set2\"))\n",
    "plt.xlabel('Satisfaction', fontsize = 12)\n",
    "plt.ylabel('Percentage', fontsize=12)"
   ]
  },
  {
   "cell_type": "code",
   "execution_count": 67,
   "id": "10cff953",
   "metadata": {},
   "outputs": [
    {
     "data": {
      "text/plain": [
       "Text(0, 0.5, 'Percentage')"
      ]
     },
     "execution_count": 67,
     "metadata": {},
     "output_type": "execute_result"
    },
    {
     "data": {
      "image/png": "[encoded data removed]",
      "text/plain": [
       "<Figure size 432x288 with 1 Axes>"
      ]
     },
     "metadata": {
      "needs_background": "light"
     },
     "output_type": "display_data"
    }
   ],
   "source": [
    "x, y, hue = \"satisfaction\", \"proportion\", \"manager help\"\n",
    "hue_order = ['satisfaction']\n",
    "\n",
    "plot_country = (df[x]\n",
    " .groupby(df[hue])\n",
    " .value_counts(normalize=True)\n",
    " .rename(y)\n",
    " .reset_index()\n",
    " .pipe((sns.barplot, \"data\"), x=x, y=y, hue=hue, palette = \"Set2\"))\n",
    "plt.xlabel('Satisfaction', fontsize = 12)\n",
    "plt.ylabel('Percentage', fontsize=12)"
   ]
  },
  {
   "cell_type": "code",
   "execution_count": 68,
   "id": "69bf73e9",
   "metadata": {},
   "outputs": [
    {
     "data": {
      "text/plain": [
       "Text(0, 0.5, 'Percentage')"
      ]
     },
     "execution_count": 68,
     "metadata": {},
     "output_type": "execute_result"
    },
    {
     "data": {
      "image/png": "[encoded data removed]",
      "text/plain": [
       "<Figure size 432x288 with 1 Axes>"
      ]
     },
     "metadata": {
      "needs_background": "light"
     },
     "output_type": "display_data"
    }
   ],
   "source": [
    "x, y, hue = \"satisfaction\", \"proportion\", \"remote facilitation\"\n",
    "hue_order = ['satisfaction']\n",
    "\n",
    "plot_country = (df[x]\n",
    " .groupby(df[hue])\n",
    " .value_counts(normalize=True)\n",
    " .rename(y)\n",
    " .reset_index()\n",
    " .pipe((sns.barplot, \"data\"), x=x, y=y, hue=hue, palette = \"Set2\"))\n",
    "plt.xlabel('Satisfaction', fontsize = 12)\n",
    "plt.ylabel('Percentage', fontsize=12)"
   ]
  },
  {
   "cell_type": "markdown",
   "id": "225d1925",
   "metadata": {},
   "source": [
    "<font size=\"4\">The plot below shows the relation between actual income decile and income feeling"
   ]
  },
  {
   "cell_type": "code",
   "execution_count": 69,
   "id": "6904a6aa",
   "metadata": {},
   "outputs": [
    {
     "data": {
      "text/plain": [
       "Text(0, 0.5, 'Percentage')"
      ]
     },
     "execution_count": 69,
     "metadata": {},
     "output_type": "execute_result"
    },
    {
     "data": {
      "image/png": "[encoded data removed]",
      "text/plain": [
       "<Figure size 432x288 with 1 Axes>"
      ]
     },
     "metadata": {
      "needs_background": "light"
     },
     "output_type": "display_data"
    }
   ],
   "source": [
    "x, y, hue = \"hinctnta\", \"proportion\", \"income feeling\"\n",
    "hue_order = ['hinctnta']\n",
    "\n",
    "plot_country = (df[x]\n",
    " .groupby(df[hue])\n",
    " .value_counts(normalize=True)\n",
    " .rename(y)\n",
    " .reset_index()\n",
    " .pipe((sns.barplot, \"data\"), x=x, y=y, hue=hue, palette = \"Set2\"))\n",
    "plt.xlabel('Income decile', fontsize = 12)\n",
    "plt.ylabel('Percentage', fontsize=12)"
   ]
  }
 ],
 "metadata": {
  "kernelspec": {
   "display_name": "Python 3",
   "language": "python",
   "name": "python3"
  },
  "language_info": {
   "codemirror_mode": {
    "name": "ipython",
    "version": 3
   },
   "file_extension": ".py",
   "mimetype": "text/x-python",
   "name": "python",
   "nbconvert_exporter": "python",
   "pygments_lexer": "ipython3",
   "version": "3.8.8"
  }
 },
 "nbformat": 4,
 "nbformat_minor": 5
}
